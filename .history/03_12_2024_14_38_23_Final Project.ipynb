{
 "cells": [
  {
   "cell_type": "markdown",
   "id": "93ed10dd-f9e8-4b83-973c-e6fca7041a77",
   "metadata": {},
   "source": [
    "## Exploring Key Factors Influencing GitHub Repository Popularity"
   ]
  },
  {
   "cell_type": "markdown",
   "id": "7ab9d1b9-1be3-4492-97a8-f3920677207d",
   "metadata": {},
   "source": [
    "What factors significantly influence the popularity of a repository (i.e., the number of Stars)? Can we predict the number of Stars a repository receives using these factors?"
   ]
  },
  {
   "cell_type": "code",
   "execution_count": 9,
   "id": "f32768bd-b833-4617-a95c-dda7c2e8e719",
   "metadata": {},
   "outputs": [
    {
     "name": "stderr",
     "output_type": "stream",
     "text": [
      "── \u001b[1mAttaching core tidyverse packages\u001b[22m ──────────────────────── tidyverse 2.0.0 ──\n",
      "\u001b[32m✔\u001b[39m \u001b[34mdplyr    \u001b[39m 1.1.4     \u001b[32m✔\u001b[39m \u001b[34mpurrr    \u001b[39m 1.0.2\n",
      "\u001b[32m✔\u001b[39m \u001b[34mforcats  \u001b[39m 1.0.0     \u001b[32m✔\u001b[39m \u001b[34mstringr  \u001b[39m 1.5.1\n",
      "\u001b[32m✔\u001b[39m \u001b[34mggplot2  \u001b[39m 3.5.1     \u001b[32m✔\u001b[39m \u001b[34mtibble   \u001b[39m 3.2.1\n",
      "\u001b[32m✔\u001b[39m \u001b[34mlubridate\u001b[39m 1.9.3     \u001b[32m✔\u001b[39m \u001b[34mtidyr    \u001b[39m 1.3.1\n",
      "── \u001b[1mConflicts\u001b[22m ────────────────────────────────────────── tidyverse_conflicts() ──\n",
      "\u001b[31m✖\u001b[39m \u001b[34mdplyr\u001b[39m::\u001b[32mfilter()\u001b[39m masks \u001b[34mstats\u001b[39m::filter()\n",
      "\u001b[31m✖\u001b[39m \u001b[34mdplyr\u001b[39m::\u001b[32mlag()\u001b[39m    masks \u001b[34mstats\u001b[39m::lag()\n",
      "\u001b[36mℹ\u001b[39m Use the conflicted package (\u001b[3m\u001b[34m<http://conflicted.r-lib.org/>\u001b[39m\u001b[23m) to force all conflicts to become errors\n"
     ]
    }
   ],
   "source": [
    "#Load library\n",
    "library(readr)\n",
    "library(tidyverse)"
   ]
  },
  {
   "cell_type": "code",
   "execution_count": 6,
   "id": "1516064c-6078-4ac7-b013-8d898c5db30e",
   "metadata": {},
   "outputs": [
    {
     "name": "stderr",
     "output_type": "stream",
     "text": [
      "\u001b[1mRows: \u001b[22m\u001b[34m215029\u001b[39m \u001b[1mColumns: \u001b[22m\u001b[34m24\u001b[39m\n",
      "\u001b[36m──\u001b[39m \u001b[1mColumn specification\u001b[22m \u001b[36m────────────────────────────────────────────────────────\u001b[39m\n",
      "\u001b[1mDelimiter:\u001b[22m \",\"\n",
      "\u001b[31mchr\u001b[39m  (8): Name, Description, URL, Homepage, Language, License, Topics, Defau...\n",
      "\u001b[32mdbl\u001b[39m  (5): Size, Stars, Forks, Issues, Watchers\n",
      "\u001b[33mlgl\u001b[39m  (9): Has Issues, Has Projects, Has Downloads, Has Wiki, Has Pages, Has ...\n",
      "\u001b[34mdttm\u001b[39m (2): Created At, Updated At\n",
      "\n",
      "\u001b[36mℹ\u001b[39m Use `spec()` to retrieve the full column specification for this data.\n",
      "\u001b[36mℹ\u001b[39m Specify the column types or set `show_col_types = FALSE` to quiet this message.\n"
     ]
    }
   ],
   "source": [
    "#Load dataset\n",
    "repositories <- read_csv(\"repositories.csv\")"
   ]
  },
  {
   "cell_type": "markdown",
   "id": "aa20ac63-d3fc-4b6e-bdae-d75e8d48a6a8",
   "metadata": {},
   "source": [
    "## Introduction"
   ]
  },
  {
   "cell_type": "markdown",
   "id": "5f116212-0d58-407c-adf2-d1c6683c0a3d",
   "metadata": {},
   "source": [
    "## Methods and Results"
   ]
  },
  {
   "cell_type": "markdown",
   "id": "217c77ec-f1c8-4810-801e-00a15a2a6d00",
   "metadata": {},
   "source": [
    "- Clean the dataset\n",
    "- (prediction)split training&test\n",
    "- forwards selection\n",
    "- fit the model\n",
    "- assumptions??\n",
    "- interpret their coefficients\n",
    "- (prediction) may be cross-valiation on the training set\n",
    "- (prediction) fit the model on the test set\n",
    "\n",
    "FEEL FREE TO EDIT!!"
   ]
  },
  {
   "cell_type": "code",
   "execution_count": 11,
   "id": "d001ab51-20f5-471e-b3b9-7cbd94375ed5",
   "metadata": {
    "scrolled": true
   },
   "outputs": [
    {
     "data": {
      "text/html": [
       "<style>\n",
       ".list-inline {list-style: none; margin:0; padding: 0}\n",
       ".list-inline>li {display: inline-block}\n",
       ".list-inline>li:not(:last-child)::after {content: \"\\00b7\"; padding: 0 .5ex}\n",
       "</style>\n",
       "<ol class=list-inline><li>'Name'</li><li>'Description'</li><li>'URL'</li><li>'Created At'</li><li>'Updated At'</li><li>'Homepage'</li><li>'Size'</li><li>'Stars'</li><li>'Forks'</li><li>'Issues'</li><li>'Watchers'</li><li>'Language'</li><li>'License'</li><li>'Topics'</li><li>'Has Issues'</li><li>'Has Projects'</li><li>'Has Downloads'</li><li>'Has Wiki'</li><li>'Has Pages'</li><li>'Has Discussions'</li><li>'Is Fork'</li><li>'Is Archived'</li><li>'Is Template'</li><li>'Default Branch'</li></ol>\n"
      ],
      "text/latex": [
       "\\begin{enumerate*}\n",
       "\\item 'Name'\n",
       "\\item 'Description'\n",
       "\\item 'URL'\n",
       "\\item 'Created At'\n",
       "\\item 'Updated At'\n",
       "\\item 'Homepage'\n",
       "\\item 'Size'\n",
       "\\item 'Stars'\n",
       "\\item 'Forks'\n",
       "\\item 'Issues'\n",
       "\\item 'Watchers'\n",
       "\\item 'Language'\n",
       "\\item 'License'\n",
       "\\item 'Topics'\n",
       "\\item 'Has Issues'\n",
       "\\item 'Has Projects'\n",
       "\\item 'Has Downloads'\n",
       "\\item 'Has Wiki'\n",
       "\\item 'Has Pages'\n",
       "\\item 'Has Discussions'\n",
       "\\item 'Is Fork'\n",
       "\\item 'Is Archived'\n",
       "\\item 'Is Template'\n",
       "\\item 'Default Branch'\n",
       "\\end{enumerate*}\n"
      ],
      "text/markdown": [
       "1. 'Name'\n",
       "2. 'Description'\n",
       "3. 'URL'\n",
       "4. 'Created At'\n",
       "5. 'Updated At'\n",
       "6. 'Homepage'\n",
       "7. 'Size'\n",
       "8. 'Stars'\n",
       "9. 'Forks'\n",
       "10. 'Issues'\n",
       "11. 'Watchers'\n",
       "12. 'Language'\n",
       "13. 'License'\n",
       "14. 'Topics'\n",
       "15. 'Has Issues'\n",
       "16. 'Has Projects'\n",
       "17. 'Has Downloads'\n",
       "18. 'Has Wiki'\n",
       "19. 'Has Pages'\n",
       "20. 'Has Discussions'\n",
       "21. 'Is Fork'\n",
       "22. 'Is Archived'\n",
       "23. 'Is Template'\n",
       "24. 'Default Branch'\n",
       "\n",
       "\n"
      ],
      "text/plain": [
       " [1] \"Name\"            \"Description\"     \"URL\"             \"Created At\"     \n",
       " [5] \"Updated At\"      \"Homepage\"        \"Size\"            \"Stars\"          \n",
       " [9] \"Forks\"           \"Issues\"          \"Watchers\"        \"Language\"       \n",
       "[13] \"License\"         \"Topics\"          \"Has Issues\"      \"Has Projects\"   \n",
       "[17] \"Has Downloads\"   \"Has Wiki\"        \"Has Pages\"       \"Has Discussions\"\n",
       "[21] \"Is Fork\"         \"Is Archived\"     \"Is Template\"     \"Default Branch\" "
      ]
     },
     "metadata": {},
     "output_type": "display_data"
    }
   ],
   "source": [
    "#Remove rows with missing values\n",
    "repositories_tidy <- repositories %>%\n",
    "    drop_na()\n",
    "colnames(repositories_tidy)"
   ]
  },
  {
   "cell_type": "code",
   "execution_count": 12,
   "id": "637e60f4-5eda-4b86-92b5-ce6e3403ed26",
   "metadata": {},
   "outputs": [
    {
     "ename": "ERROR",
     "evalue": "Error in initial_split(., prop = 0.6, strata = Stars): could not find function \"initial_split\"\n",
     "output_type": "error",
     "traceback": [
      "Error in initial_split(., prop = 0.6, strata = Stars): could not find function \"initial_split\"\nTraceback:\n",
      "1. repositories_tidy %>% initial_split(prop = 0.6, strata = Stars)"
     ]
    }
   ],
   "source": [
    "#Split the dataset in 0.6\n",
    "repositories_split <- \n",
    "    repositories_tidy %>%\n",
    "    initial_split(prop = 0.6, strata = Stars)"
   ]
  },
  {
   "cell_type": "markdown",
   "id": "828d6bce-75b4-486f-afdc-c10e626fa7b1",
   "metadata": {},
   "source": [
    "## Discussion"
   ]
  },
  {
   "cell_type": "markdown",
   "id": "978e86f8-daad-4993-b1fe-51b998d60340",
   "metadata": {},
   "source": [
    "## References"
   ]
  },
  {
   "cell_type": "code",
   "execution_count": null,
   "id": "7c76f666-e506-44b9-9b3a-70d90233ab49",
   "metadata": {},
   "outputs": [],
   "source": [
    "# test"
   ]
  }
 ],
 "metadata": {
  "kernelspec": {
   "display_name": "R",
   "language": "R",
   "name": "ir"
  },
  "language_info": {
   "codemirror_mode": "r",
   "file_extension": ".r",
   "mimetype": "text/x-r-source",
   "name": "R",
   "pygments_lexer": "r",
   "version": "4.3.3"
  }
 },
 "nbformat": 4,
 "nbformat_minor": 5
}
