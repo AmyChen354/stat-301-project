{
 "cells": [
  {
   "cell_type": "markdown",
   "id": "93ed10dd-f9e8-4b83-973c-e6fca7041a77",
   "metadata": {},
   "source": [
    "# Exploring Key Factors Influencing GitHub Repository Popularity"
   ]
  },
  {
   "cell_type": "markdown",
   "id": "7ab9d1b9-1be3-4492-97a8-f3920677207d",
   "metadata": {},
   "source": [
    "What factors significantly influence the popularity of a repository (i.e., the number of Stars)? Can we predict the number of Stars a repository receives using these factors?"
   ]
  },
  {
   "cell_type": "code",
   "execution_count": 30,
   "id": "f32768bd-b833-4617-a95c-dda7c2e8e719",
   "metadata": {},
   "outputs": [],
   "source": [
    "#Load library\n",
    "library(readr)\n",
    "library(rsample)\n",
    "library(broom)\n",
    "library(latex2exp)\n",
    "library(tidymodels)\n",
    "library(repr)\n",
    "library(gridExtra)\n",
    "library(faraway)\n",
    "library(mltools)\n",
    "library(leaps)\n",
    "library(glmnet)\n",
    "library(cowplot)\n",
    "library(tidyverse)\n",
    "library(modelr)"
   ]
  },
  {
   "cell_type": "code",
   "execution_count": 31,
   "id": "1516064c-6078-4ac7-b013-8d898c5db30e",
   "metadata": {},
   "outputs": [],
   "source": [
    "#Load dataset\n",
    "repositories <- read.csv(\"repositories.csv\")"
   ]
  },
  {
   "cell_type": "markdown",
   "id": "aa20ac63-d3fc-4b6e-bdae-d75e8d48a6a8",
   "metadata": {},
   "source": [
    "## Introduction"
   ]
  },
  {
   "cell_type": "markdown",
   "id": "5f116212-0d58-407c-adf2-d1c6683c0a3d",
   "metadata": {},
   "source": [
    "## Methods and Results"
   ]
  },
  {
   "cell_type": "markdown",
   "id": "217c77ec-f1c8-4810-801e-00a15a2a6d00",
   "metadata": {},
   "source": [
    "- Clean the dataset\n",
    "- data description + EDA\n",
    "- (prediction)split training&test\n",
    "- baseline model? can we use the full model rather than the simple model as the baseline since we are taking forward selection?\n",
    "- forward selection\n",
    "- fit the model\n",
    "- assumptions??\n",
    "- interpret their coefficients\n",
    "- (prediction) maybe cross-valiation on the training set\n",
    "- (prediction) test the model on the test set\n",
    "\n",
    "FEEL FREE TO EDIT!!"
   ]
  },
  {
   "cell_type": "code",
   "execution_count": 32,
   "id": "3ce13e9f-2fd7-4008-a5a6-06ba86ddc8e8",
   "metadata": {},
   "outputs": [
    {
     "data": {
      "text/html": [
       "<table class=\"dataframe\">\n",
       "<caption>A data.frame: 6 × 24</caption>\n",
       "<thead>\n",
       "\t<tr><th></th><th scope=col>Name</th><th scope=col>Description</th><th scope=col>URL</th><th scope=col>Created.At</th><th scope=col>Updated.At</th><th scope=col>Homepage</th><th scope=col>Size</th><th scope=col>Stars</th><th scope=col>Forks</th><th scope=col>Issues</th><th scope=col>⋯</th><th scope=col>Has.Issues</th><th scope=col>Has.Projects</th><th scope=col>Has.Downloads</th><th scope=col>Has.Wiki</th><th scope=col>Has.Pages</th><th scope=col>Has.Discussions</th><th scope=col>Is.Fork</th><th scope=col>Is.Archived</th><th scope=col>Is.Template</th><th scope=col>Default.Branch</th></tr>\n",
       "\t<tr><th></th><th scope=col>&lt;chr&gt;</th><th scope=col>&lt;chr&gt;</th><th scope=col>&lt;chr&gt;</th><th scope=col>&lt;chr&gt;</th><th scope=col>&lt;chr&gt;</th><th scope=col>&lt;chr&gt;</th><th scope=col>&lt;int&gt;</th><th scope=col>&lt;int&gt;</th><th scope=col>&lt;int&gt;</th><th scope=col>&lt;int&gt;</th><th scope=col>⋯</th><th scope=col>&lt;chr&gt;</th><th scope=col>&lt;chr&gt;</th><th scope=col>&lt;chr&gt;</th><th scope=col>&lt;chr&gt;</th><th scope=col>&lt;chr&gt;</th><th scope=col>&lt;chr&gt;</th><th scope=col>&lt;chr&gt;</th><th scope=col>&lt;chr&gt;</th><th scope=col>&lt;chr&gt;</th><th scope=col>&lt;chr&gt;</th></tr>\n",
       "</thead>\n",
       "<tbody>\n",
       "\t<tr><th scope=row>1</th><td>freeCodeCamp               </td><td>freeCodeCamp.org's open-source codebase and curriculum. Learn to code for free.         </td><td>https://github.com/freeCodeCamp/freeCodeCamp             </td><td>2014-12-24T17:49:19Z</td><td>2023-09-21T11:32:33Z</td><td>http://contribute.freecodecamp.org/                      </td><td>387451</td><td>374074</td><td>33599</td><td>  248</td><td>⋯</td><td>True </td><td>True </td><td>True</td><td>False</td><td>True </td><td>False</td><td>False</td><td>False</td><td>False</td><td>main  </td></tr>\n",
       "\t<tr><th scope=row>2</th><td>free-programming-books     </td><td>:books: Freely available programming books                                              </td><td>https://github.com/EbookFoundation/free-programming-books</td><td>2013-10-11T06:50:37Z</td><td>2023-09-21T11:09:25Z</td><td>https://ebookfoundation.github.io/free-programming-books/</td><td> 17087</td><td>298393</td><td>57194</td><td>   46</td><td>⋯</td><td>True </td><td>False</td><td>True</td><td>False</td><td>True </td><td>False</td><td>False</td><td>False</td><td>False</td><td>main  </td></tr>\n",
       "\t<tr><th scope=row>3</th><td>awesome                    </td><td>😎 Awesome lists about all kinds of interesting topics                                  </td><td>https://github.com/sindresorhus/awesome                  </td><td>2014-07-11T13:42:37Z</td><td>2023-09-21T11:18:22Z</td><td>                                                         </td><td>  1441</td><td>269997</td><td>26485</td><td>   61</td><td>⋯</td><td>True </td><td>False</td><td>True</td><td>False</td><td>True </td><td>False</td><td>False</td><td>False</td><td>False</td><td>main  </td></tr>\n",
       "\t<tr><th scope=row>4</th><td>996.ICU                    </td><td>Repo for counting stars and contributing. Press F to pay respect to glorious developers.</td><td>https://github.com/996icu/996.ICU                        </td><td>2019-03-26T07:31:14Z</td><td>2023-09-21T08:09:01Z</td><td>https://996.icu                                          </td><td>187799</td><td>267901</td><td>21497</td><td>16712</td><td>⋯</td><td>False</td><td>False</td><td>True</td><td>False</td><td>False</td><td>False</td><td>False</td><td>True </td><td>False</td><td>master</td></tr>\n",
       "\t<tr><th scope=row>5</th><td>coding-interview-university</td><td>A complete computer science study plan to become a software engineer.                   </td><td>https://github.com/jwasham/coding-interview-university   </td><td>2016-06-06T02:34:12Z</td><td>2023-09-21T10:54:48Z</td><td>                                                         </td><td> 20998</td><td>265161</td><td>69434</td><td>   56</td><td>⋯</td><td>True </td><td>False</td><td>True</td><td>False</td><td>False</td><td>False</td><td>False</td><td>False</td><td>False</td><td>main  </td></tr>\n",
       "\t<tr><th scope=row>6</th><td>public-apis                </td><td>A collective list of free APIs                                                          </td><td>https://github.com/public-apis/public-apis               </td><td>2016-03-20T23:49:42Z</td><td>2023-09-21T11:22:06Z</td><td>http://public-apis.org                                   </td><td>  5088</td><td>256615</td><td>29254</td><td>  191</td><td>⋯</td><td>True </td><td>False</td><td>True</td><td>False</td><td>False</td><td>False</td><td>False</td><td>False</td><td>False</td><td>master</td></tr>\n",
       "</tbody>\n",
       "</table>\n"
      ],
      "text/latex": [
       "A data.frame: 6 × 24\n",
       "\\begin{tabular}{r|lllllllllllllllllllll}\n",
       "  & Name & Description & URL & Created.At & Updated.At & Homepage & Size & Stars & Forks & Issues & ⋯ & Has.Issues & Has.Projects & Has.Downloads & Has.Wiki & Has.Pages & Has.Discussions & Is.Fork & Is.Archived & Is.Template & Default.Branch\\\\\n",
       "  & <chr> & <chr> & <chr> & <chr> & <chr> & <chr> & <int> & <int> & <int> & <int> & ⋯ & <chr> & <chr> & <chr> & <chr> & <chr> & <chr> & <chr> & <chr> & <chr> & <chr>\\\\\n",
       "\\hline\n",
       "\t1 & freeCodeCamp                & freeCodeCamp.org's open-source codebase and curriculum. Learn to code for free.          & https://github.com/freeCodeCamp/freeCodeCamp              & 2014-12-24T17:49:19Z & 2023-09-21T11:32:33Z & http://contribute.freecodecamp.org/                       & 387451 & 374074 & 33599 &   248 & ⋯ & True  & True  & True & False & True  & False & False & False & False & main  \\\\\n",
       "\t2 & free-programming-books      & :books: Freely available programming books                                               & https://github.com/EbookFoundation/free-programming-books & 2013-10-11T06:50:37Z & 2023-09-21T11:09:25Z & https://ebookfoundation.github.io/free-programming-books/ &  17087 & 298393 & 57194 &    46 & ⋯ & True  & False & True & False & True  & False & False & False & False & main  \\\\\n",
       "\t3 & awesome                     & 😎 Awesome lists about all kinds of interesting topics                                   & https://github.com/sindresorhus/awesome                   & 2014-07-11T13:42:37Z & 2023-09-21T11:18:22Z &                                                           &   1441 & 269997 & 26485 &    61 & ⋯ & True  & False & True & False & True  & False & False & False & False & main  \\\\\n",
       "\t4 & 996.ICU                     & Repo for counting stars and contributing. Press F to pay respect to glorious developers. & https://github.com/996icu/996.ICU                         & 2019-03-26T07:31:14Z & 2023-09-21T08:09:01Z & https://996.icu                                           & 187799 & 267901 & 21497 & 16712 & ⋯ & False & False & True & False & False & False & False & True  & False & master\\\\\n",
       "\t5 & coding-interview-university & A complete computer science study plan to become a software engineer.                    & https://github.com/jwasham/coding-interview-university    & 2016-06-06T02:34:12Z & 2023-09-21T10:54:48Z &                                                           &  20998 & 265161 & 69434 &    56 & ⋯ & True  & False & True & False & False & False & False & False & False & main  \\\\\n",
       "\t6 & public-apis                 & A collective list of free APIs                                                           & https://github.com/public-apis/public-apis                & 2016-03-20T23:49:42Z & 2023-09-21T11:22:06Z & http://public-apis.org                                    &   5088 & 256615 & 29254 &   191 & ⋯ & True  & False & True & False & False & False & False & False & False & master\\\\\n",
       "\\end{tabular}\n"
      ],
      "text/markdown": [
       "\n",
       "A data.frame: 6 × 24\n",
       "\n",
       "| <!--/--> | Name &lt;chr&gt; | Description &lt;chr&gt; | URL &lt;chr&gt; | Created.At &lt;chr&gt; | Updated.At &lt;chr&gt; | Homepage &lt;chr&gt; | Size &lt;int&gt; | Stars &lt;int&gt; | Forks &lt;int&gt; | Issues &lt;int&gt; | ⋯ ⋯ | Has.Issues &lt;chr&gt; | Has.Projects &lt;chr&gt; | Has.Downloads &lt;chr&gt; | Has.Wiki &lt;chr&gt; | Has.Pages &lt;chr&gt; | Has.Discussions &lt;chr&gt; | Is.Fork &lt;chr&gt; | Is.Archived &lt;chr&gt; | Is.Template &lt;chr&gt; | Default.Branch &lt;chr&gt; |\n",
       "|---|---|---|---|---|---|---|---|---|---|---|---|---|---|---|---|---|---|---|---|---|---|\n",
       "| 1 | freeCodeCamp                | freeCodeCamp.org's open-source codebase and curriculum. Learn to code for free.          | https://github.com/freeCodeCamp/freeCodeCamp              | 2014-12-24T17:49:19Z | 2023-09-21T11:32:33Z | http://contribute.freecodecamp.org/                       | 387451 | 374074 | 33599 |   248 | ⋯ | True  | True  | True | False | True  | False | False | False | False | main   |\n",
       "| 2 | free-programming-books      | :books: Freely available programming books                                               | https://github.com/EbookFoundation/free-programming-books | 2013-10-11T06:50:37Z | 2023-09-21T11:09:25Z | https://ebookfoundation.github.io/free-programming-books/ |  17087 | 298393 | 57194 |    46 | ⋯ | True  | False | True | False | True  | False | False | False | False | main   |\n",
       "| 3 | awesome                     | 😎 Awesome lists about all kinds of interesting topics                                   | https://github.com/sindresorhus/awesome                   | 2014-07-11T13:42:37Z | 2023-09-21T11:18:22Z | <!----> |   1441 | 269997 | 26485 |    61 | ⋯ | True  | False | True | False | True  | False | False | False | False | main   |\n",
       "| 4 | 996.ICU                     | Repo for counting stars and contributing. Press F to pay respect to glorious developers. | https://github.com/996icu/996.ICU                         | 2019-03-26T07:31:14Z | 2023-09-21T08:09:01Z | https://996.icu                                           | 187799 | 267901 | 21497 | 16712 | ⋯ | False | False | True | False | False | False | False | True  | False | master |\n",
       "| 5 | coding-interview-university | A complete computer science study plan to become a software engineer.                    | https://github.com/jwasham/coding-interview-university    | 2016-06-06T02:34:12Z | 2023-09-21T10:54:48Z | <!----> |  20998 | 265161 | 69434 |    56 | ⋯ | True  | False | True | False | False | False | False | False | False | main   |\n",
       "| 6 | public-apis                 | A collective list of free APIs                                                           | https://github.com/public-apis/public-apis                | 2016-03-20T23:49:42Z | 2023-09-21T11:22:06Z | http://public-apis.org                                    |   5088 | 256615 | 29254 |   191 | ⋯ | True  | False | True | False | False | False | False | False | False | master |\n",
       "\n"
      ],
      "text/plain": [
       "  Name                       \n",
       "1 freeCodeCamp               \n",
       "2 free-programming-books     \n",
       "3 awesome                    \n",
       "4 996.ICU                    \n",
       "5 coding-interview-university\n",
       "6 public-apis                \n",
       "  Description                                                                             \n",
       "1 freeCodeCamp.org's open-source codebase and curriculum. Learn to code for free.         \n",
       "2 :books: Freely available programming books                                              \n",
       "3 😎 Awesome lists about all kinds of interesting topics                                  \n",
       "4 Repo for counting stars and contributing. Press F to pay respect to glorious developers.\n",
       "5 A complete computer science study plan to become a software engineer.                   \n",
       "6 A collective list of free APIs                                                          \n",
       "  URL                                                      \n",
       "1 https://github.com/freeCodeCamp/freeCodeCamp             \n",
       "2 https://github.com/EbookFoundation/free-programming-books\n",
       "3 https://github.com/sindresorhus/awesome                  \n",
       "4 https://github.com/996icu/996.ICU                        \n",
       "5 https://github.com/jwasham/coding-interview-university   \n",
       "6 https://github.com/public-apis/public-apis               \n",
       "  Created.At           Updated.At          \n",
       "1 2014-12-24T17:49:19Z 2023-09-21T11:32:33Z\n",
       "2 2013-10-11T06:50:37Z 2023-09-21T11:09:25Z\n",
       "3 2014-07-11T13:42:37Z 2023-09-21T11:18:22Z\n",
       "4 2019-03-26T07:31:14Z 2023-09-21T08:09:01Z\n",
       "5 2016-06-06T02:34:12Z 2023-09-21T10:54:48Z\n",
       "6 2016-03-20T23:49:42Z 2023-09-21T11:22:06Z\n",
       "  Homepage                                                  Size   Stars  Forks\n",
       "1 http://contribute.freecodecamp.org/                       387451 374074 33599\n",
       "2 https://ebookfoundation.github.io/free-programming-books/  17087 298393 57194\n",
       "3                                                             1441 269997 26485\n",
       "4 https://996.icu                                           187799 267901 21497\n",
       "5                                                            20998 265161 69434\n",
       "6 http://public-apis.org                                      5088 256615 29254\n",
       "  Issues ⋯ Has.Issues Has.Projects Has.Downloads Has.Wiki Has.Pages\n",
       "1   248  ⋯ True       True         True          False    True     \n",
       "2    46  ⋯ True       False        True          False    True     \n",
       "3    61  ⋯ True       False        True          False    True     \n",
       "4 16712  ⋯ False      False        True          False    False    \n",
       "5    56  ⋯ True       False        True          False    False    \n",
       "6   191  ⋯ True       False        True          False    False    \n",
       "  Has.Discussions Is.Fork Is.Archived Is.Template Default.Branch\n",
       "1 False           False   False       False       main          \n",
       "2 False           False   False       False       main          \n",
       "3 False           False   False       False       main          \n",
       "4 False           False   True        False       master        \n",
       "5 False           False   False       False       main          \n",
       "6 False           False   False       False       master        "
      ]
     },
     "metadata": {},
     "output_type": "display_data"
    }
   ],
   "source": [
    "head(repositories)"
   ]
  },
  {
   "cell_type": "code",
   "execution_count": 33,
   "id": "d001ab51-20f5-471e-b3b9-7cbd94375ed5",
   "metadata": {
    "scrolled": true
   },
   "outputs": [
    {
     "data": {
      "text/html": [
       "<style>\n",
       ".list-inline {list-style: none; margin:0; padding: 0}\n",
       ".list-inline>li {display: inline-block}\n",
       ".list-inline>li:not(:last-child)::after {content: \"\\00b7\"; padding: 0 .5ex}\n",
       "</style>\n",
       "<ol class=list-inline><li>'Name'</li><li>'Description'</li><li>'URL'</li><li>'Created.At'</li><li>'Updated.At'</li><li>'Homepage'</li><li>'Size'</li><li>'Stars'</li><li>'Forks'</li><li>'Issues'</li><li>'Watchers'</li><li>'Language'</li><li>'License'</li><li>'Topics'</li><li>'Has.Issues'</li><li>'Has.Projects'</li><li>'Has.Downloads'</li><li>'Has.Wiki'</li><li>'Has.Pages'</li><li>'Has.Discussions'</li><li>'Is.Fork'</li><li>'Is.Archived'</li><li>'Is.Template'</li><li>'Default.Branch'</li></ol>\n"
      ],
      "text/latex": [
       "\\begin{enumerate*}\n",
       "\\item 'Name'\n",
       "\\item 'Description'\n",
       "\\item 'URL'\n",
       "\\item 'Created.At'\n",
       "\\item 'Updated.At'\n",
       "\\item 'Homepage'\n",
       "\\item 'Size'\n",
       "\\item 'Stars'\n",
       "\\item 'Forks'\n",
       "\\item 'Issues'\n",
       "\\item 'Watchers'\n",
       "\\item 'Language'\n",
       "\\item 'License'\n",
       "\\item 'Topics'\n",
       "\\item 'Has.Issues'\n",
       "\\item 'Has.Projects'\n",
       "\\item 'Has.Downloads'\n",
       "\\item 'Has.Wiki'\n",
       "\\item 'Has.Pages'\n",
       "\\item 'Has.Discussions'\n",
       "\\item 'Is.Fork'\n",
       "\\item 'Is.Archived'\n",
       "\\item 'Is.Template'\n",
       "\\item 'Default.Branch'\n",
       "\\end{enumerate*}\n"
      ],
      "text/markdown": [
       "1. 'Name'\n",
       "2. 'Description'\n",
       "3. 'URL'\n",
       "4. 'Created.At'\n",
       "5. 'Updated.At'\n",
       "6. 'Homepage'\n",
       "7. 'Size'\n",
       "8. 'Stars'\n",
       "9. 'Forks'\n",
       "10. 'Issues'\n",
       "11. 'Watchers'\n",
       "12. 'Language'\n",
       "13. 'License'\n",
       "14. 'Topics'\n",
       "15. 'Has.Issues'\n",
       "16. 'Has.Projects'\n",
       "17. 'Has.Downloads'\n",
       "18. 'Has.Wiki'\n",
       "19. 'Has.Pages'\n",
       "20. 'Has.Discussions'\n",
       "21. 'Is.Fork'\n",
       "22. 'Is.Archived'\n",
       "23. 'Is.Template'\n",
       "24. 'Default.Branch'\n",
       "\n",
       "\n"
      ],
      "text/plain": [
       " [1] \"Name\"            \"Description\"     \"URL\"             \"Created.At\"     \n",
       " [5] \"Updated.At\"      \"Homepage\"        \"Size\"            \"Stars\"          \n",
       " [9] \"Forks\"           \"Issues\"          \"Watchers\"        \"Language\"       \n",
       "[13] \"License\"         \"Topics\"          \"Has.Issues\"      \"Has.Projects\"   \n",
       "[17] \"Has.Downloads\"   \"Has.Wiki\"        \"Has.Pages\"       \"Has.Discussions\"\n",
       "[21] \"Is.Fork\"         \"Is.Archived\"     \"Is.Template\"     \"Default.Branch\" "
      ]
     },
     "metadata": {},
     "output_type": "display_data"
    }
   ],
   "source": [
    "#Remove rows with missing values\n",
    "repo_tidy <- repositories %>%\n",
    "    drop_na()\n",
    "colnames(repo_tidy)"
   ]
  },
  {
   "cell_type": "code",
   "execution_count": 34,
   "id": "e5323456-6a71-4519-823a-83790b7d8974",
   "metadata": {},
   "outputs": [
    {
     "data": {
      "text/html": [
       "<table class=\"dataframe\">\n",
       "<caption>A data.frame: 6 × 12</caption>\n",
       "<thead>\n",
       "\t<tr><th></th><th scope=col>Size</th><th scope=col>Stars</th><th scope=col>Forks</th><th scope=col>Issues</th><th scope=col>Has.Issues</th><th scope=col>Has.Projects</th><th scope=col>Has.Downloads</th><th scope=col>Has.Wiki</th><th scope=col>Has.Pages</th><th scope=col>Has.Discussions</th><th scope=col>Is.Archived</th><th scope=col>Is.Template</th></tr>\n",
       "\t<tr><th></th><th scope=col>&lt;int&gt;</th><th scope=col>&lt;int&gt;</th><th scope=col>&lt;int&gt;</th><th scope=col>&lt;int&gt;</th><th scope=col>&lt;fct&gt;</th><th scope=col>&lt;fct&gt;</th><th scope=col>&lt;fct&gt;</th><th scope=col>&lt;fct&gt;</th><th scope=col>&lt;fct&gt;</th><th scope=col>&lt;fct&gt;</th><th scope=col>&lt;fct&gt;</th><th scope=col>&lt;fct&gt;</th></tr>\n",
       "</thead>\n",
       "<tbody>\n",
       "\t<tr><th scope=row>1</th><td>387451</td><td>374074</td><td>33599</td><td>  248</td><td>True </td><td>True </td><td>True</td><td>False</td><td>True </td><td>False</td><td>False</td><td>False</td></tr>\n",
       "\t<tr><th scope=row>2</th><td> 17087</td><td>298393</td><td>57194</td><td>   46</td><td>True </td><td>False</td><td>True</td><td>False</td><td>True </td><td>False</td><td>False</td><td>False</td></tr>\n",
       "\t<tr><th scope=row>3</th><td>  1441</td><td>269997</td><td>26485</td><td>   61</td><td>True </td><td>False</td><td>True</td><td>False</td><td>True </td><td>False</td><td>False</td><td>False</td></tr>\n",
       "\t<tr><th scope=row>4</th><td>187799</td><td>267901</td><td>21497</td><td>16712</td><td>False</td><td>False</td><td>True</td><td>False</td><td>False</td><td>False</td><td>True </td><td>False</td></tr>\n",
       "\t<tr><th scope=row>5</th><td> 20998</td><td>265161</td><td>69434</td><td>   56</td><td>True </td><td>False</td><td>True</td><td>False</td><td>False</td><td>False</td><td>False</td><td>False</td></tr>\n",
       "\t<tr><th scope=row>6</th><td>  5088</td><td>256615</td><td>29254</td><td>  191</td><td>True </td><td>False</td><td>True</td><td>False</td><td>False</td><td>False</td><td>False</td><td>False</td></tr>\n",
       "</tbody>\n",
       "</table>\n"
      ],
      "text/latex": [
       "A data.frame: 6 × 12\n",
       "\\begin{tabular}{r|llllllllllll}\n",
       "  & Size & Stars & Forks & Issues & Has.Issues & Has.Projects & Has.Downloads & Has.Wiki & Has.Pages & Has.Discussions & Is.Archived & Is.Template\\\\\n",
       "  & <int> & <int> & <int> & <int> & <fct> & <fct> & <fct> & <fct> & <fct> & <fct> & <fct> & <fct>\\\\\n",
       "\\hline\n",
       "\t1 & 387451 & 374074 & 33599 &   248 & True  & True  & True & False & True  & False & False & False\\\\\n",
       "\t2 &  17087 & 298393 & 57194 &    46 & True  & False & True & False & True  & False & False & False\\\\\n",
       "\t3 &   1441 & 269997 & 26485 &    61 & True  & False & True & False & True  & False & False & False\\\\\n",
       "\t4 & 187799 & 267901 & 21497 & 16712 & False & False & True & False & False & False & True  & False\\\\\n",
       "\t5 &  20998 & 265161 & 69434 &    56 & True  & False & True & False & False & False & False & False\\\\\n",
       "\t6 &   5088 & 256615 & 29254 &   191 & True  & False & True & False & False & False & False & False\\\\\n",
       "\\end{tabular}\n"
      ],
      "text/markdown": [
       "\n",
       "A data.frame: 6 × 12\n",
       "\n",
       "| <!--/--> | Size &lt;int&gt; | Stars &lt;int&gt; | Forks &lt;int&gt; | Issues &lt;int&gt; | Has.Issues &lt;fct&gt; | Has.Projects &lt;fct&gt; | Has.Downloads &lt;fct&gt; | Has.Wiki &lt;fct&gt; | Has.Pages &lt;fct&gt; | Has.Discussions &lt;fct&gt; | Is.Archived &lt;fct&gt; | Is.Template &lt;fct&gt; |\n",
       "|---|---|---|---|---|---|---|---|---|---|---|---|---|\n",
       "| 1 | 387451 | 374074 | 33599 |   248 | True  | True  | True | False | True  | False | False | False |\n",
       "| 2 |  17087 | 298393 | 57194 |    46 | True  | False | True | False | True  | False | False | False |\n",
       "| 3 |   1441 | 269997 | 26485 |    61 | True  | False | True | False | True  | False | False | False |\n",
       "| 4 | 187799 | 267901 | 21497 | 16712 | False | False | True | False | False | False | True  | False |\n",
       "| 5 |  20998 | 265161 | 69434 |    56 | True  | False | True | False | False | False | False | False |\n",
       "| 6 |   5088 | 256615 | 29254 |   191 | True  | False | True | False | False | False | False | False |\n",
       "\n"
      ],
      "text/plain": [
       "  Size   Stars  Forks Issues Has.Issues Has.Projects Has.Downloads Has.Wiki\n",
       "1 387451 374074 33599   248  True       True         True          False   \n",
       "2  17087 298393 57194    46  True       False        True          False   \n",
       "3   1441 269997 26485    61  True       False        True          False   \n",
       "4 187799 267901 21497 16712  False      False        True          False   \n",
       "5  20998 265161 69434    56  True       False        True          False   \n",
       "6   5088 256615 29254   191  True       False        True          False   \n",
       "  Has.Pages Has.Discussions Is.Archived Is.Template\n",
       "1 True      False           False       False      \n",
       "2 True      False           False       False      \n",
       "3 True      False           False       False      \n",
       "4 False     False           True        False      \n",
       "5 False     False           False       False      \n",
       "6 False     False           False       False      "
      ]
     },
     "metadata": {},
     "output_type": "display_data"
    }
   ],
   "source": [
    "# !!! here is my code for data wrangling where i also change the binary variables into `factor` type, \n",
    "# and i remove some of the input variables\n",
    "\n",
    "# i have not run this code so feel free to share your wrangling method and code\n",
    "# or rewrite this part especially for the preliminary variable selection part!!\n",
    "data_repo_clean <- repo_tidy %>%\n",
    "  mutate(across(c(Has.Issues, Has.Projects, Has.Downloads, Has.Wiki, Has.Pages, \n",
    "                  Has.Discussions, Is.Archived, Is.Template), as.factor)) %>%\n",
    "  select(Size, Stars, Forks, Issues, Has.Issues, Has.Projects, Has.Downloads, Has.Wiki, Has.Pages, Has.Discussions, Is.Archived, Is.Template)\n",
    "\n",
    "head(data_repo_clean)"
   ]
  },
  {
   "cell_type": "markdown",
   "id": "3728966a-b2cf-4715-bd36-037eca43bbee",
   "metadata": {},
   "source": [
    "#### data split"
   ]
  },
  {
   "cell_type": "code",
   "execution_count": 35,
   "id": "637e60f4-5eda-4b86-92b5-ce6e3403ed26",
   "metadata": {},
   "outputs": [],
   "source": [
    "#Split the dataset in 0.6\n",
    "set.seed(123)\n",
    "\n",
    "repo_split <- \n",
    "    data_repo_clean %>%\n",
    "    initial_split(prop = 0.6, strata = Stars)\n",
    "\n",
    "training_repo <- training(repo_split)\n",
    "testing_repo <- testing(repo_split)"
   ]
  },
  {
   "cell_type": "markdown",
   "id": "23aafb88-359e-4108-8e14-c537445edaf9",
   "metadata": {},
   "source": [
    "#### baseline model"
   ]
  },
  {
   "cell_type": "code",
   "execution_count": 36,
   "id": "f6ff189a-29a7-4231-ba99-c3b04d32f30a",
   "metadata": {},
   "outputs": [
    {
     "data": {
      "text/html": [
       "<table class=\"dataframe\">\n",
       "<caption>A tibble: 12 × 5</caption>\n",
       "<thead>\n",
       "\t<tr><th scope=col>term</th><th scope=col>estimate</th><th scope=col>std.error</th><th scope=col>statistic</th><th scope=col>p.value</th></tr>\n",
       "\t<tr><th scope=col>&lt;chr&gt;</th><th scope=col>&lt;dbl&gt;</th><th scope=col>&lt;dbl&gt;</th><th scope=col>&lt;dbl&gt;</th><th scope=col>&lt;dbl&gt;</th></tr>\n",
       "</thead>\n",
       "<tbody>\n",
       "\t<tr><td>(Intercept)        </td><td> 1.113818e+03</td><td>1.039536e+02</td><td> 10.7145697</td><td> 8.924855e-27</td></tr>\n",
       "\t<tr><td>Size               </td><td> 3.378433e-06</td><td>1.254491e-05</td><td>  0.2693071</td><td> 7.876938e-01</td></tr>\n",
       "\t<tr><td>Forks              </td><td> 1.656748e+00</td><td>7.217402e-03</td><td>229.5490060</td><td> 0.000000e+00</td></tr>\n",
       "\t<tr><td>Issues             </td><td> 2.756035e+00</td><td>4.558267e-02</td><td> 60.4623581</td><td> 0.000000e+00</td></tr>\n",
       "\t<tr><td>Has.IssuesTrue     </td><td> 2.399161e+01</td><td>5.301769e+01</td><td>  0.4525209</td><td> 6.508945e-01</td></tr>\n",
       "\t<tr><td>Has.ProjectsTrue   </td><td>-2.563964e+02</td><td>3.292043e+01</td><td> -7.7883674</td><td> 6.838210e-15</td></tr>\n",
       "\t<tr><td>Has.DownloadsTrue  </td><td>-2.464407e+02</td><td>9.448540e+01</td><td> -2.6082410</td><td> 9.101935e-03</td></tr>\n",
       "\t<tr><td>Has.WikiTrue       </td><td>-2.201769e+02</td><td>2.810511e+01</td><td> -7.8340519</td><td> 4.759655e-15</td></tr>\n",
       "\t<tr><td>Has.PagesTrue      </td><td> 2.217952e+02</td><td>2.367166e+01</td><td>  9.3696515</td><td> 7.389200e-21</td></tr>\n",
       "\t<tr><td>Has.DiscussionsTrue</td><td> 7.682286e+02</td><td>2.773443e+01</td><td> 27.6994580</td><td>2.214656e-168</td></tr>\n",
       "\t<tr><td>Is.ArchivedTrue    </td><td>-1.402855e+02</td><td>3.674903e+01</td><td> -3.8173918</td><td> 1.349329e-04</td></tr>\n",
       "\t<tr><td>Is.TemplateTrue    </td><td>-4.092400e+02</td><td>1.140407e+02</td><td> -3.5885422</td><td> 3.326552e-04</td></tr>\n",
       "</tbody>\n",
       "</table>\n"
      ],
      "text/latex": [
       "A tibble: 12 × 5\n",
       "\\begin{tabular}{lllll}\n",
       " term & estimate & std.error & statistic & p.value\\\\\n",
       " <chr> & <dbl> & <dbl> & <dbl> & <dbl>\\\\\n",
       "\\hline\n",
       "\t (Intercept)         &  1.113818e+03 & 1.039536e+02 &  10.7145697 &  8.924855e-27\\\\\n",
       "\t Size                &  3.378433e-06 & 1.254491e-05 &   0.2693071 &  7.876938e-01\\\\\n",
       "\t Forks               &  1.656748e+00 & 7.217402e-03 & 229.5490060 &  0.000000e+00\\\\\n",
       "\t Issues              &  2.756035e+00 & 4.558267e-02 &  60.4623581 &  0.000000e+00\\\\\n",
       "\t Has.IssuesTrue      &  2.399161e+01 & 5.301769e+01 &   0.4525209 &  6.508945e-01\\\\\n",
       "\t Has.ProjectsTrue    & -2.563964e+02 & 3.292043e+01 &  -7.7883674 &  6.838210e-15\\\\\n",
       "\t Has.DownloadsTrue   & -2.464407e+02 & 9.448540e+01 &  -2.6082410 &  9.101935e-03\\\\\n",
       "\t Has.WikiTrue        & -2.201769e+02 & 2.810511e+01 &  -7.8340519 &  4.759655e-15\\\\\n",
       "\t Has.PagesTrue       &  2.217952e+02 & 2.367166e+01 &   9.3696515 &  7.389200e-21\\\\\n",
       "\t Has.DiscussionsTrue &  7.682286e+02 & 2.773443e+01 &  27.6994580 & 2.214656e-168\\\\\n",
       "\t Is.ArchivedTrue     & -1.402855e+02 & 3.674903e+01 &  -3.8173918 &  1.349329e-04\\\\\n",
       "\t Is.TemplateTrue     & -4.092400e+02 & 1.140407e+02 &  -3.5885422 &  3.326552e-04\\\\\n",
       "\\end{tabular}\n"
      ],
      "text/markdown": [
       "\n",
       "A tibble: 12 × 5\n",
       "\n",
       "| term &lt;chr&gt; | estimate &lt;dbl&gt; | std.error &lt;dbl&gt; | statistic &lt;dbl&gt; | p.value &lt;dbl&gt; |\n",
       "|---|---|---|---|---|\n",
       "| (Intercept)         |  1.113818e+03 | 1.039536e+02 |  10.7145697 |  8.924855e-27 |\n",
       "| Size                |  3.378433e-06 | 1.254491e-05 |   0.2693071 |  7.876938e-01 |\n",
       "| Forks               |  1.656748e+00 | 7.217402e-03 | 229.5490060 |  0.000000e+00 |\n",
       "| Issues              |  2.756035e+00 | 4.558267e-02 |  60.4623581 |  0.000000e+00 |\n",
       "| Has.IssuesTrue      |  2.399161e+01 | 5.301769e+01 |   0.4525209 |  6.508945e-01 |\n",
       "| Has.ProjectsTrue    | -2.563964e+02 | 3.292043e+01 |  -7.7883674 |  6.838210e-15 |\n",
       "| Has.DownloadsTrue   | -2.464407e+02 | 9.448540e+01 |  -2.6082410 |  9.101935e-03 |\n",
       "| Has.WikiTrue        | -2.201769e+02 | 2.810511e+01 |  -7.8340519 |  4.759655e-15 |\n",
       "| Has.PagesTrue       |  2.217952e+02 | 2.367166e+01 |   9.3696515 |  7.389200e-21 |\n",
       "| Has.DiscussionsTrue |  7.682286e+02 | 2.773443e+01 |  27.6994580 | 2.214656e-168 |\n",
       "| Is.ArchivedTrue     | -1.402855e+02 | 3.674903e+01 |  -3.8173918 |  1.349329e-04 |\n",
       "| Is.TemplateTrue     | -4.092400e+02 | 1.140407e+02 |  -3.5885422 |  3.326552e-04 |\n",
       "\n"
      ],
      "text/plain": [
       "   term                estimate      std.error    statistic   p.value      \n",
       "1  (Intercept)          1.113818e+03 1.039536e+02  10.7145697  8.924855e-27\n",
       "2  Size                 3.378433e-06 1.254491e-05   0.2693071  7.876938e-01\n",
       "3  Forks                1.656748e+00 7.217402e-03 229.5490060  0.000000e+00\n",
       "4  Issues               2.756035e+00 4.558267e-02  60.4623581  0.000000e+00\n",
       "5  Has.IssuesTrue       2.399161e+01 5.301769e+01   0.4525209  6.508945e-01\n",
       "6  Has.ProjectsTrue    -2.563964e+02 3.292043e+01  -7.7883674  6.838210e-15\n",
       "7  Has.DownloadsTrue   -2.464407e+02 9.448540e+01  -2.6082410  9.101935e-03\n",
       "8  Has.WikiTrue        -2.201769e+02 2.810511e+01  -7.8340519  4.759655e-15\n",
       "9  Has.PagesTrue        2.217952e+02 2.367166e+01   9.3696515  7.389200e-21\n",
       "10 Has.DiscussionsTrue  7.682286e+02 2.773443e+01  27.6994580 2.214656e-168\n",
       "11 Is.ArchivedTrue     -1.402855e+02 3.674903e+01  -3.8173918  1.349329e-04\n",
       "12 Is.TemplateTrue     -4.092400e+02 1.140407e+02  -3.5885422  3.326552e-04"
      ]
     },
     "metadata": {},
     "output_type": "display_data"
    },
    {
     "data": {
      "text/html": [
       "<table class=\"dataframe\">\n",
       "<caption>A tibble: 6 × 5</caption>\n",
       "<thead>\n",
       "\t<tr><th scope=col>term</th><th scope=col>estimate</th><th scope=col>std.error</th><th scope=col>statistic</th><th scope=col>p.value</th></tr>\n",
       "\t<tr><th scope=col>&lt;chr&gt;</th><th scope=col>&lt;dbl&gt;</th><th scope=col>&lt;dbl&gt;</th><th scope=col>&lt;dbl&gt;</th><th scope=col>&lt;dbl&gt;</th></tr>\n",
       "</thead>\n",
       "<tbody>\n",
       "\t<tr><td>(Intercept)     </td><td> 1.113818e+03</td><td>1.039536e+02</td><td> 10.7145697</td><td>8.924855e-27</td></tr>\n",
       "\t<tr><td>Size            </td><td> 3.378433e-06</td><td>1.254491e-05</td><td>  0.2693071</td><td>7.876938e-01</td></tr>\n",
       "\t<tr><td>Forks           </td><td> 1.656748e+00</td><td>7.217402e-03</td><td>229.5490060</td><td>0.000000e+00</td></tr>\n",
       "\t<tr><td>Issues          </td><td> 2.756035e+00</td><td>4.558267e-02</td><td> 60.4623581</td><td>0.000000e+00</td></tr>\n",
       "\t<tr><td>Has.IssuesTrue  </td><td> 2.399161e+01</td><td>5.301769e+01</td><td>  0.4525209</td><td>6.508945e-01</td></tr>\n",
       "\t<tr><td>Has.ProjectsTrue</td><td>-2.563964e+02</td><td>3.292043e+01</td><td> -7.7883674</td><td>6.838210e-15</td></tr>\n",
       "</tbody>\n",
       "</table>\n"
      ],
      "text/latex": [
       "A tibble: 6 × 5\n",
       "\\begin{tabular}{lllll}\n",
       " term & estimate & std.error & statistic & p.value\\\\\n",
       " <chr> & <dbl> & <dbl> & <dbl> & <dbl>\\\\\n",
       "\\hline\n",
       "\t (Intercept)      &  1.113818e+03 & 1.039536e+02 &  10.7145697 & 8.924855e-27\\\\\n",
       "\t Size             &  3.378433e-06 & 1.254491e-05 &   0.2693071 & 7.876938e-01\\\\\n",
       "\t Forks            &  1.656748e+00 & 7.217402e-03 & 229.5490060 & 0.000000e+00\\\\\n",
       "\t Issues           &  2.756035e+00 & 4.558267e-02 &  60.4623581 & 0.000000e+00\\\\\n",
       "\t Has.IssuesTrue   &  2.399161e+01 & 5.301769e+01 &   0.4525209 & 6.508945e-01\\\\\n",
       "\t Has.ProjectsTrue & -2.563964e+02 & 3.292043e+01 &  -7.7883674 & 6.838210e-15\\\\\n",
       "\\end{tabular}\n"
      ],
      "text/markdown": [
       "\n",
       "A tibble: 6 × 5\n",
       "\n",
       "| term &lt;chr&gt; | estimate &lt;dbl&gt; | std.error &lt;dbl&gt; | statistic &lt;dbl&gt; | p.value &lt;dbl&gt; |\n",
       "|---|---|---|---|---|\n",
       "| (Intercept)      |  1.113818e+03 | 1.039536e+02 |  10.7145697 | 8.924855e-27 |\n",
       "| Size             |  3.378433e-06 | 1.254491e-05 |   0.2693071 | 7.876938e-01 |\n",
       "| Forks            |  1.656748e+00 | 7.217402e-03 | 229.5490060 | 0.000000e+00 |\n",
       "| Issues           |  2.756035e+00 | 4.558267e-02 |  60.4623581 | 0.000000e+00 |\n",
       "| Has.IssuesTrue   |  2.399161e+01 | 5.301769e+01 |   0.4525209 | 6.508945e-01 |\n",
       "| Has.ProjectsTrue | -2.563964e+02 | 3.292043e+01 |  -7.7883674 | 6.838210e-15 |\n",
       "\n"
      ],
      "text/plain": [
       "  term             estimate      std.error    statistic   p.value     \n",
       "1 (Intercept)       1.113818e+03 1.039536e+02  10.7145697 8.924855e-27\n",
       "2 Size              3.378433e-06 1.254491e-05   0.2693071 7.876938e-01\n",
       "3 Forks             1.656748e+00 7.217402e-03 229.5490060 0.000000e+00\n",
       "4 Issues            2.756035e+00 4.558267e-02  60.4623581 0.000000e+00\n",
       "5 Has.IssuesTrue    2.399161e+01 5.301769e+01   0.4525209 6.508945e-01\n",
       "6 Has.ProjectsTrue -2.563964e+02 3.292043e+01  -7.7883674 6.838210e-15"
      ]
     },
     "metadata": {},
     "output_type": "display_data"
    }
   ],
   "source": [
    "# full model\n",
    "repo_full_OLS <- lm(Stars ~ ., data = training_repo)\n",
    "\n",
    "repo_full_OLS_results <- tidy(repo_full_OLS)\n",
    "\n",
    "testing_repo <- testing_repo |>\n",
    "    add_predictions(repo_full_OLS, var=\"pred_full_OLS\")\n",
    "\n",
    "repo_full_OLS_results\n",
    "head(repo_full_OLS_results)"
   ]
  },
  {
   "cell_type": "code",
   "execution_count": 37,
   "id": "f7f814d6-4c15-40e5-b549-28a67b05b614",
   "metadata": {},
   "outputs": [
    {
     "data": {
      "text/html": [
       "<table class=\"dataframe\">\n",
       "<caption>A tibble: 1 × 2</caption>\n",
       "<thead>\n",
       "\t<tr><th scope=col>Model</th><th scope=col>RMSE</th></tr>\n",
       "\t<tr><th scope=col>&lt;chr&gt;</th><th scope=col>&lt;dbl&gt;</th></tr>\n",
       "</thead>\n",
       "<tbody>\n",
       "\t<tr><td>OLS Full Regression</td><td>3146.908</td></tr>\n",
       "</tbody>\n",
       "</table>\n"
      ],
      "text/latex": [
       "A tibble: 1 × 2\n",
       "\\begin{tabular}{ll}\n",
       " Model & RMSE\\\\\n",
       " <chr> & <dbl>\\\\\n",
       "\\hline\n",
       "\t OLS Full Regression & 3146.908\\\\\n",
       "\\end{tabular}\n"
      ],
      "text/markdown": [
       "\n",
       "A tibble: 1 × 2\n",
       "\n",
       "| Model &lt;chr&gt; | RMSE &lt;dbl&gt; |\n",
       "|---|---|\n",
       "| OLS Full Regression | 3146.908 |\n",
       "\n"
      ],
      "text/plain": [
       "  Model               RMSE    \n",
       "1 OLS Full Regression 3146.908"
      ]
     },
     "metadata": {},
     "output_type": "display_data"
    }
   ],
   "source": [
    "# full model\n",
    "rmse_full <- \n",
    "    testing_repo %>% \n",
    "    mutate(pred_error = Stars - pred_full_OLS) %>%\n",
    "    summarise(RMSE = sqrt(mean(pred_error ^ 2))) %>%\n",
    "    pull()\n",
    "\n",
    "\n",
    "repo_RMSE_models <- tibble(\n",
    "  Model = \"OLS Full Regression\",\n",
    "  RMSE = rmse_full)\n",
    "\n",
    "repo_RMSE_models"
   ]
  },
  {
   "cell_type": "markdown",
   "id": "49fe0c8c-0e09-4605-81d7-feabcaad2275",
   "metadata": {},
   "source": [
    "#### forward selection"
   ]
  },
  {
   "cell_type": "code",
   "execution_count": 38,
   "id": "0bfc389b-94f7-4992-a759-ea395f816f72",
   "metadata": {},
   "outputs": [
    {
     "data": {
      "text/html": [
       "12"
      ],
      "text/latex": [
       "12"
      ],
      "text/markdown": [
       "12"
      ],
      "text/plain": [
       "[1] 12"
      ]
     },
     "metadata": {},
     "output_type": "display_data"
    }
   ],
   "source": [
    "# current number of columns in the wrangled dataset\n",
    "length(colnames(data_repo_clean))"
   ]
  },
  {
   "cell_type": "code",
   "execution_count": 39,
   "id": "b04c0d6e-dd1c-467f-8c84-9779989962ec",
   "metadata": {},
   "outputs": [
    {
     "data": {
      "text/html": [
       "<table class=\"dataframe\">\n",
       "<caption>A data.frame: 6 × 12</caption>\n",
       "<thead>\n",
       "\t<tr><th></th><th scope=col>Size</th><th scope=col>Stars</th><th scope=col>Forks</th><th scope=col>Issues</th><th scope=col>Has.Issues</th><th scope=col>Has.Projects</th><th scope=col>Has.Downloads</th><th scope=col>Has.Wiki</th><th scope=col>Has.Pages</th><th scope=col>Has.Discussions</th><th scope=col>Is.Archived</th><th scope=col>Is.Template</th></tr>\n",
       "\t<tr><th></th><th scope=col>&lt;int&gt;</th><th scope=col>&lt;int&gt;</th><th scope=col>&lt;int&gt;</th><th scope=col>&lt;int&gt;</th><th scope=col>&lt;fct&gt;</th><th scope=col>&lt;fct&gt;</th><th scope=col>&lt;fct&gt;</th><th scope=col>&lt;fct&gt;</th><th scope=col>&lt;fct&gt;</th><th scope=col>&lt;fct&gt;</th><th scope=col>&lt;fct&gt;</th><th scope=col>&lt;fct&gt;</th></tr>\n",
       "</thead>\n",
       "<tbody>\n",
       "\t<tr><th scope=row>1</th><td>  2411</td><td>237</td><td> 32</td><td>36</td><td>True</td><td>True </td><td>True </td><td>False</td><td>False</td><td>False</td><td>False</td><td>False</td></tr>\n",
       "\t<tr><th scope=row>2</th><td>169493</td><td>237</td><td>125</td><td>62</td><td>True</td><td>True </td><td>True </td><td>True </td><td>False</td><td>True </td><td>False</td><td>False</td></tr>\n",
       "\t<tr><th scope=row>3</th><td>   685</td><td>237</td><td> 28</td><td> 9</td><td>True</td><td>True </td><td>True </td><td>True </td><td>False</td><td>True </td><td>False</td><td>False</td></tr>\n",
       "\t<tr><th scope=row>4</th><td>   900</td><td>237</td><td> 36</td><td>23</td><td>True</td><td>False</td><td>True </td><td>True </td><td>True </td><td>False</td><td>False</td><td>False</td></tr>\n",
       "\t<tr><th scope=row>5</th><td>306952</td><td>237</td><td> 74</td><td>57</td><td>True</td><td>True </td><td>True </td><td>True </td><td>False</td><td>True </td><td>False</td><td>False</td></tr>\n",
       "\t<tr><th scope=row>6</th><td>   679</td><td>237</td><td> 72</td><td>17</td><td>True</td><td>True </td><td>False</td><td>True </td><td>False</td><td>False</td><td>False</td><td>False</td></tr>\n",
       "</tbody>\n",
       "</table>\n"
      ],
      "text/latex": [
       "A data.frame: 6 × 12\n",
       "\\begin{tabular}{r|llllllllllll}\n",
       "  & Size & Stars & Forks & Issues & Has.Issues & Has.Projects & Has.Downloads & Has.Wiki & Has.Pages & Has.Discussions & Is.Archived & Is.Template\\\\\n",
       "  & <int> & <int> & <int> & <int> & <fct> & <fct> & <fct> & <fct> & <fct> & <fct> & <fct> & <fct>\\\\\n",
       "\\hline\n",
       "\t1 &   2411 & 237 &  32 & 36 & True & True  & True  & False & False & False & False & False\\\\\n",
       "\t2 & 169493 & 237 & 125 & 62 & True & True  & True  & True  & False & True  & False & False\\\\\n",
       "\t3 &    685 & 237 &  28 &  9 & True & True  & True  & True  & False & True  & False & False\\\\\n",
       "\t4 &    900 & 237 &  36 & 23 & True & False & True  & True  & True  & False & False & False\\\\\n",
       "\t5 & 306952 & 237 &  74 & 57 & True & True  & True  & True  & False & True  & False & False\\\\\n",
       "\t6 &    679 & 237 &  72 & 17 & True & True  & False & True  & False & False & False & False\\\\\n",
       "\\end{tabular}\n"
      ],
      "text/markdown": [
       "\n",
       "A data.frame: 6 × 12\n",
       "\n",
       "| <!--/--> | Size &lt;int&gt; | Stars &lt;int&gt; | Forks &lt;int&gt; | Issues &lt;int&gt; | Has.Issues &lt;fct&gt; | Has.Projects &lt;fct&gt; | Has.Downloads &lt;fct&gt; | Has.Wiki &lt;fct&gt; | Has.Pages &lt;fct&gt; | Has.Discussions &lt;fct&gt; | Is.Archived &lt;fct&gt; | Is.Template &lt;fct&gt; |\n",
       "|---|---|---|---|---|---|---|---|---|---|---|---|---|\n",
       "| 1 |   2411 | 237 |  32 | 36 | True | True  | True  | False | False | False | False | False |\n",
       "| 2 | 169493 | 237 | 125 | 62 | True | True  | True  | True  | False | True  | False | False |\n",
       "| 3 |    685 | 237 |  28 |  9 | True | True  | True  | True  | False | True  | False | False |\n",
       "| 4 |    900 | 237 |  36 | 23 | True | False | True  | True  | True  | False | False | False |\n",
       "| 5 | 306952 | 237 |  74 | 57 | True | True  | True  | True  | False | True  | False | False |\n",
       "| 6 |    679 | 237 |  72 | 17 | True | True  | False | True  | False | False | False | False |\n",
       "\n"
      ],
      "text/plain": [
       "  Size   Stars Forks Issues Has.Issues Has.Projects Has.Downloads Has.Wiki\n",
       "1   2411 237    32   36     True       True         True          False   \n",
       "2 169493 237   125   62     True       True         True          True    \n",
       "3    685 237    28    9     True       True         True          True    \n",
       "4    900 237    36   23     True       False        True          True    \n",
       "5 306952 237    74   57     True       True         True          True    \n",
       "6    679 237    72   17     True       True         False         True    \n",
       "  Has.Pages Has.Discussions Is.Archived Is.Template\n",
       "1 False     False           False       False      \n",
       "2 False     True            False       False      \n",
       "3 False     True            False       False      \n",
       "4 True      False           False       False      \n",
       "5 False     True            False       False      \n",
       "6 False     False           False       False      "
      ]
     },
     "metadata": {},
     "output_type": "display_data"
    }
   ],
   "source": [
    "head(training_repo)"
   ]
  },
  {
   "cell_type": "code",
   "execution_count": 40,
   "id": "880ff5aa-323a-4f24-85a0-26fddc10c5f8",
   "metadata": {
    "scrolled": true
   },
   "outputs": [
    {
     "data": {
      "text/plain": [
       "Subset selection object\n",
       "Call: regsubsets.formula(x = Stars ~ ., nvmax = 11, data = training_repo, \n",
       "    method = \"forward\")\n",
       "11 Variables  (and intercept)\n",
       "                    Forced in Forced out\n",
       "Size                    FALSE      FALSE\n",
       "Forks                   FALSE      FALSE\n",
       "Issues                  FALSE      FALSE\n",
       "Has.IssuesTrue          FALSE      FALSE\n",
       "Has.ProjectsTrue        FALSE      FALSE\n",
       "Has.DownloadsTrue       FALSE      FALSE\n",
       "Has.WikiTrue            FALSE      FALSE\n",
       "Has.PagesTrue           FALSE      FALSE\n",
       "Has.DiscussionsTrue     FALSE      FALSE\n",
       "Is.ArchivedTrue         FALSE      FALSE\n",
       "Is.TemplateTrue         FALSE      FALSE\n",
       "1 subsets of each size up to 11\n",
       "Selection Algorithm: forward\n",
       "          Size Forks Issues Has.IssuesTrue Has.ProjectsTrue Has.DownloadsTrue\n",
       "1  ( 1 )  \" \"  \"*\"   \" \"    \" \"            \" \"              \" \"              \n",
       "2  ( 1 )  \" \"  \"*\"   \"*\"    \" \"            \" \"              \" \"              \n",
       "3  ( 1 )  \" \"  \"*\"   \"*\"    \" \"            \" \"              \" \"              \n",
       "4  ( 1 )  \" \"  \"*\"   \"*\"    \" \"            \" \"              \" \"              \n",
       "5  ( 1 )  \" \"  \"*\"   \"*\"    \" \"            \" \"              \" \"              \n",
       "6  ( 1 )  \" \"  \"*\"   \"*\"    \" \"            \"*\"              \" \"              \n",
       "7  ( 1 )  \" \"  \"*\"   \"*\"    \" \"            \"*\"              \" \"              \n",
       "8  ( 1 )  \" \"  \"*\"   \"*\"    \" \"            \"*\"              \" \"              \n",
       "9  ( 1 )  \" \"  \"*\"   \"*\"    \" \"            \"*\"              \"*\"              \n",
       "10  ( 1 ) \" \"  \"*\"   \"*\"    \"*\"            \"*\"              \"*\"              \n",
       "11  ( 1 ) \"*\"  \"*\"   \"*\"    \"*\"            \"*\"              \"*\"              \n",
       "          Has.WikiTrue Has.PagesTrue Has.DiscussionsTrue Is.ArchivedTrue\n",
       "1  ( 1 )  \" \"          \" \"           \" \"                 \" \"            \n",
       "2  ( 1 )  \" \"          \" \"           \" \"                 \" \"            \n",
       "3  ( 1 )  \" \"          \" \"           \"*\"                 \" \"            \n",
       "4  ( 1 )  \"*\"          \" \"           \"*\"                 \" \"            \n",
       "5  ( 1 )  \"*\"          \"*\"           \"*\"                 \" \"            \n",
       "6  ( 1 )  \"*\"          \"*\"           \"*\"                 \" \"            \n",
       "7  ( 1 )  \"*\"          \"*\"           \"*\"                 \"*\"            \n",
       "8  ( 1 )  \"*\"          \"*\"           \"*\"                 \"*\"            \n",
       "9  ( 1 )  \"*\"          \"*\"           \"*\"                 \"*\"            \n",
       "10  ( 1 ) \"*\"          \"*\"           \"*\"                 \"*\"            \n",
       "11  ( 1 ) \"*\"          \"*\"           \"*\"                 \"*\"            \n",
       "          Is.TemplateTrue\n",
       "1  ( 1 )  \" \"            \n",
       "2  ( 1 )  \" \"            \n",
       "3  ( 1 )  \" \"            \n",
       "4  ( 1 )  \" \"            \n",
       "5  ( 1 )  \" \"            \n",
       "6  ( 1 )  \" \"            \n",
       "7  ( 1 )  \" \"            \n",
       "8  ( 1 )  \"*\"            \n",
       "9  ( 1 )  \"*\"            \n",
       "10  ( 1 ) \"*\"            \n",
       "11  ( 1 ) \"*\"            "
      ]
     },
     "metadata": {},
     "output_type": "display_data"
    }
   ],
   "source": [
    "# forward selection\n",
    "repo_forward_sel <- regsubsets(x = Stars ~ ., nvmax = 11,\n",
    "                                  data = training_repo,\n",
    "                                  method = \"forward\")\n",
    "repo_forward_summary <- summary(repo_forward_sel)\n",
    "repo_forward_summary\n"
   ]
  },
  {
   "cell_type": "code",
   "execution_count": 41,
   "id": "23fad5f3-e3df-4670-8900-42e962edfef1",
   "metadata": {},
   "outputs": [
    {
     "data": {
      "text/html": [
       "<table class=\"dataframe\">\n",
       "<caption>A tibble: 11 × 6</caption>\n",
       "<thead>\n",
       "\t<tr><th scope=col>n_input_variables</th><th scope=col>RSQ</th><th scope=col>RSS</th><th scope=col>ADJ_R2</th><th scope=col>Cp</th><th scope=col>BIC</th></tr>\n",
       "\t<tr><th scope=col>&lt;int&gt;</th><th scope=col>&lt;dbl&gt;</th><th scope=col>&lt;dbl&gt;</th><th scope=col>&lt;dbl&gt;</th><th scope=col>&lt;dbl&gt;</th><th scope=col>&lt;dbl&gt;</th></tr>\n",
       "</thead>\n",
       "<tbody>\n",
       "\t<tr><td> 1</td><td>0.3333308</td><td>1.395552e+12</td><td>0.3333257</td><td>5468.749781</td><td>-52287.46</td></tr>\n",
       "\t<tr><td> 2</td><td>0.3534470</td><td>1.353442e+12</td><td>0.3534370</td><td>1412.898041</td><td>-56228.60</td></tr>\n",
       "\t<tr><td> 3</td><td>0.3583562</td><td>1.343166e+12</td><td>0.3583413</td><td> 424.619700</td><td>-57200.16</td></tr>\n",
       "\t<tr><td> 4</td><td>0.3595923</td><td>1.340578e+12</td><td>0.3595724</td><td> 177.279653</td><td>-57437.17</td></tr>\n",
       "\t<tr><td> 5</td><td>0.3600232</td><td>1.339676e+12</td><td>0.3599984</td><td>  92.360638</td><td>-57512.24</td></tr>\n",
       "\t<tr><td> 6</td><td>0.3603109</td><td>1.339074e+12</td><td>0.3602812</td><td>  36.316745</td><td>-57558.49</td></tr>\n",
       "\t<tr><td> 7</td><td>0.3603823</td><td>1.338925e+12</td><td>0.3603476</td><td>  23.922696</td><td>-57561.12</td></tr>\n",
       "\t<tr><td> 8</td><td>0.3604465</td><td>1.338790e+12</td><td>0.3604069</td><td>  12.958281</td><td>-57562.31</td></tr>\n",
       "\t<tr><td> 9</td><td>0.3604797</td><td>1.338721e+12</td><td>0.3604351</td><td>   8.271656</td><td>-57557.23</td></tr>\n",
       "\t<tr><td>10</td><td>0.3604807</td><td>1.338719e+12</td><td>0.3604311</td><td>  10.072526</td><td>-57545.66</td></tr>\n",
       "\t<tr><td>11</td><td>0.3604810</td><td>1.338718e+12</td><td>0.3604265</td><td>  12.000000</td><td>-57533.97</td></tr>\n",
       "</tbody>\n",
       "</table>\n"
      ],
      "text/latex": [
       "A tibble: 11 × 6\n",
       "\\begin{tabular}{llllll}\n",
       " n\\_input\\_variables & RSQ & RSS & ADJ\\_R2 & Cp & BIC\\\\\n",
       " <int> & <dbl> & <dbl> & <dbl> & <dbl> & <dbl>\\\\\n",
       "\\hline\n",
       "\t  1 & 0.3333308 & 1.395552e+12 & 0.3333257 & 5468.749781 & -52287.46\\\\\n",
       "\t  2 & 0.3534470 & 1.353442e+12 & 0.3534370 & 1412.898041 & -56228.60\\\\\n",
       "\t  3 & 0.3583562 & 1.343166e+12 & 0.3583413 &  424.619700 & -57200.16\\\\\n",
       "\t  4 & 0.3595923 & 1.340578e+12 & 0.3595724 &  177.279653 & -57437.17\\\\\n",
       "\t  5 & 0.3600232 & 1.339676e+12 & 0.3599984 &   92.360638 & -57512.24\\\\\n",
       "\t  6 & 0.3603109 & 1.339074e+12 & 0.3602812 &   36.316745 & -57558.49\\\\\n",
       "\t  7 & 0.3603823 & 1.338925e+12 & 0.3603476 &   23.922696 & -57561.12\\\\\n",
       "\t  8 & 0.3604465 & 1.338790e+12 & 0.3604069 &   12.958281 & -57562.31\\\\\n",
       "\t  9 & 0.3604797 & 1.338721e+12 & 0.3604351 &    8.271656 & -57557.23\\\\\n",
       "\t 10 & 0.3604807 & 1.338719e+12 & 0.3604311 &   10.072526 & -57545.66\\\\\n",
       "\t 11 & 0.3604810 & 1.338718e+12 & 0.3604265 &   12.000000 & -57533.97\\\\\n",
       "\\end{tabular}\n"
      ],
      "text/markdown": [
       "\n",
       "A tibble: 11 × 6\n",
       "\n",
       "| n_input_variables &lt;int&gt; | RSQ &lt;dbl&gt; | RSS &lt;dbl&gt; | ADJ_R2 &lt;dbl&gt; | Cp &lt;dbl&gt; | BIC &lt;dbl&gt; |\n",
       "|---|---|---|---|---|---|\n",
       "|  1 | 0.3333308 | 1.395552e+12 | 0.3333257 | 5468.749781 | -52287.46 |\n",
       "|  2 | 0.3534470 | 1.353442e+12 | 0.3534370 | 1412.898041 | -56228.60 |\n",
       "|  3 | 0.3583562 | 1.343166e+12 | 0.3583413 |  424.619700 | -57200.16 |\n",
       "|  4 | 0.3595923 | 1.340578e+12 | 0.3595724 |  177.279653 | -57437.17 |\n",
       "|  5 | 0.3600232 | 1.339676e+12 | 0.3599984 |   92.360638 | -57512.24 |\n",
       "|  6 | 0.3603109 | 1.339074e+12 | 0.3602812 |   36.316745 | -57558.49 |\n",
       "|  7 | 0.3603823 | 1.338925e+12 | 0.3603476 |   23.922696 | -57561.12 |\n",
       "|  8 | 0.3604465 | 1.338790e+12 | 0.3604069 |   12.958281 | -57562.31 |\n",
       "|  9 | 0.3604797 | 1.338721e+12 | 0.3604351 |    8.271656 | -57557.23 |\n",
       "| 10 | 0.3604807 | 1.338719e+12 | 0.3604311 |   10.072526 | -57545.66 |\n",
       "| 11 | 0.3604810 | 1.338718e+12 | 0.3604265 |   12.000000 | -57533.97 |\n",
       "\n"
      ],
      "text/plain": [
       "   n_input_variables RSQ       RSS          ADJ_R2    Cp          BIC      \n",
       "1   1                0.3333308 1.395552e+12 0.3333257 5468.749781 -52287.46\n",
       "2   2                0.3534470 1.353442e+12 0.3534370 1412.898041 -56228.60\n",
       "3   3                0.3583562 1.343166e+12 0.3583413  424.619700 -57200.16\n",
       "4   4                0.3595923 1.340578e+12 0.3595724  177.279653 -57437.17\n",
       "5   5                0.3600232 1.339676e+12 0.3599984   92.360638 -57512.24\n",
       "6   6                0.3603109 1.339074e+12 0.3602812   36.316745 -57558.49\n",
       "7   7                0.3603823 1.338925e+12 0.3603476   23.922696 -57561.12\n",
       "8   8                0.3604465 1.338790e+12 0.3604069   12.958281 -57562.31\n",
       "9   9                0.3604797 1.338721e+12 0.3604351    8.271656 -57557.23\n",
       "10 10                0.3604807 1.338719e+12 0.3604311   10.072526 -57545.66\n",
       "11 11                0.3604810 1.338718e+12 0.3604265   12.000000 -57533.97"
      ]
     },
     "metadata": {},
     "output_type": "display_data"
    }
   ],
   "source": [
    "repo_forward_summary_df <- tibble(\n",
    "    n_input_variables = 1:11,\n",
    "    RSQ = repo_forward_summary$rsq,\n",
    "    RSS = repo_forward_summary$rss,\n",
    "    ADJ_R2 = repo_forward_summary$adjr2,\n",
    "    Cp = repo_forward_summary$cp,\n",
    "    BIC = repo_forward_summary$bic,\n",
    ")\n",
    "repo_forward_summary_df"
   ]
  },
  {
   "cell_type": "markdown",
   "id": "b072bd4c-be80-4e4e-834c-e368d36824da",
   "metadata": {},
   "source": [
    "**The forward algorithm would select a generative model with 9 variables using the adjusted $R^2$**.\n",
    "\n",
    "**The forward algorithm would select a predictive model with 8 variables using BIC**.\n",
    "\n",
    "**The forward algorithm would select a predictive model with 9 variables using Cp**."
   ]
  },
  {
   "cell_type": "code",
   "execution_count": 42,
   "id": "2dc87d1c-8d00-400a-b7dc-530e10fd4a58",
   "metadata": {},
   "outputs": [
    {
     "data": {
      "application/pdf": "[encoded data removed]",
      "image/jpeg": "[encoded data removed]",
      "image/png": "[encoded data removed]",
      "image/svg+xml": [
       "<?xml version=\"1.0\" encoding=\"UTF-8\"?>\n",
       "<svg xmlns=\"http://www.w3.org/2000/svg\" xmlns:xlink=\"http://www.w3.org/1999/xlink\" width=\"504\" height=\"504\" viewBox=\"0 0 504 504\">\n",
       "<defs>\n",
       "<g>\n",
       "<g id=\"glyph-0-0\">\n",
       "<path d=\"M 0.609375 0 L 0.609375 -0.75 C 0.804688 -1.207031 1.046875 -1.609375 1.328125 -1.953125 C 1.617188 -2.304688 1.921875 -2.625 2.234375 -2.90625 C 2.554688 -3.1875 2.867188 -3.445312 3.171875 -3.6875 C 3.484375 -3.9375 3.765625 -4.179688 4.015625 -4.421875 C 4.265625 -4.660156 4.46875 -4.910156 4.625 -5.171875 C 4.78125 -5.441406 4.859375 -5.742188 4.859375 -6.078125 C 4.859375 -6.316406 4.820312 -6.523438 4.75 -6.703125 C 4.675781 -6.878906 4.570312 -7.023438 4.4375 -7.140625 C 4.3125 -7.265625 4.15625 -7.359375 3.96875 -7.421875 C 3.78125 -7.484375 3.578125 -7.515625 3.359375 -7.515625 C 3.140625 -7.515625 2.9375 -7.484375 2.75 -7.421875 C 2.570312 -7.367188 2.410156 -7.28125 2.265625 -7.15625 C 2.117188 -7.039062 2 -6.894531 1.90625 -6.71875 C 1.8125 -6.550781 1.753906 -6.351562 1.734375 -6.125 L 0.65625 -6.21875 C 0.6875 -6.507812 0.765625 -6.785156 0.890625 -7.046875 C 1.023438 -7.316406 1.203125 -7.550781 1.421875 -7.75 C 1.648438 -7.945312 1.921875 -8.097656 2.234375 -8.203125 C 2.554688 -8.316406 2.929688 -8.375 3.359375 -8.375 C 3.765625 -8.375 4.125 -8.328125 4.4375 -8.234375 C 4.757812 -8.140625 5.03125 -7.992188 5.25 -7.796875 C 5.476562 -7.609375 5.648438 -7.375 5.765625 -7.09375 C 5.878906 -6.8125 5.9375 -6.488281 5.9375 -6.125 C 5.9375 -5.84375 5.882812 -5.578125 5.78125 -5.328125 C 5.6875 -5.078125 5.554688 -4.835938 5.390625 -4.609375 C 5.222656 -4.378906 5.03125 -4.160156 4.8125 -3.953125 C 4.59375 -3.742188 4.363281 -3.535156 4.125 -3.328125 C 3.894531 -3.128906 3.65625 -2.929688 3.40625 -2.734375 C 3.164062 -2.535156 2.9375 -2.335938 2.71875 -2.140625 C 2.507812 -1.941406 2.320312 -1.738281 2.15625 -1.53125 C 1.988281 -1.332031 1.859375 -1.117188 1.765625 -0.890625 L 6.078125 -0.890625 L 6.078125 0 Z M 0.609375 0 \"/>\n",
       "</g>\n",
       "<g id=\"glyph-0-1\">\n",
       "<path d=\"M 5.15625 -1.875 L 5.15625 0 L 4.171875 0 L 4.171875 -1.875 L 0.28125 -1.875 L 0.28125 -2.6875 L 4.0625 -8.25 L 5.15625 -8.25 L 5.15625 -2.703125 L 6.328125 -2.703125 L 6.328125 -1.875 Z M 4.171875 -7.0625 C 4.160156 -7.039062 4.140625 -7.003906 4.109375 -6.953125 C 4.078125 -6.898438 4.039062 -6.835938 4 -6.765625 C 3.957031 -6.691406 3.914062 -6.617188 3.875 -6.546875 C 3.84375 -6.472656 3.8125 -6.414062 3.78125 -6.375 L 1.65625 -3.25 C 1.632812 -3.21875 1.601562 -3.175781 1.5625 -3.125 C 1.53125 -3.070312 1.492188 -3.019531 1.453125 -2.96875 C 1.421875 -2.914062 1.382812 -2.863281 1.34375 -2.8125 C 1.300781 -2.769531 1.269531 -2.734375 1.25 -2.703125 L 4.171875 -2.703125 Z M 4.171875 -7.0625 \"/>\n",
       "</g>\n",
       "<g id=\"glyph-0-2\">\n",
       "<path d=\"M 6.140625 -2.703125 C 6.140625 -2.285156 6.082031 -1.90625 5.96875 -1.5625 C 5.851562 -1.21875 5.679688 -0.921875 5.453125 -0.671875 C 5.234375 -0.421875 4.957031 -0.222656 4.625 -0.078125 C 4.289062 0.0546875 3.910156 0.125 3.484375 0.125 C 3.003906 0.125 2.582031 0.03125 2.21875 -0.15625 C 1.863281 -0.34375 1.566406 -0.609375 1.328125 -0.953125 C 1.085938 -1.296875 0.90625 -1.71875 0.78125 -2.21875 C 0.664062 -2.726562 0.609375 -3.300781 0.609375 -3.9375 C 0.609375 -4.675781 0.675781 -5.320312 0.8125 -5.875 C 0.945312 -6.425781 1.140625 -6.882812 1.390625 -7.25 C 1.648438 -7.625 1.960938 -7.90625 2.328125 -8.09375 C 2.691406 -8.28125 3.101562 -8.375 3.5625 -8.375 C 3.84375 -8.375 4.101562 -8.34375 4.34375 -8.28125 C 4.59375 -8.226562 4.816406 -8.132812 5.015625 -8 C 5.222656 -7.875 5.398438 -7.703125 5.546875 -7.484375 C 5.703125 -7.273438 5.828125 -7.015625 5.921875 -6.703125 L 4.90625 -6.515625 C 4.800781 -6.867188 4.628906 -7.125 4.390625 -7.28125 C 4.148438 -7.445312 3.867188 -7.53125 3.546875 -7.53125 C 3.265625 -7.53125 3.003906 -7.457031 2.765625 -7.3125 C 2.535156 -7.175781 2.335938 -6.972656 2.171875 -6.703125 C 2.003906 -6.429688 1.875 -6.085938 1.78125 -5.671875 C 1.695312 -5.265625 1.65625 -4.789062 1.65625 -4.25 C 1.851562 -4.601562 2.125 -4.875 2.46875 -5.0625 C 2.8125 -5.25 3.207031 -5.34375 3.65625 -5.34375 C 4.03125 -5.34375 4.367188 -5.28125 4.671875 -5.15625 C 4.984375 -5.03125 5.25 -4.851562 5.46875 -4.625 C 5.6875 -4.40625 5.851562 -4.128906 5.96875 -3.796875 C 6.082031 -3.472656 6.140625 -3.109375 6.140625 -2.703125 Z M 5.078125 -2.65625 C 5.078125 -2.9375 5.039062 -3.191406 4.96875 -3.421875 C 4.894531 -3.660156 4.785156 -3.859375 4.640625 -4.015625 C 4.503906 -4.179688 4.332031 -4.304688 4.125 -4.390625 C 3.925781 -4.484375 3.6875 -4.53125 3.40625 -4.53125 C 3.21875 -4.53125 3.023438 -4.5 2.828125 -4.4375 C 2.628906 -4.382812 2.453125 -4.289062 2.296875 -4.15625 C 2.140625 -4.03125 2.007812 -3.863281 1.90625 -3.65625 C 1.8125 -3.457031 1.765625 -3.207031 1.765625 -2.90625 C 1.765625 -2.601562 1.800781 -2.316406 1.875 -2.046875 C 1.957031 -1.785156 2.070312 -1.554688 2.21875 -1.359375 C 2.363281 -1.171875 2.539062 -1.019531 2.75 -0.90625 C 2.957031 -0.789062 3.191406 -0.734375 3.453125 -0.734375 C 3.703125 -0.734375 3.925781 -0.773438 4.125 -0.859375 C 4.332031 -0.953125 4.503906 -1.082031 4.640625 -1.25 C 4.785156 -1.414062 4.894531 -1.613281 4.96875 -1.84375 C 5.039062 -2.082031 5.078125 -2.351562 5.078125 -2.65625 Z M 5.078125 -2.65625 \"/>\n",
       "</g>\n",
       "<g id=\"glyph-0-3\">\n",
       "<path d=\"M 6.15625 -2.296875 C 6.15625 -1.953125 6.097656 -1.628906 5.984375 -1.328125 C 5.867188 -1.035156 5.695312 -0.78125 5.46875 -0.5625 C 5.25 -0.351562 4.957031 -0.1875 4.59375 -0.0625 C 4.238281 0.0625 3.820312 0.125 3.34375 0.125 C 2.851562 0.125 2.429688 0.0625 2.078125 -0.0625 C 1.722656 -0.1875 1.429688 -0.351562 1.203125 -0.5625 C 0.972656 -0.78125 0.800781 -1.035156 0.6875 -1.328125 C 0.570312 -1.617188 0.515625 -1.941406 0.515625 -2.296875 C 0.515625 -2.597656 0.5625 -2.863281 0.65625 -3.09375 C 0.75 -3.332031 0.875 -3.535156 1.03125 -3.703125 C 1.1875 -3.867188 1.363281 -4.003906 1.5625 -4.109375 C 1.757812 -4.210938 1.960938 -4.28125 2.171875 -4.3125 L 2.171875 -4.34375 C 1.941406 -4.394531 1.734375 -4.476562 1.546875 -4.59375 C 1.367188 -4.71875 1.21875 -4.863281 1.09375 -5.03125 C 0.96875 -5.207031 0.875 -5.398438 0.8125 -5.609375 C 0.75 -5.816406 0.71875 -6.035156 0.71875 -6.265625 C 0.71875 -6.554688 0.769531 -6.828125 0.875 -7.078125 C 0.988281 -7.335938 1.15625 -7.5625 1.375 -7.75 C 1.59375 -7.945312 1.863281 -8.097656 2.1875 -8.203125 C 2.507812 -8.316406 2.882812 -8.375 3.3125 -8.375 C 3.757812 -8.375 4.148438 -8.316406 4.484375 -8.203125 C 4.816406 -8.097656 5.085938 -7.945312 5.296875 -7.75 C 5.515625 -7.550781 5.675781 -7.320312 5.78125 -7.0625 C 5.894531 -6.8125 5.953125 -6.539062 5.953125 -6.25 C 5.953125 -6.019531 5.914062 -5.800781 5.84375 -5.59375 C 5.78125 -5.394531 5.6875 -5.207031 5.5625 -5.03125 C 5.445312 -4.863281 5.296875 -4.71875 5.109375 -4.59375 C 4.929688 -4.476562 4.722656 -4.398438 4.484375 -4.359375 L 4.484375 -4.328125 C 4.722656 -4.285156 4.941406 -4.210938 5.140625 -4.109375 C 5.347656 -4.015625 5.523438 -3.878906 5.671875 -3.703125 C 5.816406 -3.535156 5.929688 -3.332031 6.015625 -3.09375 C 6.109375 -2.863281 6.15625 -2.597656 6.15625 -2.296875 Z M 4.859375 -6.1875 C 4.859375 -6.394531 4.828125 -6.582031 4.765625 -6.75 C 4.710938 -6.925781 4.625 -7.078125 4.5 -7.203125 C 4.382812 -7.328125 4.226562 -7.421875 4.03125 -7.484375 C 3.84375 -7.554688 3.601562 -7.59375 3.3125 -7.59375 C 3.039062 -7.59375 2.804688 -7.554688 2.609375 -7.484375 C 2.421875 -7.421875 2.265625 -7.328125 2.140625 -7.203125 C 2.015625 -7.078125 1.925781 -6.925781 1.875 -6.75 C 1.820312 -6.582031 1.796875 -6.394531 1.796875 -6.1875 C 1.796875 -6.03125 1.816406 -5.863281 1.859375 -5.6875 C 1.898438 -5.519531 1.976562 -5.363281 2.09375 -5.21875 C 2.207031 -5.082031 2.363281 -4.96875 2.5625 -4.875 C 2.757812 -4.78125 3.015625 -4.734375 3.328125 -4.734375 C 3.660156 -4.734375 3.925781 -4.78125 4.125 -4.875 C 4.332031 -4.96875 4.488281 -5.082031 4.59375 -5.21875 C 4.695312 -5.363281 4.765625 -5.519531 4.796875 -5.6875 C 4.835938 -5.863281 4.859375 -6.03125 4.859375 -6.1875 Z M 5.0625 -2.40625 C 5.0625 -2.601562 5.03125 -2.796875 4.96875 -2.984375 C 4.914062 -3.171875 4.820312 -3.332031 4.6875 -3.46875 C 4.5625 -3.613281 4.382812 -3.726562 4.15625 -3.8125 C 3.9375 -3.90625 3.65625 -3.953125 3.3125 -3.953125 C 3.007812 -3.953125 2.75 -3.90625 2.53125 -3.8125 C 2.3125 -3.726562 2.132812 -3.613281 2 -3.46875 C 1.863281 -3.320312 1.765625 -3.15625 1.703125 -2.96875 C 1.640625 -2.78125 1.609375 -2.582031 1.609375 -2.375 C 1.609375 -2.125 1.640625 -1.894531 1.703125 -1.6875 C 1.765625 -1.476562 1.863281 -1.296875 2 -1.140625 C 2.132812 -0.992188 2.3125 -0.878906 2.53125 -0.796875 C 2.757812 -0.710938 3.035156 -0.671875 3.359375 -0.671875 C 3.671875 -0.671875 3.9375 -0.710938 4.15625 -0.796875 C 4.375 -0.878906 4.550781 -0.992188 4.6875 -1.140625 C 4.820312 -1.296875 4.914062 -1.476562 4.96875 -1.6875 C 5.03125 -1.90625 5.0625 -2.144531 5.0625 -2.40625 Z M 5.0625 -2.40625 \"/>\n",
       "</g>\n",
       "<g id=\"glyph-0-4\">\n",
       "<path d=\"M 0.921875 0 L 0.921875 -0.890625 L 3.015625 -0.890625 L 3.015625 -7.25 L 1.15625 -5.921875 L 1.15625 -6.921875 L 3.109375 -8.25 L 4.078125 -8.25 L 4.078125 -0.890625 L 6.09375 -0.890625 L 6.09375 0 Z M 0.921875 0 \"/>\n",
       "</g>\n",
       "<g id=\"glyph-0-5\">\n",
       "<path d=\"M 6.203125 -4.125 C 6.203125 -3.332031 6.125 -2.664062 5.96875 -2.125 C 5.820312 -1.582031 5.617188 -1.144531 5.359375 -0.8125 C 5.097656 -0.476562 4.789062 -0.238281 4.4375 -0.09375 C 4.09375 0.0507812 3.722656 0.125 3.328125 0.125 C 2.921875 0.125 2.539062 0.0507812 2.1875 -0.09375 C 1.84375 -0.238281 1.539062 -0.476562 1.28125 -0.8125 C 1.03125 -1.144531 0.832031 -1.582031 0.6875 -2.125 C 0.539062 -2.664062 0.46875 -3.332031 0.46875 -4.125 C 0.46875 -4.957031 0.539062 -5.644531 0.6875 -6.1875 C 0.832031 -6.738281 1.035156 -7.175781 1.296875 -7.5 C 1.554688 -7.820312 1.859375 -8.046875 2.203125 -8.171875 C 2.554688 -8.304688 2.941406 -8.375 3.359375 -8.375 C 3.753906 -8.375 4.125 -8.304688 4.46875 -8.171875 C 4.8125 -8.046875 5.113281 -7.820312 5.375 -7.5 C 5.632812 -7.175781 5.835938 -6.738281 5.984375 -6.1875 C 6.128906 -5.644531 6.203125 -4.957031 6.203125 -4.125 Z M 5.140625 -4.125 C 5.140625 -4.78125 5.097656 -5.328125 5.015625 -5.765625 C 4.941406 -6.203125 4.828125 -6.550781 4.671875 -6.8125 C 4.515625 -7.070312 4.328125 -7.253906 4.109375 -7.359375 C 3.890625 -7.472656 3.640625 -7.53125 3.359375 -7.53125 C 3.054688 -7.53125 2.789062 -7.472656 2.5625 -7.359375 C 2.34375 -7.253906 2.15625 -7.070312 2 -6.8125 C 1.84375 -6.550781 1.722656 -6.203125 1.640625 -5.765625 C 1.566406 -5.328125 1.53125 -4.78125 1.53125 -4.125 C 1.53125 -3.5 1.570312 -2.96875 1.65625 -2.53125 C 1.738281 -2.09375 1.851562 -1.742188 2 -1.484375 C 2.15625 -1.222656 2.34375 -1.035156 2.5625 -0.921875 C 2.789062 -0.804688 3.046875 -0.75 3.328125 -0.75 C 3.609375 -0.75 3.859375 -0.804688 4.078125 -0.921875 C 4.304688 -1.035156 4.492188 -1.222656 4.640625 -1.484375 C 4.796875 -1.742188 4.914062 -2.09375 5 -2.53125 C 5.09375 -2.96875 5.140625 -3.5 5.140625 -4.125 Z M 5.140625 -4.125 \"/>\n",
       "</g>\n",
       "<g id=\"glyph-0-6\">\n",
       "<path d=\"M 6.34375 0 L 1.921875 -7.03125 C 1.929688 -6.84375 1.941406 -6.65625 1.953125 -6.46875 C 1.960938 -6.300781 1.96875 -6.128906 1.96875 -5.953125 C 1.976562 -5.773438 1.984375 -5.617188 1.984375 -5.484375 L 1.984375 0 L 0.984375 0 L 0.984375 -8.25 L 2.28125 -8.25 L 6.75 -1.171875 C 6.738281 -1.367188 6.726562 -1.5625 6.71875 -1.75 C 6.707031 -1.914062 6.695312 -2.09375 6.6875 -2.28125 C 6.6875 -2.476562 6.6875 -2.664062 6.6875 -2.84375 L 6.6875 -8.25 L 7.6875 -8.25 L 7.6875 0 Z M 6.34375 0 \"/>\n",
       "</g>\n",
       "<g id=\"glyph-0-7\">\n",
       "<path d=\"M 1.84375 -6.34375 L 1.84375 -2.328125 C 1.84375 -2.015625 1.863281 -1.753906 1.90625 -1.546875 C 1.945312 -1.335938 2.019531 -1.171875 2.125 -1.046875 C 2.226562 -0.921875 2.363281 -0.832031 2.53125 -0.78125 C 2.695312 -0.726562 2.898438 -0.703125 3.140625 -0.703125 C 3.390625 -0.703125 3.613281 -0.742188 3.8125 -0.828125 C 4.019531 -0.921875 4.191406 -1.046875 4.328125 -1.203125 C 4.472656 -1.367188 4.582031 -1.570312 4.65625 -1.8125 C 4.738281 -2.0625 4.78125 -2.347656 4.78125 -2.671875 L 4.78125 -6.34375 L 5.84375 -6.34375 L 5.84375 -1.359375 C 5.84375 -1.222656 5.84375 -1.082031 5.84375 -0.9375 C 5.84375 -0.789062 5.84375 -0.648438 5.84375 -0.515625 C 5.851562 -0.390625 5.859375 -0.28125 5.859375 -0.1875 C 5.867188 -0.09375 5.875 -0.03125 5.875 0 L 4.875 0 C 4.875 -0.0195312 4.867188 -0.0703125 4.859375 -0.15625 C 4.859375 -0.238281 4.851562 -0.335938 4.84375 -0.453125 C 4.84375 -0.566406 4.835938 -0.679688 4.828125 -0.796875 C 4.828125 -0.910156 4.828125 -1.003906 4.828125 -1.078125 L 4.8125 -1.078125 C 4.71875 -0.898438 4.609375 -0.734375 4.484375 -0.578125 C 4.359375 -0.429688 4.21875 -0.304688 4.0625 -0.203125 C 3.90625 -0.0976562 3.722656 -0.0195312 3.515625 0.03125 C 3.304688 0.09375 3.066406 0.125 2.796875 0.125 C 2.441406 0.125 2.132812 0.0820312 1.875 0 C 1.625 -0.09375 1.414062 -0.226562 1.25 -0.40625 C 1.09375 -0.59375 0.972656 -0.828125 0.890625 -1.109375 C 0.816406 -1.390625 0.78125 -1.722656 0.78125 -2.109375 L 0.78125 -6.34375 Z M 1.84375 -6.34375 \"/>\n",
       "</g>\n",
       "<g id=\"glyph-0-8\">\n",
       "<path d=\"M 4.5 0 L 4.5 -4.015625 C 4.5 -4.328125 4.476562 -4.585938 4.4375 -4.796875 C 4.40625 -5.003906 4.34375 -5.171875 4.25 -5.296875 C 4.15625 -5.421875 4.03125 -5.507812 3.875 -5.5625 C 3.726562 -5.613281 3.550781 -5.640625 3.34375 -5.640625 C 3.113281 -5.640625 2.910156 -5.59375 2.734375 -5.5 C 2.554688 -5.414062 2.40625 -5.289062 2.28125 -5.125 C 2.15625 -4.957031 2.054688 -4.753906 1.984375 -4.515625 C 1.910156 -4.273438 1.875 -3.992188 1.875 -3.671875 L 1.875 0 L 0.828125 0 L 0.828125 -4.984375 C 0.828125 -5.117188 0.828125 -5.257812 0.828125 -5.40625 C 0.828125 -5.550781 0.820312 -5.6875 0.8125 -5.8125 C 0.8125 -5.945312 0.804688 -6.0625 0.796875 -6.15625 C 0.796875 -6.25 0.796875 -6.3125 0.796875 -6.34375 L 1.796875 -6.34375 C 1.796875 -6.320312 1.796875 -6.265625 1.796875 -6.171875 C 1.804688 -6.085938 1.8125 -5.988281 1.8125 -5.875 C 1.820312 -5.769531 1.828125 -5.660156 1.828125 -5.546875 C 1.835938 -5.429688 1.84375 -5.332031 1.84375 -5.25 L 1.859375 -5.25 C 1.953125 -5.4375 2.050781 -5.601562 2.15625 -5.75 C 2.269531 -5.90625 2.398438 -6.03125 2.546875 -6.125 C 2.691406 -6.226562 2.859375 -6.304688 3.046875 -6.359375 C 3.234375 -6.421875 3.453125 -6.453125 3.703125 -6.453125 C 4.191406 -6.453125 4.570312 -6.359375 4.84375 -6.171875 C 5.125 -5.984375 5.320312 -5.675781 5.4375 -5.25 L 5.453125 -5.25 C 5.546875 -5.4375 5.648438 -5.601562 5.765625 -5.75 C 5.878906 -5.90625 6.015625 -6.03125 6.171875 -6.125 C 6.328125 -6.226562 6.503906 -6.304688 6.703125 -6.359375 C 6.898438 -6.421875 7.125 -6.453125 7.375 -6.453125 C 7.695312 -6.453125 7.972656 -6.410156 8.203125 -6.328125 C 8.429688 -6.242188 8.617188 -6.109375 8.765625 -5.921875 C 8.921875 -5.742188 9.03125 -5.515625 9.09375 -5.234375 C 9.164062 -4.953125 9.203125 -4.613281 9.203125 -4.21875 L 9.203125 0 L 8.15625 0 L 8.15625 -4.015625 C 8.15625 -4.328125 8.132812 -4.585938 8.09375 -4.796875 C 8.0625 -5.003906 8 -5.171875 7.90625 -5.296875 C 7.8125 -5.421875 7.691406 -5.507812 7.546875 -5.5625 C 7.398438 -5.613281 7.21875 -5.640625 7 -5.640625 C 6.78125 -5.640625 6.578125 -5.597656 6.390625 -5.515625 C 6.210938 -5.429688 6.0625 -5.304688 5.9375 -5.140625 C 5.8125 -4.984375 5.710938 -4.78125 5.640625 -4.53125 C 5.578125 -4.28125 5.546875 -3.992188 5.546875 -3.671875 L 5.546875 0 Z M 4.5 0 \"/>\n",
       "</g>\n",
       "<g id=\"glyph-0-9\">\n",
       "<path d=\"M 6.171875 -3.203125 C 6.171875 -0.984375 5.394531 0.125 3.84375 0.125 C 3.363281 0.125 2.960938 0.0351562 2.640625 -0.140625 C 2.316406 -0.316406 2.054688 -0.597656 1.859375 -0.984375 C 1.859375 -0.878906 1.851562 -0.769531 1.84375 -0.65625 C 1.832031 -0.550781 1.820312 -0.453125 1.8125 -0.359375 C 1.8125 -0.265625 1.804688 -0.1875 1.796875 -0.125 C 1.796875 -0.0625 1.796875 -0.0195312 1.796875 0 L 0.78125 0 C 0.78125 -0.03125 0.78125 -0.0859375 0.78125 -0.171875 C 0.789062 -0.265625 0.796875 -0.367188 0.796875 -0.484375 C 0.796875 -0.597656 0.796875 -0.722656 0.796875 -0.859375 C 0.804688 -1.003906 0.8125 -1.15625 0.8125 -1.3125 L 0.8125 -8.703125 L 1.859375 -8.703125 L 1.859375 -6.21875 C 1.859375 -6.101562 1.859375 -5.988281 1.859375 -5.875 C 1.859375 -5.769531 1.859375 -5.675781 1.859375 -5.59375 C 1.847656 -5.5 1.84375 -5.410156 1.84375 -5.328125 L 1.859375 -5.328125 C 2.054688 -5.734375 2.316406 -6.019531 2.640625 -6.1875 C 2.960938 -6.363281 3.363281 -6.453125 3.84375 -6.453125 C 4.644531 -6.453125 5.234375 -6.179688 5.609375 -5.640625 C 5.984375 -5.109375 6.171875 -4.296875 6.171875 -3.203125 Z M 5.0625 -3.171875 C 5.0625 -3.609375 5.035156 -3.984375 4.984375 -4.296875 C 4.929688 -4.609375 4.84375 -4.863281 4.71875 -5.0625 C 4.59375 -5.257812 4.4375 -5.40625 4.25 -5.5 C 4.0625 -5.59375 3.832031 -5.640625 3.5625 -5.640625 C 3.289062 -5.640625 3.046875 -5.59375 2.828125 -5.5 C 2.617188 -5.414062 2.441406 -5.273438 2.296875 -5.078125 C 2.160156 -4.878906 2.050781 -4.613281 1.96875 -4.28125 C 1.894531 -3.957031 1.859375 -3.5625 1.859375 -3.09375 C 1.859375 -2.644531 1.894531 -2.265625 1.96875 -1.953125 C 2.050781 -1.648438 2.160156 -1.398438 2.296875 -1.203125 C 2.441406 -1.015625 2.617188 -0.875 2.828125 -0.78125 C 3.035156 -0.695312 3.28125 -0.65625 3.5625 -0.65625 C 3.8125 -0.65625 4.03125 -0.703125 4.21875 -0.796875 C 4.40625 -0.890625 4.5625 -1.035156 4.6875 -1.234375 C 4.8125 -1.429688 4.90625 -1.6875 4.96875 -2 C 5.03125 -2.320312 5.0625 -2.710938 5.0625 -3.171875 Z M 5.0625 -3.171875 \"/>\n",
       "</g>\n",
       "<g id=\"glyph-0-10\">\n",
       "<path d=\"M 1.625 -2.953125 C 1.625 -2.617188 1.65625 -2.3125 1.71875 -2.03125 C 1.789062 -1.75 1.894531 -1.507812 2.03125 -1.3125 C 2.175781 -1.113281 2.359375 -0.957031 2.578125 -0.84375 C 2.804688 -0.726562 3.078125 -0.671875 3.390625 -0.671875 C 3.847656 -0.671875 4.210938 -0.757812 4.484375 -0.9375 C 4.765625 -1.125 4.953125 -1.359375 5.046875 -1.640625 L 5.96875 -1.390625 C 5.90625 -1.210938 5.8125 -1.035156 5.6875 -0.859375 C 5.570312 -0.679688 5.414062 -0.519531 5.21875 -0.375 C 5.019531 -0.226562 4.769531 -0.109375 4.46875 -0.015625 C 4.164062 0.078125 3.804688 0.125 3.390625 0.125 C 2.453125 0.125 1.738281 -0.15625 1.25 -0.71875 C 0.757812 -1.28125 0.515625 -2.113281 0.515625 -3.21875 C 0.515625 -3.8125 0.585938 -4.3125 0.734375 -4.71875 C 0.878906 -5.132812 1.082031 -5.46875 1.34375 -5.71875 C 1.601562 -5.976562 1.90625 -6.164062 2.25 -6.28125 C 2.59375 -6.394531 2.957031 -6.453125 3.34375 -6.453125 C 3.875 -6.453125 4.316406 -6.363281 4.671875 -6.1875 C 5.035156 -6.019531 5.320312 -5.785156 5.53125 -5.484375 C 5.75 -5.179688 5.90625 -4.820312 6 -4.40625 C 6.09375 -4 6.140625 -3.5625 6.140625 -3.09375 L 6.140625 -2.953125 Z M 5.046875 -3.75 C 4.992188 -4.425781 4.828125 -4.914062 4.546875 -5.21875 C 4.265625 -5.519531 3.859375 -5.671875 3.328125 -5.671875 C 3.148438 -5.671875 2.960938 -5.644531 2.765625 -5.59375 C 2.578125 -5.539062 2.398438 -5.441406 2.234375 -5.296875 C 2.078125 -5.148438 1.941406 -4.953125 1.828125 -4.703125 C 1.710938 -4.453125 1.644531 -4.132812 1.625 -3.75 Z M 5.046875 -3.75 \"/>\n",
       "</g>\n",
       "<g id=\"glyph-0-11\">\n",
       "<path d=\"M 0.828125 0 L 0.828125 -4.859375 C 0.828125 -4.992188 0.828125 -5.128906 0.828125 -5.265625 C 0.828125 -5.410156 0.820312 -5.546875 0.8125 -5.671875 C 0.8125 -5.796875 0.804688 -5.914062 0.796875 -6.03125 C 0.796875 -6.144531 0.796875 -6.25 0.796875 -6.34375 L 1.796875 -6.34375 C 1.796875 -6.25 1.796875 -6.144531 1.796875 -6.03125 C 1.804688 -5.914062 1.8125 -5.796875 1.8125 -5.671875 C 1.820312 -5.554688 1.828125 -5.441406 1.828125 -5.328125 C 1.835938 -5.210938 1.84375 -5.117188 1.84375 -5.046875 L 1.859375 -5.046875 C 1.929688 -5.285156 2.007812 -5.492188 2.09375 -5.671875 C 2.1875 -5.847656 2.285156 -5.992188 2.390625 -6.109375 C 2.503906 -6.222656 2.640625 -6.304688 2.796875 -6.359375 C 2.953125 -6.421875 3.144531 -6.453125 3.375 -6.453125 C 3.457031 -6.453125 3.535156 -6.445312 3.609375 -6.4375 C 3.691406 -6.425781 3.753906 -6.414062 3.796875 -6.40625 L 3.796875 -5.4375 C 3.722656 -5.457031 3.640625 -5.46875 3.546875 -5.46875 C 3.453125 -5.476562 3.347656 -5.484375 3.234375 -5.484375 C 2.992188 -5.484375 2.785156 -5.425781 2.609375 -5.3125 C 2.441406 -5.207031 2.304688 -5.054688 2.203125 -4.859375 C 2.097656 -4.671875 2.019531 -4.441406 1.96875 -4.171875 C 1.914062 -3.910156 1.890625 -3.625 1.890625 -3.3125 L 1.890625 0 Z M 0.828125 0 \"/>\n",
       "</g>\n",
       "<g id=\"glyph-0-12\">\n",
       "</g>\n",
       "<g id=\"glyph-0-13\">\n",
       "<path d=\"M 6.171875 -3.171875 C 6.171875 -2.066406 5.925781 -1.238281 5.4375 -0.6875 C 4.945312 -0.144531 4.238281 0.125 3.3125 0.125 C 2.875 0.125 2.476562 0.0546875 2.125 -0.078125 C 1.78125 -0.210938 1.488281 -0.414062 1.25 -0.6875 C 1.007812 -0.96875 0.820312 -1.3125 0.6875 -1.71875 C 0.5625 -2.132812 0.5 -2.617188 0.5 -3.171875 C 0.5 -5.359375 1.445312 -6.453125 3.34375 -6.453125 C 3.832031 -6.453125 4.253906 -6.382812 4.609375 -6.25 C 4.972656 -6.113281 5.269531 -5.910156 5.5 -5.640625 C 5.726562 -5.367188 5.894531 -5.023438 6 -4.609375 C 6.113281 -4.203125 6.171875 -3.722656 6.171875 -3.171875 Z M 5.0625 -3.171875 C 5.0625 -3.671875 5.019531 -4.078125 4.9375 -4.390625 C 4.863281 -4.710938 4.753906 -4.96875 4.609375 -5.15625 C 4.460938 -5.351562 4.285156 -5.488281 4.078125 -5.5625 C 3.867188 -5.632812 3.628906 -5.671875 3.359375 -5.671875 C 3.085938 -5.671875 2.84375 -5.628906 2.625 -5.546875 C 2.414062 -5.472656 2.234375 -5.335938 2.078125 -5.140625 C 1.929688 -4.953125 1.816406 -4.695312 1.734375 -4.375 C 1.648438 -4.050781 1.609375 -3.648438 1.609375 -3.171875 C 1.609375 -2.679688 1.648438 -2.273438 1.734375 -1.953125 C 1.828125 -1.628906 1.945312 -1.367188 2.09375 -1.171875 C 2.25 -0.984375 2.425781 -0.847656 2.625 -0.765625 C 2.832031 -0.691406 3.054688 -0.65625 3.296875 -0.65625 C 3.566406 -0.65625 3.8125 -0.691406 4.03125 -0.765625 C 4.25 -0.847656 4.429688 -0.984375 4.578125 -1.171875 C 4.734375 -1.367188 4.851562 -1.628906 4.9375 -1.953125 C 5.019531 -2.273438 5.0625 -2.679688 5.0625 -3.171875 Z M 5.0625 -3.171875 \"/>\n",
       "</g>\n",
       "<g id=\"glyph-0-14\">\n",
       "<path d=\"M 2.109375 -5.578125 L 2.109375 0 L 1.0625 0 L 1.0625 -5.578125 L 0.171875 -5.578125 L 0.171875 -6.34375 L 1.0625 -6.34375 L 1.0625 -7.0625 C 1.0625 -7.289062 1.082031 -7.503906 1.125 -7.703125 C 1.164062 -7.898438 1.242188 -8.070312 1.359375 -8.21875 C 1.472656 -8.363281 1.628906 -8.476562 1.828125 -8.5625 C 2.035156 -8.644531 2.296875 -8.6875 2.609375 -8.6875 C 2.734375 -8.6875 2.863281 -8.679688 3 -8.671875 C 3.132812 -8.660156 3.253906 -8.640625 3.359375 -8.609375 L 3.359375 -7.8125 C 3.285156 -7.820312 3.203125 -7.832031 3.109375 -7.84375 C 3.023438 -7.851562 2.953125 -7.859375 2.890625 -7.859375 C 2.734375 -7.859375 2.601562 -7.835938 2.5 -7.796875 C 2.394531 -7.753906 2.316406 -7.691406 2.265625 -7.609375 C 2.210938 -7.523438 2.171875 -7.425781 2.140625 -7.3125 C 2.117188 -7.195312 2.109375 -7.0625 2.109375 -6.90625 L 2.109375 -6.34375 L 3.359375 -6.34375 L 3.359375 -5.578125 Z M 2.109375 -5.578125 \"/>\n",
       "</g>\n",
       "<g id=\"glyph-0-15\">\n",
       "<path d=\"M 1.109375 0 L 1.109375 -8.25 L 2.234375 -8.25 L 2.234375 0 Z M 1.109375 0 \"/>\n",
       "</g>\n",
       "<g id=\"glyph-0-16\">\n",
       "<path d=\"M 4.828125 0 L 4.828125 -4.015625 C 4.828125 -4.328125 4.804688 -4.585938 4.765625 -4.796875 C 4.722656 -5.003906 4.648438 -5.171875 4.546875 -5.296875 C 4.441406 -5.421875 4.304688 -5.507812 4.140625 -5.5625 C 3.972656 -5.613281 3.769531 -5.640625 3.53125 -5.640625 C 3.28125 -5.640625 3.050781 -5.59375 2.84375 -5.5 C 2.644531 -5.414062 2.472656 -5.289062 2.328125 -5.125 C 2.191406 -4.957031 2.082031 -4.753906 2 -4.515625 C 1.925781 -4.273438 1.890625 -3.992188 1.890625 -3.671875 L 1.890625 0 L 0.828125 0 L 0.828125 -4.984375 C 0.828125 -5.117188 0.828125 -5.257812 0.828125 -5.40625 C 0.828125 -5.550781 0.820312 -5.6875 0.8125 -5.8125 C 0.8125 -5.945312 0.804688 -6.0625 0.796875 -6.15625 C 0.796875 -6.25 0.796875 -6.3125 0.796875 -6.34375 L 1.796875 -6.34375 C 1.796875 -6.320312 1.796875 -6.265625 1.796875 -6.171875 C 1.804688 -6.085938 1.8125 -5.988281 1.8125 -5.875 C 1.820312 -5.769531 1.828125 -5.660156 1.828125 -5.546875 C 1.835938 -5.429688 1.84375 -5.332031 1.84375 -5.25 L 1.859375 -5.25 C 1.960938 -5.4375 2.070312 -5.601562 2.1875 -5.75 C 2.3125 -5.90625 2.453125 -6.03125 2.609375 -6.125 C 2.773438 -6.226562 2.957031 -6.304688 3.15625 -6.359375 C 3.363281 -6.421875 3.609375 -6.453125 3.890625 -6.453125 C 4.234375 -6.453125 4.53125 -6.410156 4.78125 -6.328125 C 5.039062 -6.242188 5.253906 -6.109375 5.421875 -5.921875 C 5.585938 -5.742188 5.707031 -5.515625 5.78125 -5.234375 C 5.851562 -4.953125 5.890625 -4.613281 5.890625 -4.21875 L 5.890625 0 Z M 4.828125 0 \"/>\n",
       "</g>\n",
       "<g id=\"glyph-0-17\">\n",
       "<path d=\"M 6.171875 -3.203125 C 6.171875 -2.722656 6.128906 -2.28125 6.046875 -1.875 C 5.972656 -1.46875 5.84375 -1.113281 5.65625 -0.8125 C 5.476562 -0.519531 5.238281 -0.289062 4.9375 -0.125 C 4.644531 0.0390625 4.28125 0.125 3.84375 0.125 C 3.382812 0.125 2.984375 0.0351562 2.640625 -0.140625 C 2.304688 -0.316406 2.050781 -0.597656 1.875 -0.984375 L 1.84375 -0.984375 C 1.84375 -0.972656 1.84375 -0.9375 1.84375 -0.875 C 1.851562 -0.8125 1.859375 -0.734375 1.859375 -0.640625 C 1.859375 -0.546875 1.859375 -0.441406 1.859375 -0.328125 C 1.859375 -0.210938 1.859375 -0.0976562 1.859375 0.015625 L 1.859375 2.484375 L 0.8125 2.484375 L 0.8125 -5.046875 C 0.8125 -5.203125 0.804688 -5.347656 0.796875 -5.484375 C 0.796875 -5.628906 0.796875 -5.757812 0.796875 -5.875 C 0.796875 -5.988281 0.789062 -6.082031 0.78125 -6.15625 C 0.78125 -6.238281 0.78125 -6.300781 0.78125 -6.34375 L 1.796875 -6.34375 C 1.796875 -6.332031 1.796875 -6.289062 1.796875 -6.21875 C 1.804688 -6.144531 1.8125 -6.054688 1.8125 -5.953125 C 1.820312 -5.859375 1.832031 -5.753906 1.84375 -5.640625 C 1.851562 -5.523438 1.859375 -5.421875 1.859375 -5.328125 L 1.875 -5.328125 C 1.96875 -5.523438 2.078125 -5.691406 2.203125 -5.828125 C 2.328125 -5.972656 2.46875 -6.09375 2.625 -6.1875 C 2.789062 -6.28125 2.972656 -6.347656 3.171875 -6.390625 C 3.367188 -6.429688 3.59375 -6.453125 3.84375 -6.453125 C 4.28125 -6.453125 4.644531 -6.375 4.9375 -6.21875 C 5.238281 -6.0625 5.476562 -5.84375 5.65625 -5.5625 C 5.84375 -5.28125 5.972656 -4.9375 6.046875 -4.53125 C 6.128906 -4.132812 6.171875 -3.691406 6.171875 -3.203125 Z M 5.0625 -3.171875 C 5.0625 -3.566406 5.035156 -3.914062 4.984375 -4.21875 C 4.941406 -4.519531 4.863281 -4.773438 4.75 -4.984375 C 4.632812 -5.203125 4.476562 -5.363281 4.28125 -5.46875 C 4.09375 -5.582031 3.851562 -5.640625 3.5625 -5.640625 C 3.332031 -5.640625 3.113281 -5.601562 2.90625 -5.53125 C 2.695312 -5.46875 2.515625 -5.34375 2.359375 -5.15625 C 2.210938 -4.96875 2.09375 -4.707031 2 -4.375 C 1.90625 -4.050781 1.859375 -3.625 1.859375 -3.09375 C 1.859375 -2.644531 1.894531 -2.265625 1.96875 -1.953125 C 2.050781 -1.640625 2.160156 -1.390625 2.296875 -1.203125 C 2.441406 -1.015625 2.617188 -0.875 2.828125 -0.78125 C 3.035156 -0.695312 3.28125 -0.65625 3.5625 -0.65625 C 3.851562 -0.65625 4.09375 -0.710938 4.28125 -0.828125 C 4.476562 -0.941406 4.632812 -1.101562 4.75 -1.3125 C 4.863281 -1.53125 4.941406 -1.796875 4.984375 -2.109375 C 5.035156 -2.421875 5.0625 -2.773438 5.0625 -3.171875 Z M 5.0625 -3.171875 \"/>\n",
       "</g>\n",
       "<g id=\"glyph-0-18\">\n",
       "<path d=\"M 3.25 -0.046875 C 3.082031 -0.00390625 2.914062 0.0234375 2.75 0.046875 C 2.59375 0.078125 2.40625 0.09375 2.1875 0.09375 C 1.34375 0.09375 0.921875 -0.382812 0.921875 -1.34375 L 0.921875 -5.578125 L 0.1875 -5.578125 L 0.1875 -6.34375 L 0.953125 -6.34375 L 1.265625 -7.765625 L 1.96875 -7.765625 L 1.96875 -6.34375 L 3.140625 -6.34375 L 3.140625 -5.578125 L 1.96875 -5.578125 L 1.96875 -1.578125 C 1.96875 -1.265625 2.015625 -1.046875 2.109375 -0.921875 C 2.210938 -0.804688 2.390625 -0.75 2.640625 -0.75 C 2.742188 -0.75 2.84375 -0.753906 2.9375 -0.765625 C 3.03125 -0.785156 3.132812 -0.804688 3.25 -0.828125 Z M 3.25 -0.046875 \"/>\n",
       "</g>\n",
       "<g id=\"glyph-0-19\">\n",
       "<path d=\"M 4.578125 0 L 3.421875 0 L 0.046875 -8.25 L 1.234375 -8.25 L 3.515625 -2.4375 C 3.578125 -2.269531 3.632812 -2.097656 3.6875 -1.921875 C 3.75 -1.742188 3.800781 -1.585938 3.84375 -1.453125 C 3.90625 -1.296875 3.960938 -1.140625 4.015625 -0.984375 C 4.054688 -1.128906 4.101562 -1.28125 4.15625 -1.4375 C 4.207031 -1.570312 4.257812 -1.722656 4.3125 -1.890625 C 4.375 -2.066406 4.4375 -2.25 4.5 -2.4375 L 6.78125 -8.25 L 7.953125 -8.25 Z M 4.578125 0 \"/>\n",
       "</g>\n",
       "<g id=\"glyph-0-20\">\n",
       "<path d=\"M 2.421875 0.125 C 1.785156 0.125 1.304688 -0.0390625 0.984375 -0.375 C 0.671875 -0.71875 0.515625 -1.179688 0.515625 -1.765625 C 0.515625 -2.179688 0.59375 -2.523438 0.75 -2.796875 C 0.90625 -3.066406 1.109375 -3.273438 1.359375 -3.421875 C 1.617188 -3.578125 1.910156 -3.679688 2.234375 -3.734375 C 2.566406 -3.796875 2.90625 -3.832031 3.25 -3.84375 L 4.671875 -3.875 L 4.671875 -4.21875 C 4.671875 -4.476562 4.640625 -4.695312 4.578125 -4.875 C 4.523438 -5.0625 4.441406 -5.210938 4.328125 -5.328125 C 4.222656 -5.441406 4.082031 -5.523438 3.90625 -5.578125 C 3.738281 -5.628906 3.539062 -5.65625 3.3125 -5.65625 C 3.101562 -5.65625 2.914062 -5.640625 2.75 -5.609375 C 2.59375 -5.578125 2.453125 -5.523438 2.328125 -5.453125 C 2.210938 -5.378906 2.113281 -5.273438 2.03125 -5.140625 C 1.957031 -5.015625 1.910156 -4.847656 1.890625 -4.640625 L 0.796875 -4.75 C 0.828125 -5 0.894531 -5.226562 1 -5.4375 C 1.113281 -5.644531 1.269531 -5.820312 1.46875 -5.96875 C 1.675781 -6.125 1.929688 -6.242188 2.234375 -6.328125 C 2.535156 -6.410156 2.898438 -6.453125 3.328125 -6.453125 C 4.128906 -6.453125 4.726562 -6.269531 5.125 -5.90625 C 5.53125 -5.539062 5.734375 -5.015625 5.734375 -4.328125 L 5.734375 -1.59375 C 5.734375 -1.28125 5.773438 -1.046875 5.859375 -0.890625 C 5.941406 -0.734375 6.097656 -0.65625 6.328125 -0.65625 C 6.390625 -0.65625 6.445312 -0.65625 6.5 -0.65625 C 6.5625 -0.664062 6.617188 -0.675781 6.671875 -0.6875 L 6.671875 -0.03125 C 6.535156 0 6.398438 0.0195312 6.265625 0.03125 C 6.140625 0.0507812 6.003906 0.0625 5.859375 0.0625 C 5.660156 0.0625 5.488281 0.0351562 5.34375 -0.015625 C 5.207031 -0.0664062 5.09375 -0.144531 5 -0.25 C 4.90625 -0.363281 4.832031 -0.5 4.78125 -0.65625 C 4.738281 -0.8125 4.710938 -1 4.703125 -1.21875 L 4.671875 -1.21875 C 4.554688 -1.007812 4.429688 -0.820312 4.296875 -0.65625 C 4.160156 -0.5 4.003906 -0.363281 3.828125 -0.25 C 3.648438 -0.132812 3.445312 -0.046875 3.21875 0.015625 C 2.988281 0.0859375 2.722656 0.125 2.421875 0.125 Z M 2.671875 -0.671875 C 3.003906 -0.671875 3.296875 -0.734375 3.546875 -0.859375 C 3.796875 -0.984375 4.003906 -1.140625 4.171875 -1.328125 C 4.335938 -1.523438 4.460938 -1.734375 4.546875 -1.953125 C 4.628906 -2.179688 4.671875 -2.398438 4.671875 -2.609375 L 4.671875 -3.125 L 3.515625 -3.109375 C 3.253906 -3.097656 3.007812 -3.078125 2.78125 -3.046875 C 2.550781 -3.015625 2.347656 -2.945312 2.171875 -2.84375 C 1.992188 -2.75 1.851562 -2.613281 1.75 -2.4375 C 1.644531 -2.269531 1.59375 -2.039062 1.59375 -1.75 C 1.59375 -1.40625 1.6875 -1.140625 1.875 -0.953125 C 2.0625 -0.765625 2.328125 -0.671875 2.671875 -0.671875 Z M 2.671875 -0.671875 \"/>\n",
       "</g>\n",
       "<g id=\"glyph-0-21\">\n",
       "<path d=\"M 0.796875 -7.6875 L 0.796875 -8.703125 L 1.859375 -8.703125 L 1.859375 -7.6875 Z M 0.796875 0 L 0.796875 -6.34375 L 1.859375 -6.34375 L 1.859375 0 Z M 0.796875 0 \"/>\n",
       "</g>\n",
       "<g id=\"glyph-0-22\">\n",
       "<path d=\"M 0.8125 0 L 0.8125 -8.703125 L 1.859375 -8.703125 L 1.859375 0 Z M 0.8125 0 \"/>\n",
       "</g>\n",
       "<g id=\"glyph-0-23\">\n",
       "<path d=\"M 5.5625 -1.75 C 5.5625 -1.457031 5.503906 -1.191406 5.390625 -0.953125 C 5.273438 -0.722656 5.109375 -0.53125 4.890625 -0.375 C 4.671875 -0.21875 4.398438 -0.09375 4.078125 0 C 3.765625 0.0820312 3.40625 0.125 3 0.125 C 2.625 0.125 2.289062 0.09375 2 0.03125 C 1.707031 -0.0195312 1.445312 -0.109375 1.21875 -0.234375 C 1 -0.359375 0.8125 -0.523438 0.65625 -0.734375 C 0.507812 -0.941406 0.398438 -1.191406 0.328125 -1.484375 L 1.265625 -1.671875 C 1.359375 -1.328125 1.546875 -1.078125 1.828125 -0.921875 C 2.109375 -0.765625 2.5 -0.6875 3 -0.6875 C 3.21875 -0.6875 3.421875 -0.703125 3.609375 -0.734375 C 3.804688 -0.765625 3.972656 -0.816406 4.109375 -0.890625 C 4.242188 -0.972656 4.347656 -1.078125 4.421875 -1.203125 C 4.503906 -1.328125 4.546875 -1.484375 4.546875 -1.671875 C 4.546875 -1.859375 4.5 -2.015625 4.40625 -2.140625 C 4.3125 -2.265625 4.1875 -2.367188 4.03125 -2.453125 C 3.875 -2.535156 3.679688 -2.601562 3.453125 -2.65625 C 3.222656 -2.71875 2.972656 -2.785156 2.703125 -2.859375 C 2.441406 -2.929688 2.1875 -3.007812 1.9375 -3.09375 C 1.6875 -3.175781 1.460938 -3.28125 1.265625 -3.40625 C 1.066406 -3.539062 0.90625 -3.707031 0.78125 -3.90625 C 0.65625 -4.113281 0.59375 -4.367188 0.59375 -4.671875 C 0.59375 -5.242188 0.796875 -5.679688 1.203125 -5.984375 C 1.617188 -6.285156 2.21875 -6.4375 3 -6.4375 C 3.707031 -6.4375 4.265625 -6.3125 4.671875 -6.0625 C 5.085938 -5.820312 5.347656 -5.429688 5.453125 -4.890625 L 4.5 -4.765625 C 4.46875 -4.929688 4.40625 -5.066406 4.3125 -5.171875 C 4.21875 -5.285156 4.101562 -5.378906 3.96875 -5.453125 C 3.84375 -5.523438 3.695312 -5.570312 3.53125 -5.59375 C 3.363281 -5.625 3.1875 -5.640625 3 -5.640625 C 2.53125 -5.640625 2.179688 -5.566406 1.953125 -5.421875 C 1.722656 -5.273438 1.609375 -5.054688 1.609375 -4.765625 C 1.609375 -4.597656 1.648438 -4.457031 1.734375 -4.34375 C 1.816406 -4.226562 1.929688 -4.132812 2.078125 -4.0625 C 2.234375 -3.988281 2.414062 -3.921875 2.625 -3.859375 C 2.84375 -3.804688 3.078125 -3.75 3.328125 -3.6875 C 3.492188 -3.644531 3.664062 -3.597656 3.84375 -3.546875 C 4.019531 -3.492188 4.191406 -3.429688 4.359375 -3.359375 C 4.523438 -3.296875 4.679688 -3.21875 4.828125 -3.125 C 4.972656 -3.039062 5.097656 -2.929688 5.203125 -2.796875 C 5.316406 -2.671875 5.40625 -2.519531 5.46875 -2.34375 C 5.53125 -2.175781 5.5625 -1.976562 5.5625 -1.75 Z M 5.5625 -1.75 \"/>\n",
       "</g>\n",
       "<g id=\"glyph-1-0\">\n",
       "<path d=\"M -4.125 -6.203125 C -3.332031 -6.203125 -2.664062 -6.125 -2.125 -5.96875 C -1.582031 -5.820312 -1.144531 -5.617188 -0.8125 -5.359375 C -0.476562 -5.097656 -0.238281 -4.789062 -0.09375 -4.4375 C 0.0507812 -4.09375 0.125 -3.722656 0.125 -3.328125 C 0.125 -2.921875 0.0507812 -2.539062 -0.09375 -2.1875 C -0.238281 -1.84375 -0.476562 -1.539062 -0.8125 -1.28125 C -1.144531 -1.03125 -1.582031 -0.832031 -2.125 -0.6875 C -2.664062 -0.539062 -3.332031 -0.46875 -4.125 -0.46875 C -4.957031 -0.46875 -5.644531 -0.539062 -6.1875 -0.6875 C -6.738281 -0.832031 -7.175781 -1.035156 -7.5 -1.296875 C -7.820312 -1.554688 -8.046875 -1.859375 -8.171875 -2.203125 C -8.304688 -2.554688 -8.375 -2.941406 -8.375 -3.359375 C -8.375 -3.753906 -8.304688 -4.125 -8.171875 -4.46875 C -8.046875 -4.8125 -7.820312 -5.113281 -7.5 -5.375 C -7.175781 -5.632812 -6.738281 -5.835938 -6.1875 -5.984375 C -5.644531 -6.128906 -4.957031 -6.203125 -4.125 -6.203125 Z M -4.125 -5.140625 C -4.78125 -5.140625 -5.328125 -5.097656 -5.765625 -5.015625 C -6.203125 -4.941406 -6.550781 -4.828125 -6.8125 -4.671875 C -7.070312 -4.515625 -7.253906 -4.328125 -7.359375 -4.109375 C -7.472656 -3.890625 -7.53125 -3.640625 -7.53125 -3.359375 C -7.53125 -3.054688 -7.472656 -2.789062 -7.359375 -2.5625 C -7.253906 -2.34375 -7.070312 -2.15625 -6.8125 -2 C -6.550781 -1.84375 -6.203125 -1.722656 -5.765625 -1.640625 C -5.328125 -1.566406 -4.78125 -1.53125 -4.125 -1.53125 C -3.5 -1.53125 -2.96875 -1.570312 -2.53125 -1.65625 C -2.09375 -1.738281 -1.742188 -1.851562 -1.484375 -2 C -1.222656 -2.15625 -1.035156 -2.34375 -0.921875 -2.5625 C -0.804688 -2.789062 -0.75 -3.046875 -0.75 -3.328125 C -0.75 -3.609375 -0.804688 -3.859375 -0.921875 -4.078125 C -1.035156 -4.304688 -1.222656 -4.492188 -1.484375 -4.640625 C -1.742188 -4.796875 -2.09375 -4.914062 -2.53125 -5 C -2.96875 -5.09375 -3.5 -5.140625 -4.125 -5.140625 Z M -4.125 -5.140625 \"/>\n",
       "</g>\n",
       "<g id=\"glyph-1-1\">\n",
       "<path d=\"M 0 -0.921875 L -0.890625 -0.921875 L -0.890625 -3.015625 L -7.25 -3.015625 L -5.921875 -1.15625 L -6.921875 -1.15625 L -8.25 -3.109375 L -8.25 -4.078125 L -0.890625 -4.078125 L -0.890625 -6.09375 L 0 -6.09375 Z M 0 -0.921875 \"/>\n",
       "</g>\n",
       "<g id=\"glyph-1-2\">\n",
       "<path d=\"M 0 -0.609375 L -0.75 -0.609375 C -1.207031 -0.804688 -1.609375 -1.046875 -1.953125 -1.328125 C -2.304688 -1.617188 -2.625 -1.921875 -2.90625 -2.234375 C -3.1875 -2.554688 -3.445312 -2.867188 -3.6875 -3.171875 C -3.9375 -3.484375 -4.179688 -3.765625 -4.421875 -4.015625 C -4.660156 -4.265625 -4.910156 -4.46875 -5.171875 -4.625 C -5.441406 -4.78125 -5.742188 -4.859375 -6.078125 -4.859375 C -6.316406 -4.859375 -6.523438 -4.820312 -6.703125 -4.75 C -6.878906 -4.675781 -7.023438 -4.570312 -7.140625 -4.4375 C -7.265625 -4.3125 -7.359375 -4.15625 -7.421875 -3.96875 C -7.484375 -3.78125 -7.515625 -3.578125 -7.515625 -3.359375 C -7.515625 -3.140625 -7.484375 -2.9375 -7.421875 -2.75 C -7.367188 -2.570312 -7.28125 -2.410156 -7.15625 -2.265625 C -7.039062 -2.117188 -6.894531 -2 -6.71875 -1.90625 C -6.550781 -1.8125 -6.351562 -1.753906 -6.125 -1.734375 L -6.21875 -0.65625 C -6.507812 -0.6875 -6.785156 -0.765625 -7.046875 -0.890625 C -7.316406 -1.023438 -7.550781 -1.203125 -7.75 -1.421875 C -7.945312 -1.648438 -8.097656 -1.921875 -8.203125 -2.234375 C -8.316406 -2.554688 -8.375 -2.929688 -8.375 -3.359375 C -8.375 -3.765625 -8.328125 -4.125 -8.234375 -4.4375 C -8.140625 -4.757812 -7.992188 -5.03125 -7.796875 -5.25 C -7.609375 -5.476562 -7.375 -5.648438 -7.09375 -5.765625 C -6.8125 -5.878906 -6.488281 -5.9375 -6.125 -5.9375 C -5.84375 -5.9375 -5.578125 -5.882812 -5.328125 -5.78125 C -5.078125 -5.6875 -4.835938 -5.554688 -4.609375 -5.390625 C -4.378906 -5.222656 -4.160156 -5.03125 -3.953125 -4.8125 C -3.742188 -4.59375 -3.535156 -4.363281 -3.328125 -4.125 C -3.128906 -3.894531 -2.929688 -3.65625 -2.734375 -3.40625 C -2.535156 -3.164062 -2.335938 -2.9375 -2.140625 -2.71875 C -1.941406 -2.507812 -1.738281 -2.320312 -1.53125 -2.15625 C -1.332031 -1.988281 -1.117188 -1.859375 -0.890625 -1.765625 L -0.890625 -6.078125 L 0 -6.078125 Z M 0 -0.609375 \"/>\n",
       "</g>\n",
       "<g id=\"glyph-1-3\">\n",
       "<path d=\"M -2.28125 -6.140625 C -1.90625 -6.140625 -1.566406 -6.078125 -1.265625 -5.953125 C -0.972656 -5.835938 -0.722656 -5.660156 -0.515625 -5.421875 C -0.304688 -5.179688 -0.144531 -4.882812 -0.03125 -4.53125 C 0.0703125 -4.1875 0.125 -3.789062 0.125 -3.34375 C 0.125 -2.832031 0.0625 -2.398438 -0.0625 -2.046875 C -0.195312 -1.703125 -0.367188 -1.414062 -0.578125 -1.1875 C -0.785156 -0.957031 -1.019531 -0.785156 -1.28125 -0.671875 C -1.550781 -0.566406 -1.832031 -0.492188 -2.125 -0.453125 L -2.21875 -1.546875 C -2 -1.578125 -1.800781 -1.632812 -1.625 -1.71875 C -1.445312 -1.800781 -1.289062 -1.914062 -1.15625 -2.0625 C -1.03125 -2.207031 -0.929688 -2.382812 -0.859375 -2.59375 C -0.785156 -2.800781 -0.75 -3.050781 -0.75 -3.34375 C -0.75 -3.875 -0.878906 -4.289062 -1.140625 -4.59375 C -1.410156 -4.894531 -1.800781 -5.046875 -2.3125 -5.046875 C -2.613281 -5.046875 -2.859375 -4.976562 -3.046875 -4.84375 C -3.234375 -4.707031 -3.378906 -4.539062 -3.484375 -4.34375 C -3.585938 -4.144531 -3.65625 -3.925781 -3.6875 -3.6875 C -3.726562 -3.445312 -3.75 -3.226562 -3.75 -3.03125 L -3.75 -2.4375 L -4.65625 -2.4375 L -4.65625 -3.015625 C -4.65625 -3.210938 -4.675781 -3.414062 -4.71875 -3.625 C -4.757812 -3.84375 -4.832031 -4.039062 -4.9375 -4.21875 C -5.050781 -4.394531 -5.195312 -4.539062 -5.375 -4.65625 C -5.5625 -4.769531 -5.796875 -4.828125 -6.078125 -4.828125 C -6.523438 -4.828125 -6.875 -4.695312 -7.125 -4.4375 C -7.382812 -4.1875 -7.515625 -3.800781 -7.515625 -3.28125 C -7.515625 -2.820312 -7.394531 -2.445312 -7.15625 -2.15625 C -6.914062 -1.875 -6.578125 -1.707031 -6.140625 -1.65625 L -6.234375 -0.59375 C -6.597656 -0.632812 -6.910156 -0.734375 -7.171875 -0.890625 C -7.441406 -1.046875 -7.664062 -1.242188 -7.84375 -1.484375 C -8.019531 -1.734375 -8.148438 -2.007812 -8.234375 -2.3125 C -8.328125 -2.625 -8.375 -2.953125 -8.375 -3.296875 C -8.375 -3.753906 -8.316406 -4.148438 -8.203125 -4.484375 C -8.085938 -4.816406 -7.929688 -5.085938 -7.734375 -5.296875 C -7.535156 -5.515625 -7.300781 -5.671875 -7.03125 -5.765625 C -6.769531 -5.867188 -6.488281 -5.921875 -6.1875 -5.921875 C -5.945312 -5.921875 -5.722656 -5.882812 -5.515625 -5.8125 C -5.304688 -5.75 -5.113281 -5.644531 -4.9375 -5.5 C -4.769531 -5.363281 -4.625 -5.1875 -4.5 -4.96875 C -4.382812 -4.75 -4.296875 -4.488281 -4.234375 -4.1875 L -4.21875 -4.1875 C -4.175781 -4.519531 -4.097656 -4.804688 -3.984375 -5.046875 C -3.867188 -5.296875 -3.722656 -5.5 -3.546875 -5.65625 C -3.378906 -5.820312 -3.1875 -5.941406 -2.96875 -6.015625 C -2.75 -6.097656 -2.519531 -6.140625 -2.28125 -6.140625 Z M -2.28125 -6.140625 \"/>\n",
       "</g>\n",
       "<g id=\"glyph-1-4\">\n",
       "<path d=\"M -1.875 -5.15625 L 0 -5.15625 L 0 -4.171875 L -1.875 -4.171875 L -1.875 -0.28125 L -2.6875 -0.28125 L -8.25 -4.0625 L -8.25 -5.15625 L -2.703125 -5.15625 L -2.703125 -6.328125 L -1.875 -6.328125 Z M -7.0625 -4.171875 C -7.039062 -4.160156 -7.003906 -4.140625 -6.953125 -4.109375 C -6.898438 -4.078125 -6.835938 -4.039062 -6.765625 -4 C -6.691406 -3.957031 -6.617188 -3.914062 -6.546875 -3.875 C -6.472656 -3.84375 -6.414062 -3.8125 -6.375 -3.78125 L -3.25 -1.65625 C -3.21875 -1.632812 -3.175781 -1.601562 -3.125 -1.5625 C -3.070312 -1.53125 -3.019531 -1.492188 -2.96875 -1.453125 C -2.914062 -1.421875 -2.863281 -1.382812 -2.8125 -1.34375 C -2.769531 -1.300781 -2.734375 -1.269531 -2.703125 -1.25 L -2.703125 -4.171875 Z M -7.0625 -4.171875 \"/>\n",
       "</g>\n",
       "<g id=\"glyph-1-5\">\n",
       "<path d=\"M -2.6875 -6.171875 C -2.269531 -6.171875 -1.890625 -6.109375 -1.546875 -5.984375 C -1.203125 -5.859375 -0.90625 -5.671875 -0.65625 -5.421875 C -0.414062 -5.179688 -0.222656 -4.878906 -0.078125 -4.515625 C 0.0546875 -4.148438 0.125 -3.722656 0.125 -3.234375 C 0.125 -2.804688 0.0703125 -2.429688 -0.03125 -2.109375 C -0.132812 -1.785156 -0.273438 -1.507812 -0.453125 -1.28125 C -0.628906 -1.0625 -0.835938 -0.882812 -1.078125 -0.75 C -1.316406 -0.625 -1.570312 -0.535156 -1.84375 -0.484375 L -1.96875 -1.546875 C -1.8125 -1.585938 -1.660156 -1.644531 -1.515625 -1.71875 C -1.367188 -1.800781 -1.238281 -1.910156 -1.125 -2.046875 C -1.007812 -2.179688 -0.914062 -2.347656 -0.84375 -2.546875 C -0.78125 -2.742188 -0.75 -2.984375 -0.75 -3.265625 C -0.75 -3.535156 -0.789062 -3.78125 -0.875 -4 C -0.957031 -4.226562 -1.078125 -4.421875 -1.234375 -4.578125 C -1.398438 -4.734375 -1.601562 -4.851562 -1.84375 -4.9375 C -2.082031 -5.03125 -2.359375 -5.078125 -2.671875 -5.078125 C -2.921875 -5.078125 -3.148438 -5.035156 -3.359375 -4.953125 C -3.578125 -4.867188 -3.765625 -4.75 -3.921875 -4.59375 C -4.078125 -4.445312 -4.195312 -4.257812 -4.28125 -4.03125 C -4.363281 -3.8125 -4.40625 -3.5625 -4.40625 -3.28125 C -4.40625 -3.113281 -4.390625 -2.953125 -4.359375 -2.796875 C -4.328125 -2.648438 -4.285156 -2.515625 -4.234375 -2.390625 C -4.179688 -2.265625 -4.117188 -2.148438 -4.046875 -2.046875 C -3.972656 -1.941406 -3.894531 -1.84375 -3.8125 -1.75 L -3.8125 -0.71875 L -8.25 -1 L -8.25 -5.6875 L -7.359375 -5.6875 L -7.359375 -1.953125 L -4.734375 -1.796875 C -4.878906 -1.984375 -5.003906 -2.21875 -5.109375 -2.5 C -5.210938 -2.78125 -5.265625 -3.113281 -5.265625 -3.5 C -5.265625 -3.914062 -5.203125 -4.285156 -5.078125 -4.609375 C -4.953125 -4.941406 -4.773438 -5.222656 -4.546875 -5.453125 C -4.316406 -5.679688 -4.046875 -5.859375 -3.734375 -5.984375 C -3.421875 -6.109375 -3.070312 -6.171875 -2.6875 -6.171875 Z M -2.6875 -6.171875 \"/>\n",
       "</g>\n",
       "<g id=\"glyph-1-6\">\n",
       "<path d=\"M -7.46875 -4.640625 C -7.46875 -4.171875 -7.390625 -3.753906 -7.234375 -3.390625 C -7.078125 -3.035156 -6.851562 -2.734375 -6.5625 -2.484375 C -6.269531 -2.242188 -5.921875 -2.0625 -5.515625 -1.9375 C -5.109375 -1.8125 -4.660156 -1.75 -4.171875 -1.75 C -3.671875 -1.75 -3.210938 -1.816406 -2.796875 -1.953125 C -2.390625 -2.085938 -2.035156 -2.28125 -1.734375 -2.53125 C -1.441406 -2.78125 -1.210938 -3.085938 -1.046875 -3.453125 C -0.878906 -3.816406 -0.796875 -4.226562 -0.796875 -4.6875 C -0.796875 -5.007812 -0.835938 -5.300781 -0.921875 -5.5625 C -1.015625 -5.820312 -1.132812 -6.054688 -1.28125 -6.265625 C -1.4375 -6.484375 -1.617188 -6.675781 -1.828125 -6.84375 C -2.035156 -7.019531 -2.265625 -7.171875 -2.515625 -7.296875 L -2.0625 -8.203125 C -1.75 -8.054688 -1.457031 -7.875 -1.1875 -7.65625 C -0.925781 -7.4375 -0.695312 -7.179688 -0.5 -6.890625 C -0.3125 -6.597656 -0.160156 -6.265625 -0.046875 -5.890625 C 0.0664062 -5.515625 0.125 -5.097656 0.125 -4.640625 C 0.125 -3.972656 0.0195312 -3.382812 -0.1875 -2.875 C -0.40625 -2.375 -0.707031 -1.953125 -1.09375 -1.609375 C -1.476562 -1.273438 -1.929688 -1.023438 -2.453125 -0.859375 C -2.972656 -0.691406 -3.546875 -0.609375 -4.171875 -0.609375 C -4.816406 -0.609375 -5.394531 -0.695312 -5.90625 -0.875 C -6.425781 -1.050781 -6.867188 -1.3125 -7.234375 -1.65625 C -7.597656 -2 -7.878906 -2.421875 -8.078125 -2.921875 C -8.273438 -3.421875 -8.375 -3.988281 -8.375 -4.625 C -8.375 -5.507812 -8.203125 -6.242188 -7.859375 -6.828125 C -7.515625 -7.421875 -7.003906 -7.859375 -6.328125 -8.140625 L -5.984375 -7.078125 C -6.179688 -6.992188 -6.367188 -6.882812 -6.546875 -6.75 C -6.722656 -6.625 -6.878906 -6.457031 -7.015625 -6.25 C -7.148438 -6.050781 -7.257812 -5.816406 -7.34375 -5.546875 C -7.425781 -5.285156 -7.46875 -4.984375 -7.46875 -4.640625 Z M -7.46875 -4.640625 \"/>\n",
       "</g>\n",
       "<g id=\"glyph-1-7\">\n",
       "<path d=\"M -3.203125 -6.171875 C -2.722656 -6.171875 -2.28125 -6.128906 -1.875 -6.046875 C -1.46875 -5.972656 -1.113281 -5.84375 -0.8125 -5.65625 C -0.519531 -5.476562 -0.289062 -5.238281 -0.125 -4.9375 C 0.0390625 -4.644531 0.125 -4.28125 0.125 -3.84375 C 0.125 -3.382812 0.0351562 -2.984375 -0.140625 -2.640625 C -0.316406 -2.304688 -0.597656 -2.050781 -0.984375 -1.875 L -0.984375 -1.84375 C -0.972656 -1.84375 -0.9375 -1.84375 -0.875 -1.84375 C -0.8125 -1.851562 -0.734375 -1.859375 -0.640625 -1.859375 C -0.546875 -1.859375 -0.441406 -1.859375 -0.328125 -1.859375 C -0.210938 -1.859375 -0.0976562 -1.859375 0.015625 -1.859375 L 2.484375 -1.859375 L 2.484375 -0.8125 L -5.046875 -0.8125 C -5.203125 -0.8125 -5.347656 -0.804688 -5.484375 -0.796875 C -5.628906 -0.796875 -5.757812 -0.796875 -5.875 -0.796875 C -5.988281 -0.796875 -6.082031 -0.789062 -6.15625 -0.78125 C -6.238281 -0.78125 -6.300781 -0.78125 -6.34375 -0.78125 L -6.34375 -1.796875 C -6.332031 -1.796875 -6.289062 -1.796875 -6.21875 -1.796875 C -6.144531 -1.804688 -6.054688 -1.8125 -5.953125 -1.8125 C -5.859375 -1.820312 -5.753906 -1.832031 -5.640625 -1.84375 C -5.523438 -1.851562 -5.421875 -1.859375 -5.328125 -1.859375 L -5.328125 -1.875 C -5.523438 -1.96875 -5.691406 -2.078125 -5.828125 -2.203125 C -5.972656 -2.328125 -6.09375 -2.46875 -6.1875 -2.625 C -6.28125 -2.789062 -6.347656 -2.972656 -6.390625 -3.171875 C -6.429688 -3.367188 -6.453125 -3.59375 -6.453125 -3.84375 C -6.453125 -4.28125 -6.375 -4.644531 -6.21875 -4.9375 C -6.0625 -5.238281 -5.84375 -5.476562 -5.5625 -5.65625 C -5.28125 -5.84375 -4.9375 -5.972656 -4.53125 -6.046875 C -4.132812 -6.128906 -3.691406 -6.171875 -3.203125 -6.171875 Z M -3.171875 -5.0625 C -3.566406 -5.0625 -3.914062 -5.035156 -4.21875 -4.984375 C -4.519531 -4.941406 -4.773438 -4.863281 -4.984375 -4.75 C -5.203125 -4.632812 -5.363281 -4.476562 -5.46875 -4.28125 C -5.582031 -4.09375 -5.640625 -3.851562 -5.640625 -3.5625 C -5.640625 -3.332031 -5.601562 -3.113281 -5.53125 -2.90625 C -5.46875 -2.695312 -5.34375 -2.515625 -5.15625 -2.359375 C -4.96875 -2.210938 -4.707031 -2.09375 -4.375 -2 C -4.050781 -1.90625 -3.625 -1.859375 -3.09375 -1.859375 C -2.644531 -1.859375 -2.265625 -1.894531 -1.953125 -1.96875 C -1.640625 -2.050781 -1.390625 -2.160156 -1.203125 -2.296875 C -1.015625 -2.441406 -0.875 -2.617188 -0.78125 -2.828125 C -0.695312 -3.035156 -0.65625 -3.28125 -0.65625 -3.5625 C -0.65625 -3.851562 -0.710938 -4.09375 -0.828125 -4.28125 C -0.941406 -4.476562 -1.101562 -4.632812 -1.3125 -4.75 C -1.53125 -4.863281 -1.796875 -4.941406 -2.109375 -4.984375 C -2.421875 -5.035156 -2.773438 -5.0625 -3.171875 -5.0625 Z M -3.171875 -5.0625 \"/>\n",
       "</g>\n",
       "<g id=\"glyph-2-0\">\n",
       "<path d=\"M 5.59375 -1.484375 C 5.976562 -1.484375 6.3125 -1.539062 6.59375 -1.65625 C 6.882812 -1.769531 7.132812 -1.914062 7.34375 -2.09375 C 7.550781 -2.269531 7.722656 -2.46875 7.859375 -2.6875 C 7.992188 -2.914062 8.109375 -3.144531 8.203125 -3.375 L 10.015625 -2.6875 C 9.867188 -2.332031 9.675781 -1.984375 9.4375 -1.640625 C 9.207031 -1.296875 8.914062 -0.992188 8.5625 -0.734375 C 8.207031 -0.472656 7.785156 -0.257812 7.296875 -0.09375 C 6.816406 0.0625 6.25 0.140625 5.59375 0.140625 C 4.738281 0.140625 3.992188 0.015625 3.359375 -0.234375 C 2.734375 -0.492188 2.210938 -0.851562 1.796875 -1.3125 C 1.390625 -1.769531 1.085938 -2.3125 0.890625 -2.9375 C 0.691406 -3.570312 0.59375 -4.257812 0.59375 -5 C 0.59375 -5.769531 0.691406 -6.46875 0.890625 -7.09375 C 1.085938 -7.71875 1.390625 -8.25 1.796875 -8.6875 C 2.203125 -9.125 2.710938 -9.460938 3.328125 -9.703125 C 3.941406 -9.941406 4.664062 -10.0625 5.5 -10.0625 C 6.144531 -10.0625 6.707031 -9.992188 7.1875 -9.859375 C 7.675781 -9.722656 8.097656 -9.53125 8.453125 -9.28125 C 8.804688 -9.03125 9.097656 -8.738281 9.328125 -8.40625 C 9.566406 -8.070312 9.753906 -7.703125 9.890625 -7.296875 L 8.046875 -6.796875 C 7.984375 -7.015625 7.882812 -7.21875 7.75 -7.40625 C 7.613281 -7.601562 7.441406 -7.773438 7.234375 -7.921875 C 7.023438 -8.078125 6.78125 -8.195312 6.5 -8.28125 C 6.21875 -8.375 5.898438 -8.421875 5.546875 -8.421875 C 5.046875 -8.421875 4.613281 -8.335938 4.25 -8.171875 C 3.882812 -8.015625 3.585938 -7.785156 3.359375 -7.484375 C 3.128906 -7.191406 2.957031 -6.832031 2.84375 -6.40625 C 2.738281 -5.988281 2.6875 -5.519531 2.6875 -5 C 2.6875 -4.488281 2.738281 -4.015625 2.84375 -3.578125 C 2.957031 -3.148438 3.128906 -2.78125 3.359375 -2.46875 C 3.597656 -2.164062 3.898438 -1.925781 4.265625 -1.75 C 4.628906 -1.570312 5.070312 -1.484375 5.59375 -1.484375 Z M 5.59375 -1.484375 \"/>\n",
       "</g>\n",
       "<g id=\"glyph-2-1\">\n",
       "<path d=\"M 8.203125 -3.84375 C 8.203125 -3.257812 8.144531 -2.722656 8.03125 -2.234375 C 7.914062 -1.753906 7.738281 -1.335938 7.5 -0.984375 C 7.257812 -0.628906 6.957031 -0.351562 6.59375 -0.15625 C 6.226562 0.0390625 5.796875 0.140625 5.296875 0.140625 C 5.066406 0.140625 4.835938 0.113281 4.609375 0.0625 C 4.390625 0.0195312 4.175781 -0.0507812 3.96875 -0.15625 C 3.769531 -0.257812 3.585938 -0.394531 3.421875 -0.5625 C 3.253906 -0.738281 3.109375 -0.953125 2.984375 -1.203125 L 2.9375 -1.203125 C 2.945312 -1.179688 2.953125 -1.125 2.953125 -1.03125 C 2.960938 -0.9375 2.96875 -0.828125 2.96875 -0.703125 C 2.96875 -0.578125 2.96875 -0.445312 2.96875 -0.3125 C 2.976562 -0.175781 2.984375 -0.046875 2.984375 0.078125 L 2.984375 2.984375 L 1 2.984375 L 1 -5.859375 C 1 -6.242188 0.992188 -6.585938 0.984375 -6.890625 C 0.972656 -7.203125 0.960938 -7.441406 0.953125 -7.609375 L 2.875 -7.609375 C 2.882812 -7.578125 2.894531 -7.515625 2.90625 -7.421875 C 2.914062 -7.328125 2.921875 -7.21875 2.921875 -7.09375 C 2.929688 -6.976562 2.9375 -6.851562 2.9375 -6.71875 C 2.945312 -6.582031 2.953125 -6.46875 2.953125 -6.375 L 2.984375 -6.375 C 3.222656 -6.875 3.550781 -7.226562 3.96875 -7.4375 C 4.382812 -7.65625 4.867188 -7.765625 5.421875 -7.765625 C 5.898438 -7.765625 6.316406 -7.664062 6.671875 -7.46875 C 7.023438 -7.28125 7.3125 -7.007812 7.53125 -6.65625 C 7.757812 -6.3125 7.925781 -5.898438 8.03125 -5.421875 C 8.144531 -4.941406 8.203125 -4.414062 8.203125 -3.84375 Z M 6.140625 -3.84375 C 6.140625 -4.707031 6.007812 -5.347656 5.75 -5.765625 C 5.488281 -6.191406 5.097656 -6.40625 4.578125 -6.40625 C 4.378906 -6.40625 4.179688 -6.363281 3.984375 -6.28125 C 3.796875 -6.195312 3.625 -6.054688 3.46875 -5.859375 C 3.320312 -5.660156 3.195312 -5.390625 3.09375 -5.046875 C 3 -4.710938 2.953125 -4.289062 2.953125 -3.78125 C 2.953125 -3.28125 3 -2.863281 3.09375 -2.53125 C 3.1875 -2.207031 3.304688 -1.945312 3.453125 -1.75 C 3.609375 -1.550781 3.78125 -1.410156 3.96875 -1.328125 C 4.164062 -1.242188 4.363281 -1.203125 4.5625 -1.203125 C 4.8125 -1.203125 5.035156 -1.253906 5.234375 -1.359375 C 5.429688 -1.460938 5.597656 -1.617188 5.734375 -1.828125 C 5.867188 -2.046875 5.96875 -2.320312 6.03125 -2.65625 C 6.101562 -2.988281 6.140625 -3.382812 6.140625 -3.84375 Z M 6.140625 -3.84375 \"/>\n",
       "</g>\n",
       "<g id=\"glyph-2-2\">\n",
       "</g>\n",
       "<g id=\"glyph-2-3\">\n",
       "<path d=\"M 3.328125 -6.28125 L 3.328125 0 L 1.359375 0 L 1.359375 -6.28125 L 0.25 -6.28125 L 0.25 -7.609375 L 1.359375 -7.609375 L 1.359375 -8.40625 C 1.359375 -8.695312 1.390625 -8.960938 1.453125 -9.203125 C 1.523438 -9.453125 1.644531 -9.664062 1.8125 -9.84375 C 1.988281 -10.03125 2.21875 -10.175781 2.5 -10.28125 C 2.789062 -10.382812 3.148438 -10.4375 3.578125 -10.4375 C 3.796875 -10.4375 4.015625 -10.425781 4.234375 -10.40625 C 4.453125 -10.382812 4.648438 -10.359375 4.828125 -10.328125 L 4.828125 -9.046875 C 4.742188 -9.066406 4.644531 -9.082031 4.53125 -9.09375 C 4.425781 -9.101562 4.332031 -9.109375 4.25 -9.109375 C 4.0625 -9.109375 3.90625 -9.085938 3.78125 -9.046875 C 3.664062 -9.015625 3.570312 -8.960938 3.5 -8.890625 C 3.4375 -8.816406 3.390625 -8.722656 3.359375 -8.609375 C 3.335938 -8.492188 3.328125 -8.359375 3.328125 -8.203125 L 3.328125 -7.609375 L 4.828125 -7.609375 L 4.828125 -6.28125 Z M 3.328125 -6.28125 \"/>\n",
       "</g>\n",
       "<g id=\"glyph-2-4\">\n",
       "<path d=\"M 8.234375 -3.8125 C 8.234375 -3.226562 8.148438 -2.691406 7.984375 -2.203125 C 7.828125 -1.722656 7.585938 -1.304688 7.265625 -0.953125 C 6.941406 -0.609375 6.535156 -0.335938 6.046875 -0.140625 C 5.566406 0.046875 5.007812 0.140625 4.375 0.140625 C 3.75 0.140625 3.195312 0.046875 2.71875 -0.140625 C 2.25 -0.335938 1.851562 -0.609375 1.53125 -0.953125 C 1.21875 -1.304688 0.976562 -1.722656 0.8125 -2.203125 C 0.644531 -2.691406 0.5625 -3.226562 0.5625 -3.8125 C 0.5625 -4.375 0.640625 -4.894531 0.796875 -5.375 C 0.953125 -5.863281 1.1875 -6.28125 1.5 -6.625 C 1.820312 -6.976562 2.222656 -7.253906 2.703125 -7.453125 C 3.191406 -7.648438 3.757812 -7.75 4.40625 -7.75 C 5.09375 -7.75 5.675781 -7.648438 6.15625 -7.453125 C 6.644531 -7.253906 7.039062 -6.976562 7.34375 -6.625 C 7.65625 -6.28125 7.878906 -5.867188 8.015625 -5.390625 C 8.160156 -4.910156 8.234375 -4.382812 8.234375 -3.8125 Z M 6.171875 -3.8125 C 6.171875 -4.71875 6.019531 -5.375 5.71875 -5.78125 C 5.425781 -6.1875 5 -6.390625 4.4375 -6.390625 C 3.851562 -6.390625 3.40625 -6.179688 3.09375 -5.765625 C 2.789062 -5.359375 2.640625 -4.707031 2.640625 -3.8125 C 2.640625 -3.351562 2.679688 -2.957031 2.765625 -2.625 C 2.847656 -2.300781 2.960938 -2.035156 3.109375 -1.828125 C 3.253906 -1.617188 3.429688 -1.460938 3.640625 -1.359375 C 3.859375 -1.253906 4.09375 -1.203125 4.34375 -1.203125 C 4.632812 -1.203125 4.894531 -1.253906 5.125 -1.359375 C 5.351562 -1.460938 5.546875 -1.617188 5.703125 -1.828125 C 5.859375 -2.035156 5.972656 -2.300781 6.046875 -2.625 C 6.128906 -2.957031 6.171875 -3.351562 6.171875 -3.8125 Z M 6.171875 -3.8125 \"/>\n",
       "</g>\n",
       "<g id=\"glyph-2-5\">\n",
       "<path d=\"M 1 0 L 1 -5.828125 C 1 -5.992188 1 -6.164062 1 -6.34375 C 1 -6.53125 0.992188 -6.707031 0.984375 -6.875 C 0.984375 -7.039062 0.976562 -7.1875 0.96875 -7.3125 C 0.96875 -7.445312 0.960938 -7.546875 0.953125 -7.609375 L 2.828125 -7.609375 C 2.835938 -7.554688 2.847656 -7.457031 2.859375 -7.3125 C 2.867188 -7.175781 2.878906 -7.023438 2.890625 -6.859375 C 2.898438 -6.703125 2.90625 -6.539062 2.90625 -6.375 C 2.914062 -6.21875 2.921875 -6.085938 2.921875 -5.984375 L 2.953125 -5.984375 C 3.054688 -6.265625 3.15625 -6.515625 3.25 -6.734375 C 3.34375 -6.953125 3.457031 -7.132812 3.59375 -7.28125 C 3.726562 -7.4375 3.890625 -7.554688 4.078125 -7.640625 C 4.265625 -7.722656 4.5 -7.765625 4.78125 -7.765625 C 4.894531 -7.765625 5.007812 -7.753906 5.125 -7.734375 C 5.238281 -7.710938 5.328125 -7.6875 5.390625 -7.65625 L 5.390625 -6 C 5.265625 -6.03125 5.132812 -6.054688 5 -6.078125 C 4.875 -6.097656 4.722656 -6.109375 4.546875 -6.109375 C 4.054688 -6.109375 3.671875 -5.90625 3.390625 -5.5 C 3.117188 -5.101562 2.984375 -4.515625 2.984375 -3.734375 L 2.984375 0 Z M 1 0 \"/>\n",
       "</g>\n",
       "<g id=\"glyph-2-6\">\n",
       "<path d=\"M 3.0625 -1.796875 L 4.53125 -7.609375 L 6.65625 -7.609375 L 8.109375 -1.796875 L 9.40625 -7.609375 L 11.234375 -7.609375 L 9.234375 0 L 7.140625 0 L 5.609375 -6.203125 L 4.015625 0 L 1.921875 0 L -0.046875 -7.609375 L 1.8125 -7.609375 Z M 3.0625 -1.796875 \"/>\n",
       "</g>\n",
       "<g id=\"glyph-2-7\">\n",
       "<path d=\"M 2.765625 0.140625 C 2.398438 0.140625 2.070312 0.09375 1.78125 0 C 1.488281 -0.101562 1.242188 -0.253906 1.046875 -0.453125 C 0.847656 -0.648438 0.691406 -0.890625 0.578125 -1.171875 C 0.472656 -1.460938 0.421875 -1.789062 0.421875 -2.15625 C 0.421875 -2.601562 0.5 -2.976562 0.65625 -3.28125 C 0.8125 -3.59375 1.023438 -3.84375 1.296875 -4.03125 C 1.566406 -4.21875 1.882812 -4.351562 2.25 -4.4375 C 2.625 -4.53125 3.015625 -4.582031 3.421875 -4.59375 L 5.0625 -4.609375 L 5.0625 -5 C 5.0625 -5.28125 5.035156 -5.507812 4.984375 -5.6875 C 4.941406 -5.875 4.875 -6.023438 4.78125 -6.140625 C 4.6875 -6.265625 4.566406 -6.347656 4.421875 -6.390625 C 4.285156 -6.441406 4.128906 -6.46875 3.953125 -6.46875 C 3.785156 -6.46875 3.632812 -6.453125 3.5 -6.421875 C 3.375 -6.390625 3.265625 -6.332031 3.171875 -6.25 C 3.078125 -6.164062 3 -6.054688 2.9375 -5.921875 C 2.882812 -5.785156 2.847656 -5.609375 2.828125 -5.390625 L 0.765625 -5.5 C 0.816406 -5.832031 0.914062 -6.132812 1.0625 -6.40625 C 1.21875 -6.675781 1.425781 -6.910156 1.6875 -7.109375 C 1.957031 -7.316406 2.285156 -7.472656 2.671875 -7.578125 C 3.054688 -7.691406 3.507812 -7.75 4.03125 -7.75 C 4.507812 -7.75 4.929688 -7.691406 5.296875 -7.578125 C 5.671875 -7.460938 5.988281 -7.285156 6.25 -7.046875 C 6.507812 -6.816406 6.707031 -6.53125 6.84375 -6.1875 C 6.976562 -5.851562 7.046875 -5.460938 7.046875 -5.015625 L 7.046875 -2.25 C 7.046875 -2.070312 7.050781 -1.910156 7.0625 -1.765625 C 7.082031 -1.628906 7.113281 -1.507812 7.15625 -1.40625 C 7.195312 -1.3125 7.257812 -1.238281 7.34375 -1.1875 C 7.425781 -1.144531 7.535156 -1.125 7.671875 -1.125 C 7.816406 -1.125 7.960938 -1.140625 8.109375 -1.171875 L 8.109375 -0.09375 C 7.984375 -0.0703125 7.875 -0.046875 7.78125 -0.015625 C 7.6875 0.00390625 7.59375 0.0195312 7.5 0.03125 C 7.40625 0.0507812 7.304688 0.0625 7.203125 0.0625 C 7.097656 0.0703125 6.976562 0.078125 6.84375 0.078125 C 6.34375 0.078125 5.972656 -0.0390625 5.734375 -0.28125 C 5.492188 -0.519531 5.351562 -0.878906 5.3125 -1.359375 L 5.265625 -1.359375 C 5.003906 -0.878906 4.664062 -0.507812 4.25 -0.25 C 3.84375 0.0078125 3.347656 0.140625 2.765625 0.140625 Z M 5.0625 -3.53125 L 4.046875 -3.515625 C 3.835938 -3.503906 3.640625 -3.484375 3.453125 -3.453125 C 3.265625 -3.429688 3.097656 -3.378906 2.953125 -3.296875 C 2.804688 -3.210938 2.691406 -3.09375 2.609375 -2.9375 C 2.523438 -2.78125 2.484375 -2.570312 2.484375 -2.3125 C 2.484375 -1.945312 2.566406 -1.675781 2.734375 -1.5 C 2.898438 -1.320312 3.117188 -1.234375 3.390625 -1.234375 C 3.648438 -1.234375 3.878906 -1.285156 4.078125 -1.390625 C 4.285156 -1.503906 4.460938 -1.648438 4.609375 -1.828125 C 4.753906 -2.003906 4.863281 -2.207031 4.9375 -2.4375 C 5.019531 -2.664062 5.0625 -2.898438 5.0625 -3.140625 Z M 5.0625 -3.53125 \"/>\n",
       "</g>\n",
       "<g id=\"glyph-2-8\">\n",
       "<path d=\"M 5.9375 0 C 5.925781 -0.0390625 5.914062 -0.109375 5.90625 -0.203125 C 5.894531 -0.296875 5.882812 -0.398438 5.875 -0.515625 C 5.863281 -0.640625 5.851562 -0.765625 5.84375 -0.890625 C 5.832031 -1.023438 5.828125 -1.140625 5.828125 -1.234375 L 5.796875 -1.234375 C 5.566406 -0.742188 5.25 -0.390625 4.84375 -0.171875 C 4.4375 0.0351562 3.945312 0.140625 3.375 0.140625 C 2.894531 0.140625 2.476562 0.0390625 2.125 -0.15625 C 1.78125 -0.351562 1.492188 -0.625 1.265625 -0.96875 C 1.035156 -1.320312 0.863281 -1.738281 0.75 -2.21875 C 0.644531 -2.707031 0.59375 -3.234375 0.59375 -3.796875 C 0.59375 -4.367188 0.648438 -4.894531 0.765625 -5.375 C 0.878906 -5.863281 1.054688 -6.28125 1.296875 -6.625 C 1.535156 -6.976562 1.835938 -7.253906 2.203125 -7.453125 C 2.566406 -7.648438 3.003906 -7.75 3.515625 -7.75 C 3.765625 -7.75 4.003906 -7.722656 4.234375 -7.671875 C 4.460938 -7.617188 4.675781 -7.539062 4.875 -7.4375 C 5.070312 -7.332031 5.25 -7.191406 5.40625 -7.015625 C 5.570312 -6.847656 5.707031 -6.644531 5.8125 -6.40625 L 5.828125 -6.40625 C 5.828125 -6.457031 5.828125 -6.523438 5.828125 -6.609375 C 5.828125 -6.703125 5.828125 -6.804688 5.828125 -6.921875 C 5.828125 -7.046875 5.820312 -7.171875 5.8125 -7.296875 C 5.8125 -7.421875 5.8125 -7.539062 5.8125 -7.65625 L 5.8125 -10.4375 L 7.796875 -10.4375 L 7.796875 -1.65625 C 7.796875 -1.289062 7.800781 -0.960938 7.8125 -0.671875 C 7.832031 -0.378906 7.84375 -0.15625 7.84375 0 Z M 5.84375 -3.84375 C 5.84375 -4.34375 5.796875 -4.757812 5.703125 -5.09375 C 5.609375 -5.425781 5.484375 -5.6875 5.328125 -5.875 C 5.179688 -6.070312 5.007812 -6.207031 4.8125 -6.28125 C 4.613281 -6.363281 4.414062 -6.40625 4.21875 -6.40625 C 3.96875 -6.40625 3.742188 -6.351562 3.546875 -6.25 C 3.347656 -6.15625 3.179688 -6.003906 3.046875 -5.796875 C 2.921875 -5.585938 2.820312 -5.316406 2.75 -4.984375 C 2.6875 -4.660156 2.65625 -4.265625 2.65625 -3.796875 C 2.65625 -2.066406 3.171875 -1.203125 4.203125 -1.203125 C 4.398438 -1.203125 4.597656 -1.242188 4.796875 -1.328125 C 4.992188 -1.421875 5.171875 -1.566406 5.328125 -1.765625 C 5.484375 -1.960938 5.609375 -2.234375 5.703125 -2.578125 C 5.796875 -2.921875 5.84375 -3.34375 5.84375 -3.84375 Z M 5.84375 -3.84375 \"/>\n",
       "</g>\n",
       "<g id=\"glyph-2-9\">\n",
       "<path d=\"M 7.421875 -2.21875 C 7.421875 -1.851562 7.34375 -1.523438 7.1875 -1.234375 C 7.039062 -0.941406 6.820312 -0.691406 6.53125 -0.484375 C 6.238281 -0.285156 5.878906 -0.128906 5.453125 -0.015625 C 5.035156 0.0859375 4.554688 0.140625 4.015625 0.140625 C 3.535156 0.140625 3.097656 0.101562 2.703125 0.03125 C 2.316406 -0.0390625 1.976562 -0.15625 1.6875 -0.3125 C 1.394531 -0.476562 1.148438 -0.6875 0.953125 -0.9375 C 0.753906 -1.195312 0.601562 -1.519531 0.5 -1.90625 L 2.25 -2.15625 C 2.300781 -1.945312 2.375 -1.773438 2.46875 -1.640625 C 2.570312 -1.515625 2.695312 -1.414062 2.84375 -1.34375 C 2.988281 -1.269531 3.15625 -1.222656 3.34375 -1.203125 C 3.539062 -1.179688 3.765625 -1.171875 4.015625 -1.171875 C 4.242188 -1.171875 4.453125 -1.179688 4.640625 -1.203125 C 4.835938 -1.234375 5.003906 -1.28125 5.140625 -1.34375 C 5.285156 -1.40625 5.398438 -1.492188 5.484375 -1.609375 C 5.566406 -1.722656 5.609375 -1.867188 5.609375 -2.046875 C 5.609375 -2.234375 5.550781 -2.382812 5.4375 -2.5 C 5.320312 -2.625 5.160156 -2.71875 4.953125 -2.78125 C 4.753906 -2.851562 4.519531 -2.914062 4.25 -2.96875 C 3.988281 -3.03125 3.703125 -3.097656 3.390625 -3.171875 C 3.078125 -3.234375 2.765625 -3.3125 2.453125 -3.40625 C 2.140625 -3.507812 1.863281 -3.644531 1.625 -3.8125 C 1.382812 -3.988281 1.1875 -4.207031 1.03125 -4.46875 C 0.882812 -4.726562 0.8125 -5.054688 0.8125 -5.453125 C 0.8125 -5.816406 0.878906 -6.140625 1.015625 -6.421875 C 1.160156 -6.703125 1.367188 -6.941406 1.640625 -7.140625 C 1.910156 -7.335938 2.242188 -7.488281 2.640625 -7.59375 C 3.046875 -7.707031 3.507812 -7.765625 4.03125 -7.765625 C 4.445312 -7.765625 4.832031 -7.722656 5.1875 -7.640625 C 5.539062 -7.566406 5.859375 -7.445312 6.140625 -7.28125 C 6.421875 -7.113281 6.65625 -6.898438 6.84375 -6.640625 C 7.03125 -6.378906 7.164062 -6.066406 7.25 -5.703125 L 5.5 -5.515625 C 5.457031 -5.703125 5.394531 -5.851562 5.3125 -5.96875 C 5.226562 -6.09375 5.125 -6.1875 5 -6.25 C 4.875 -6.320312 4.726562 -6.367188 4.5625 -6.390625 C 4.40625 -6.421875 4.226562 -6.4375 4.03125 -6.4375 C 3.5625 -6.4375 3.207031 -6.375 2.96875 -6.25 C 2.738281 -6.132812 2.625 -5.9375 2.625 -5.65625 C 2.625 -5.488281 2.671875 -5.351562 2.765625 -5.25 C 2.859375 -5.144531 2.992188 -5.054688 3.171875 -4.984375 C 3.347656 -4.921875 3.554688 -4.863281 3.796875 -4.8125 C 4.046875 -4.757812 4.3125 -4.703125 4.59375 -4.640625 C 4.945312 -4.554688 5.289062 -4.460938 5.625 -4.359375 C 5.96875 -4.265625 6.269531 -4.128906 6.53125 -3.953125 C 6.800781 -3.773438 7.015625 -3.546875 7.171875 -3.265625 C 7.335938 -2.992188 7.421875 -2.644531 7.421875 -2.21875 Z M 7.421875 -2.21875 \"/>\n",
       "</g>\n",
       "<g id=\"glyph-2-10\">\n",
       "<path d=\"M 4.125 0.140625 C 3.570312 0.140625 3.078125 0.0625 2.640625 -0.09375 C 2.203125 -0.257812 1.828125 -0.507812 1.515625 -0.84375 C 1.210938 -1.175781 0.976562 -1.585938 0.8125 -2.078125 C 0.644531 -2.578125 0.5625 -3.164062 0.5625 -3.84375 C 0.5625 -4.570312 0.65625 -5.179688 0.84375 -5.671875 C 1.039062 -6.171875 1.304688 -6.570312 1.640625 -6.875 C 1.972656 -7.1875 2.351562 -7.410156 2.78125 -7.546875 C 3.21875 -7.679688 3.675781 -7.75 4.15625 -7.75 C 4.75 -7.75 5.257812 -7.644531 5.6875 -7.4375 C 6.113281 -7.226562 6.460938 -6.9375 6.734375 -6.5625 C 7.003906 -6.1875 7.203125 -5.738281 7.328125 -5.21875 C 7.453125 -4.695312 7.515625 -4.117188 7.515625 -3.484375 L 7.515625 -3.421875 L 2.640625 -3.421875 C 2.640625 -3.109375 2.664062 -2.8125 2.71875 -2.53125 C 2.78125 -2.257812 2.875 -2.023438 3 -1.828125 C 3.125 -1.628906 3.285156 -1.472656 3.484375 -1.359375 C 3.691406 -1.242188 3.9375 -1.1875 4.21875 -1.1875 C 4.5625 -1.1875 4.84375 -1.257812 5.0625 -1.40625 C 5.289062 -1.550781 5.453125 -1.78125 5.546875 -2.09375 L 7.40625 -1.921875 C 7.320312 -1.710938 7.203125 -1.484375 7.046875 -1.234375 C 6.898438 -0.992188 6.695312 -0.769531 6.4375 -0.5625 C 6.1875 -0.363281 5.875 -0.195312 5.5 -0.0625 C 5.125 0.0703125 4.664062 0.140625 4.125 0.140625 Z M 4.125 -6.5 C 3.914062 -6.5 3.722656 -6.460938 3.546875 -6.390625 C 3.378906 -6.328125 3.226562 -6.222656 3.09375 -6.078125 C 2.96875 -5.929688 2.863281 -5.738281 2.78125 -5.5 C 2.707031 -5.269531 2.664062 -4.988281 2.65625 -4.65625 L 5.609375 -4.65625 C 5.566406 -5.269531 5.414062 -5.726562 5.15625 -6.03125 C 4.90625 -6.34375 4.5625 -6.5 4.125 -6.5 Z M 4.125 -6.5 \"/>\n",
       "</g>\n",
       "<g id=\"glyph-2-11\">\n",
       "<path d=\"M 1 0 L 1 -10.4375 L 2.984375 -10.4375 L 2.984375 0 Z M 1 0 \"/>\n",
       "</g>\n",
       "<g id=\"glyph-2-12\">\n",
       "<path d=\"M 4.171875 0.140625 C 3.566406 0.140625 3.035156 0.046875 2.578125 -0.140625 C 2.128906 -0.328125 1.753906 -0.59375 1.453125 -0.9375 C 1.160156 -1.28125 0.9375 -1.691406 0.78125 -2.171875 C 0.632812 -2.648438 0.5625 -3.179688 0.5625 -3.765625 C 0.5625 -4.398438 0.644531 -4.960938 0.8125 -5.453125 C 0.976562 -5.953125 1.210938 -6.367188 1.515625 -6.703125 C 1.828125 -7.046875 2.207031 -7.304688 2.65625 -7.484375 C 3.113281 -7.660156 3.628906 -7.75 4.203125 -7.75 C 4.691406 -7.75 5.128906 -7.679688 5.515625 -7.546875 C 5.898438 -7.421875 6.226562 -7.242188 6.5 -7.015625 C 6.78125 -6.785156 7.003906 -6.515625 7.171875 -6.203125 C 7.347656 -5.898438 7.46875 -5.570312 7.53125 -5.21875 L 5.546875 -5.109375 C 5.484375 -5.503906 5.335938 -5.816406 5.109375 -6.046875 C 4.890625 -6.273438 4.578125 -6.390625 4.171875 -6.390625 C 3.640625 -6.390625 3.25 -6.171875 3 -5.734375 C 2.757812 -5.296875 2.640625 -4.664062 2.640625 -3.84375 C 2.640625 -2.082031 3.15625 -1.203125 4.1875 -1.203125 C 4.5625 -1.203125 4.875 -1.320312 5.125 -1.5625 C 5.382812 -1.800781 5.546875 -2.15625 5.609375 -2.625 L 7.59375 -2.53125 C 7.539062 -2.175781 7.429688 -1.835938 7.265625 -1.515625 C 7.097656 -1.203125 6.875 -0.921875 6.59375 -0.671875 C 6.3125 -0.421875 5.96875 -0.222656 5.5625 -0.078125 C 5.15625 0.0664062 4.691406 0.140625 4.171875 0.140625 Z M 4.171875 0.140625 \"/>\n",
       "</g>\n",
       "<g id=\"glyph-2-13\">\n",
       "<path d=\"M 2.953125 0.125 C 2.367188 0.125 1.921875 -0.03125 1.609375 -0.34375 C 1.296875 -0.664062 1.140625 -1.144531 1.140625 -1.78125 L 1.140625 -6.28125 L 0.171875 -6.28125 L 0.171875 -7.609375 L 1.234375 -7.609375 L 1.859375 -9.390625 L 3.09375 -9.390625 L 3.09375 -7.609375 L 4.53125 -7.609375 L 4.53125 -6.28125 L 3.09375 -6.28125 L 3.09375 -2.328125 C 3.09375 -1.953125 3.160156 -1.675781 3.296875 -1.5 C 3.441406 -1.320312 3.660156 -1.234375 3.953125 -1.234375 C 4.078125 -1.234375 4.1875 -1.242188 4.28125 -1.265625 C 4.382812 -1.285156 4.5 -1.3125 4.625 -1.34375 L 4.625 -0.109375 C 4.375 -0.0351562 4.113281 0.0195312 3.84375 0.0625 C 3.570312 0.101562 3.273438 0.125 2.953125 0.125 Z M 2.953125 0.125 \"/>\n",
       "</g>\n",
       "<g id=\"glyph-2-14\">\n",
       "<path d=\"M 1 -8.984375 L 1 -10.4375 L 2.984375 -10.4375 L 2.984375 -8.984375 Z M 1 0 L 1 -7.609375 L 2.984375 -7.609375 L 2.984375 0 Z M 1 0 \"/>\n",
       "</g>\n",
       "<g id=\"glyph-2-15\">\n",
       "<path d=\"M 5.9375 0 L 5.9375 -4.265625 C 5.9375 -4.566406 5.910156 -4.835938 5.859375 -5.078125 C 5.816406 -5.328125 5.738281 -5.539062 5.625 -5.71875 C 5.519531 -5.894531 5.378906 -6.03125 5.203125 -6.125 C 5.035156 -6.226562 4.828125 -6.28125 4.578125 -6.28125 C 4.335938 -6.28125 4.117188 -6.222656 3.921875 -6.109375 C 3.734375 -6.003906 3.566406 -5.851562 3.421875 -5.65625 C 3.285156 -5.46875 3.175781 -5.238281 3.09375 -4.96875 C 3.019531 -4.695312 2.984375 -4.398438 2.984375 -4.078125 L 2.984375 0 L 1 0 L 1 -5.90625 C 1 -6.070312 1 -6.238281 1 -6.40625 C 1 -6.582031 0.992188 -6.75 0.984375 -6.90625 C 0.984375 -7.0625 0.976562 -7.203125 0.96875 -7.328125 C 0.96875 -7.453125 0.960938 -7.546875 0.953125 -7.609375 L 2.828125 -7.609375 C 2.835938 -7.554688 2.847656 -7.46875 2.859375 -7.34375 C 2.867188 -7.21875 2.878906 -7.078125 2.890625 -6.921875 C 2.898438 -6.773438 2.90625 -6.625 2.90625 -6.46875 C 2.914062 -6.320312 2.921875 -6.195312 2.921875 -6.09375 L 2.953125 -6.09375 C 3.222656 -6.675781 3.554688 -7.097656 3.953125 -7.359375 C 4.359375 -7.628906 4.84375 -7.765625 5.40625 -7.765625 C 5.863281 -7.765625 6.25 -7.6875 6.5625 -7.53125 C 6.882812 -7.382812 7.144531 -7.175781 7.34375 -6.90625 C 7.539062 -6.644531 7.679688 -6.335938 7.765625 -5.984375 C 7.859375 -5.628906 7.90625 -5.242188 7.90625 -4.828125 L 7.90625 0 Z M 5.9375 0 \"/>\n",
       "</g>\n",
       "</g>\n",
       "</defs>\n",
       "<rect x=\"-50.4\" y=\"-50.4\" width=\"604.8\" height=\"604.8\" fill=\"rgb(100%, 100%, 100%)\" fill-opacity=\"1\"/>\n",
       "<path fill=\"none\" stroke-width=\"0.75\" stroke-linecap=\"round\" stroke-linejoin=\"round\" stroke=\"rgb(100%, 0%, 0%)\" stroke-opacity=\"1\" stroke-miterlimit=\"10\" d=\"M 75.46875 79.921875 L 111.730469 321.191406 \"/>\n",
       "<path fill=\"none\" stroke-width=\"0.75\" stroke-linecap=\"round\" stroke-linejoin=\"round\" stroke=\"rgb(100%, 0%, 0%)\" stroke-opacity=\"1\" stroke-miterlimit=\"10\" d=\"M 116.578125 334.4375 L 147.421875 384.441406 \"/>\n",
       "<path fill=\"none\" stroke-width=\"0.75\" stroke-linecap=\"round\" stroke-linejoin=\"round\" stroke=\"rgb(100%, 0%, 0%)\" stroke-opacity=\"1\" stroke-miterlimit=\"10\" d=\"M 157.871094 393.277344 L 182.929688 403.445312 \"/>\n",
       "<path fill=\"none\" stroke-width=\"0.75\" stroke-linecap=\"round\" stroke-linejoin=\"round\" stroke=\"rgb(100%, 0%, 0%)\" stroke-opacity=\"1\" stroke-miterlimit=\"10\" d=\"M 196.730469 407.144531 L 220.867188 410.507812 \"/>\n",
       "<path fill=\"none\" stroke-width=\"0.75\" stroke-linecap=\"round\" stroke-linejoin=\"round\" stroke=\"rgb(100%, 0%, 0%)\" stroke-opacity=\"1\" stroke-miterlimit=\"10\" d=\"M 235.167969 412.160156 L 259.230469 414.375 \"/>\n",
       "<path fill=\"none\" stroke-width=\"0.75\" stroke-linecap=\"round\" stroke-linejoin=\"round\" stroke=\"rgb(100%, 0%, 0%)\" stroke-opacity=\"1\" stroke-miterlimit=\"10\" d=\"M 273.597656 415.179688 L 297.601562 415.667969 \"/>\n",
       "<path fill=\"none\" stroke-width=\"0.75\" stroke-linecap=\"round\" stroke-linejoin=\"round\" stroke=\"rgb(100%, 0%, 0%)\" stroke-opacity=\"1\" stroke-miterlimit=\"10\" d=\"M 312 415.945312 L 336 416.375 \"/>\n",
       "<path fill=\"none\" stroke-width=\"0.75\" stroke-linecap=\"round\" stroke-linejoin=\"round\" stroke=\"rgb(100%, 0%, 0%)\" stroke-opacity=\"1\" stroke-miterlimit=\"10\" d=\"M 350.398438 416.558594 L 374.398438 416.746094 \"/>\n",
       "<path fill=\"none\" stroke-width=\"0.75\" stroke-linecap=\"round\" stroke-linejoin=\"round\" stroke=\"rgb(100%, 0%, 0%)\" stroke-opacity=\"1\" stroke-miterlimit=\"10\" d=\"M 388.800781 416.777344 L 412.800781 416.707031 \"/>\n",
       "<path fill=\"none\" stroke-width=\"0.75\" stroke-linecap=\"round\" stroke-linejoin=\"round\" stroke=\"rgb(100%, 0%, 0%)\" stroke-opacity=\"1\" stroke-miterlimit=\"10\" d=\"M 427.199219 416.664062 L 451.199219 416.585938 \"/>\n",
       "<path fill-rule=\"nonzero\" fill=\"rgb(100%, 0%, 0%)\" fill-opacity=\"1\" stroke-width=\"0.75\" stroke-linecap=\"round\" stroke-linejoin=\"round\" stroke=\"rgb(100%, 0%, 0%)\" stroke-opacity=\"1\" stroke-miterlimit=\"10\" d=\"M 77.101562 72.800781 C 77.101562 76.398438 71.699219 76.398438 71.699219 72.800781 C 71.699219 69.199219 77.101562 69.199219 77.101562 72.800781 \"/>\n",
       "<path fill-rule=\"nonzero\" fill=\"rgb(100%, 0%, 0%)\" fill-opacity=\"1\" stroke-width=\"0.75\" stroke-linecap=\"round\" stroke-linejoin=\"round\" stroke=\"rgb(100%, 0%, 0%)\" stroke-opacity=\"1\" stroke-miterlimit=\"10\" d=\"M 115.5 328.3125 C 115.5 331.910156 110.101562 331.910156 110.101562 328.3125 C 110.101562 324.710938 115.5 324.710938 115.5 328.3125 \"/>\n",
       "<path fill-rule=\"nonzero\" fill=\"rgb(100%, 0%, 0%)\" fill-opacity=\"1\" stroke-width=\"0.75\" stroke-linecap=\"round\" stroke-linejoin=\"round\" stroke=\"rgb(100%, 0%, 0%)\" stroke-opacity=\"1\" stroke-miterlimit=\"10\" d=\"M 153.898438 390.570312 C 153.898438 394.171875 148.5 394.171875 148.5 390.570312 C 148.5 386.972656 153.898438 386.972656 153.898438 390.570312 \"/>\n",
       "<path fill-rule=\"nonzero\" fill=\"rgb(100%, 0%, 0%)\" fill-opacity=\"1\" stroke-width=\"0.75\" stroke-linecap=\"round\" stroke-linejoin=\"round\" stroke=\"rgb(100%, 0%, 0%)\" stroke-opacity=\"1\" stroke-miterlimit=\"10\" d=\"M 192.300781 406.152344 C 192.300781 409.753906 186.898438 409.753906 186.898438 406.152344 C 186.898438 402.554688 192.300781 402.554688 192.300781 406.152344 \"/>\n",
       "<path fill-rule=\"nonzero\" fill=\"rgb(100%, 0%, 0%)\" fill-opacity=\"1\" stroke-width=\"0.75\" stroke-linecap=\"round\" stroke-linejoin=\"round\" stroke=\"rgb(100%, 0%, 0%)\" stroke-opacity=\"1\" stroke-miterlimit=\"10\" d=\"M 230.699219 411.503906 C 230.699219 415.101562 225.300781 415.101562 225.300781 411.503906 C 225.300781 407.902344 230.699219 407.902344 230.699219 411.503906 \"/>\n",
       "<path fill-rule=\"nonzero\" fill=\"rgb(100%, 0%, 0%)\" fill-opacity=\"1\" stroke-width=\"0.75\" stroke-linecap=\"round\" stroke-linejoin=\"round\" stroke=\"rgb(100%, 0%, 0%)\" stroke-opacity=\"1\" stroke-miterlimit=\"10\" d=\"M 269.101562 415.035156 C 269.101562 418.632812 263.699219 418.632812 263.699219 415.035156 C 263.699219 411.433594 269.101562 411.433594 269.101562 415.035156 \"/>\n",
       "<path fill-rule=\"nonzero\" fill=\"rgb(100%, 0%, 0%)\" fill-opacity=\"1\" stroke-width=\"0.75\" stroke-linecap=\"round\" stroke-linejoin=\"round\" stroke=\"rgb(100%, 0%, 0%)\" stroke-opacity=\"1\" stroke-miterlimit=\"10\" d=\"M 307.5 415.8125 C 307.5 419.414062 302.101562 419.414062 302.101562 415.8125 C 302.101562 412.214844 307.5 412.214844 307.5 415.8125 \"/>\n",
       "<path fill-rule=\"nonzero\" fill=\"rgb(100%, 0%, 0%)\" fill-opacity=\"1\" stroke-width=\"0.75\" stroke-linecap=\"round\" stroke-linejoin=\"round\" stroke=\"rgb(100%, 0%, 0%)\" stroke-opacity=\"1\" stroke-miterlimit=\"10\" d=\"M 345.898438 416.503906 C 345.898438 420.105469 340.5 420.105469 340.5 416.503906 C 340.5 412.90625 345.898438 412.90625 345.898438 416.503906 \"/>\n",
       "<path fill-rule=\"nonzero\" fill=\"rgb(100%, 0%, 0%)\" fill-opacity=\"1\" stroke-width=\"0.75\" stroke-linecap=\"round\" stroke-linejoin=\"round\" stroke=\"rgb(100%, 0%, 0%)\" stroke-opacity=\"1\" stroke-miterlimit=\"10\" d=\"M 384.300781 416.800781 C 384.300781 420.398438 378.898438 420.398438 378.898438 416.800781 C 378.898438 413.199219 384.300781 413.199219 384.300781 416.800781 \"/>\n",
       "<path fill-rule=\"nonzero\" fill=\"rgb(100%, 0%, 0%)\" fill-opacity=\"1\" stroke-width=\"0.75\" stroke-linecap=\"round\" stroke-linejoin=\"round\" stroke=\"rgb(100%, 0%, 0%)\" stroke-opacity=\"1\" stroke-miterlimit=\"10\" d=\"M 422.699219 416.6875 C 422.699219 420.285156 417.300781 420.285156 417.300781 416.6875 C 417.300781 413.085938 422.699219 413.085938 422.699219 416.6875 \"/>\n",
       "<path fill-rule=\"nonzero\" fill=\"rgb(100%, 0%, 0%)\" fill-opacity=\"1\" stroke-width=\"0.75\" stroke-linecap=\"round\" stroke-linejoin=\"round\" stroke=\"rgb(100%, 0%, 0%)\" stroke-opacity=\"1\" stroke-miterlimit=\"10\" d=\"M 461.101562 416.566406 C 461.101562 420.164062 455.699219 420.164062 455.699219 416.566406 C 455.699219 412.964844 461.101562 412.964844 461.101562 416.566406 \"/>\n",
       "<path fill=\"none\" stroke-width=\"0.75\" stroke-linecap=\"round\" stroke-linejoin=\"round\" stroke=\"rgb(0%, 0%, 0%)\" stroke-opacity=\"1\" stroke-miterlimit=\"10\" d=\"M 112.800781 430.558594 L 420 430.558594 \"/>\n",
       "<path fill=\"none\" stroke-width=\"0.75\" stroke-linecap=\"round\" stroke-linejoin=\"round\" stroke=\"rgb(0%, 0%, 0%)\" stroke-opacity=\"1\" stroke-miterlimit=\"10\" d=\"M 112.800781 430.558594 L 112.800781 437.761719 \"/>\n",
       "<path fill=\"none\" stroke-width=\"0.75\" stroke-linecap=\"round\" stroke-linejoin=\"round\" stroke=\"rgb(0%, 0%, 0%)\" stroke-opacity=\"1\" stroke-miterlimit=\"10\" d=\"M 189.601562 430.558594 L 189.601562 437.761719 \"/>\n",
       "<path fill=\"none\" stroke-width=\"0.75\" stroke-linecap=\"round\" stroke-linejoin=\"round\" stroke=\"rgb(0%, 0%, 0%)\" stroke-opacity=\"1\" stroke-miterlimit=\"10\" d=\"M 266.398438 430.558594 L 266.398438 437.761719 \"/>\n",
       "<path fill=\"none\" stroke-width=\"0.75\" stroke-linecap=\"round\" stroke-linejoin=\"round\" stroke=\"rgb(0%, 0%, 0%)\" stroke-opacity=\"1\" stroke-miterlimit=\"10\" d=\"M 343.199219 430.558594 L 343.199219 437.761719 \"/>\n",
       "<path fill=\"none\" stroke-width=\"0.75\" stroke-linecap=\"round\" stroke-linejoin=\"round\" stroke=\"rgb(0%, 0%, 0%)\" stroke-opacity=\"1\" stroke-miterlimit=\"10\" d=\"M 420 430.558594 L 420 437.761719 \"/>\n",
       "<g fill=\"rgb(0%, 0%, 0%)\" fill-opacity=\"1\">\n",
       "<use xlink:href=\"#glyph-0-0\" x=\"109.300781\" y=\"456.34375\"/>\n",
       "</g>\n",
       "<g fill=\"rgb(0%, 0%, 0%)\" fill-opacity=\"1\">\n",
       "<use xlink:href=\"#glyph-0-1\" x=\"186.101562\" y=\"456.34375\"/>\n",
       "</g>\n",
       "<g fill=\"rgb(0%, 0%, 0%)\" fill-opacity=\"1\">\n",
       "<use xlink:href=\"#glyph-0-2\" x=\"262.898438\" y=\"456.34375\"/>\n",
       "</g>\n",
       "<g fill=\"rgb(0%, 0%, 0%)\" fill-opacity=\"1\">\n",
       "<use xlink:href=\"#glyph-0-3\" x=\"339.699219\" y=\"456.34375\"/>\n",
       "</g>\n",
       "<g fill=\"rgb(0%, 0%, 0%)\" fill-opacity=\"1\">\n",
       "<use xlink:href=\"#glyph-0-4\" x=\"413\" y=\"456.34375\"/>\n",
       "<use xlink:href=\"#glyph-0-5\" x=\"420\" y=\"456.34375\"/>\n",
       "</g>\n",
       "<path fill=\"none\" stroke-width=\"0.75\" stroke-linecap=\"round\" stroke-linejoin=\"round\" stroke=\"rgb(0%, 0%, 0%)\" stroke-opacity=\"1\" stroke-miterlimit=\"10\" d=\"M 59.039062 417.320312 L 59.039062 102.332031 \"/>\n",
       "<path fill=\"none\" stroke-width=\"0.75\" stroke-linecap=\"round\" stroke-linejoin=\"round\" stroke=\"rgb(0%, 0%, 0%)\" stroke-opacity=\"1\" stroke-miterlimit=\"10\" d=\"M 59.039062 417.320312 L 51.839844 417.320312 \"/>\n",
       "<path fill=\"none\" stroke-width=\"0.75\" stroke-linecap=\"round\" stroke-linejoin=\"round\" stroke=\"rgb(0%, 0%, 0%)\" stroke-opacity=\"1\" stroke-miterlimit=\"10\" d=\"M 59.039062 354.324219 L 51.839844 354.324219 \"/>\n",
       "<path fill=\"none\" stroke-width=\"0.75\" stroke-linecap=\"round\" stroke-linejoin=\"round\" stroke=\"rgb(0%, 0%, 0%)\" stroke-opacity=\"1\" stroke-miterlimit=\"10\" d=\"M 59.039062 291.324219 L 51.839844 291.324219 \"/>\n",
       "<path fill=\"none\" stroke-width=\"0.75\" stroke-linecap=\"round\" stroke-linejoin=\"round\" stroke=\"rgb(0%, 0%, 0%)\" stroke-opacity=\"1\" stroke-miterlimit=\"10\" d=\"M 59.039062 228.328125 L 51.839844 228.328125 \"/>\n",
       "<path fill=\"none\" stroke-width=\"0.75\" stroke-linecap=\"round\" stroke-linejoin=\"round\" stroke=\"rgb(0%, 0%, 0%)\" stroke-opacity=\"1\" stroke-miterlimit=\"10\" d=\"M 59.039062 165.328125 L 51.839844 165.328125 \"/>\n",
       "<path fill=\"none\" stroke-width=\"0.75\" stroke-linecap=\"round\" stroke-linejoin=\"round\" stroke=\"rgb(0%, 0%, 0%)\" stroke-opacity=\"1\" stroke-miterlimit=\"10\" d=\"M 59.039062 102.332031 L 51.839844 102.332031 \"/>\n",
       "<g fill=\"rgb(0%, 0%, 0%)\" fill-opacity=\"1\">\n",
       "<use xlink:href=\"#glyph-1-0\" x=\"41.625\" y=\"420.820312\"/>\n",
       "</g>\n",
       "<g fill=\"rgb(0%, 0%, 0%)\" fill-opacity=\"1\">\n",
       "<use xlink:href=\"#glyph-1-1\" x=\"41.625\" y=\"368.324219\"/>\n",
       "<use xlink:href=\"#glyph-1-0\" x=\"41.625\" y=\"361.324219\"/>\n",
       "<use xlink:href=\"#glyph-1-0\" x=\"41.625\" y=\"354.324219\"/>\n",
       "<use xlink:href=\"#glyph-1-0\" x=\"41.625\" y=\"347.324219\"/>\n",
       "</g>\n",
       "<g fill=\"rgb(0%, 0%, 0%)\" fill-opacity=\"1\">\n",
       "<use xlink:href=\"#glyph-1-2\" x=\"41.625\" y=\"305.324219\"/>\n",
       "<use xlink:href=\"#glyph-1-0\" x=\"41.625\" y=\"298.324219\"/>\n",
       "<use xlink:href=\"#glyph-1-0\" x=\"41.625\" y=\"291.324219\"/>\n",
       "<use xlink:href=\"#glyph-1-0\" x=\"41.625\" y=\"284.324219\"/>\n",
       "</g>\n",
       "<g fill=\"rgb(0%, 0%, 0%)\" fill-opacity=\"1\">\n",
       "<use xlink:href=\"#glyph-1-3\" x=\"41.625\" y=\"242.328125\"/>\n",
       "<use xlink:href=\"#glyph-1-0\" x=\"41.625\" y=\"235.328125\"/>\n",
       "<use xlink:href=\"#glyph-1-0\" x=\"41.625\" y=\"228.328125\"/>\n",
       "<use xlink:href=\"#glyph-1-0\" x=\"41.625\" y=\"221.328125\"/>\n",
       "</g>\n",
       "<g fill=\"rgb(0%, 0%, 0%)\" fill-opacity=\"1\">\n",
       "<use xlink:href=\"#glyph-1-4\" x=\"41.625\" y=\"179.328125\"/>\n",
       "<use xlink:href=\"#glyph-1-0\" x=\"41.625\" y=\"172.328125\"/>\n",
       "<use xlink:href=\"#glyph-1-0\" x=\"41.625\" y=\"165.328125\"/>\n",
       "<use xlink:href=\"#glyph-1-0\" x=\"41.625\" y=\"158.328125\"/>\n",
       "</g>\n",
       "<g fill=\"rgb(0%, 0%, 0%)\" fill-opacity=\"1\">\n",
       "<use xlink:href=\"#glyph-1-5\" x=\"41.625\" y=\"116.332031\"/>\n",
       "<use xlink:href=\"#glyph-1-0\" x=\"41.625\" y=\"109.332031\"/>\n",
       "<use xlink:href=\"#glyph-1-0\" x=\"41.625\" y=\"102.332031\"/>\n",
       "<use xlink:href=\"#glyph-1-0\" x=\"41.625\" y=\"95.332031\"/>\n",
       "</g>\n",
       "<path fill=\"none\" stroke-width=\"0.75\" stroke-linecap=\"round\" stroke-linejoin=\"round\" stroke=\"rgb(0%, 0%, 0%)\" stroke-opacity=\"1\" stroke-miterlimit=\"10\" d=\"M 59.039062 430.558594 L 473.761719 430.558594 L 473.761719 59.039062 L 59.039062 59.039062 Z M 59.039062 430.558594 \"/>\n",
       "<g fill=\"rgb(0%, 0%, 0%)\" fill-opacity=\"1\">\n",
       "<use xlink:href=\"#glyph-2-0\" x=\"182.398438\" y=\"33.554688\"/>\n",
       "<use xlink:href=\"#glyph-2-1\" x=\"192.398438\" y=\"33.554688\"/>\n",
       "<use xlink:href=\"#glyph-2-2\" x=\"201.398438\" y=\"33.554688\"/>\n",
       "<use xlink:href=\"#glyph-2-3\" x=\"205.398438\" y=\"33.554688\"/>\n",
       "<use xlink:href=\"#glyph-2-4\" x=\"210.398438\" y=\"33.554688\"/>\n",
       "<use xlink:href=\"#glyph-2-5\" x=\"219.398438\" y=\"33.554688\"/>\n",
       "<use xlink:href=\"#glyph-2-2\" x=\"225.398438\" y=\"33.554688\"/>\n",
       "<use xlink:href=\"#glyph-2-3\" x=\"229.398438\" y=\"33.554688\"/>\n",
       "<use xlink:href=\"#glyph-2-4\" x=\"234.398438\" y=\"33.554688\"/>\n",
       "<use xlink:href=\"#glyph-2-5\" x=\"243.398438\" y=\"33.554688\"/>\n",
       "<use xlink:href=\"#glyph-2-6\" x=\"249.398438\" y=\"33.554688\"/>\n",
       "<use xlink:href=\"#glyph-2-7\" x=\"260.398438\" y=\"33.554688\"/>\n",
       "<use xlink:href=\"#glyph-2-5\" x=\"268.398438\" y=\"33.554688\"/>\n",
       "<use xlink:href=\"#glyph-2-8\" x=\"274.398438\" y=\"33.554688\"/>\n",
       "<use xlink:href=\"#glyph-2-2\" x=\"283.398438\" y=\"33.554688\"/>\n",
       "<use xlink:href=\"#glyph-2-9\" x=\"287.398438\" y=\"33.554688\"/>\n",
       "<use xlink:href=\"#glyph-2-10\" x=\"295.398438\" y=\"33.554688\"/>\n",
       "<use xlink:href=\"#glyph-2-11\" x=\"303.398438\" y=\"33.554688\"/>\n",
       "<use xlink:href=\"#glyph-2-10\" x=\"307.398438\" y=\"33.554688\"/>\n",
       "<use xlink:href=\"#glyph-2-12\" x=\"315.398438\" y=\"33.554688\"/>\n",
       "<use xlink:href=\"#glyph-2-13\" x=\"323.398438\" y=\"33.554688\"/>\n",
       "<use xlink:href=\"#glyph-2-14\" x=\"328.398438\" y=\"33.554688\"/>\n",
       "<use xlink:href=\"#glyph-2-4\" x=\"332.398438\" y=\"33.554688\"/>\n",
       "<use xlink:href=\"#glyph-2-15\" x=\"341.398438\" y=\"33.554688\"/>\n",
       "</g>\n",
       "<g fill=\"rgb(0%, 0%, 0%)\" fill-opacity=\"1\">\n",
       "<use xlink:href=\"#glyph-0-6\" x=\"195.898438\" y=\"485.144531\"/>\n",
       "<use xlink:href=\"#glyph-0-7\" x=\"204.898438\" y=\"485.144531\"/>\n",
       "<use xlink:href=\"#glyph-0-8\" x=\"211.898438\" y=\"485.144531\"/>\n",
       "<use xlink:href=\"#glyph-0-9\" x=\"221.898438\" y=\"485.144531\"/>\n",
       "<use xlink:href=\"#glyph-0-10\" x=\"228.898438\" y=\"485.144531\"/>\n",
       "<use xlink:href=\"#glyph-0-11\" x=\"235.898438\" y=\"485.144531\"/>\n",
       "<use xlink:href=\"#glyph-0-12\" x=\"239.898438\" y=\"485.144531\"/>\n",
       "<use xlink:href=\"#glyph-0-13\" x=\"242.898438\" y=\"485.144531\"/>\n",
       "<use xlink:href=\"#glyph-0-14\" x=\"249.898438\" y=\"485.144531\"/>\n",
       "<use xlink:href=\"#glyph-0-12\" x=\"252.898438\" y=\"485.144531\"/>\n",
       "<use xlink:href=\"#glyph-0-15\" x=\"255.898438\" y=\"485.144531\"/>\n",
       "<use xlink:href=\"#glyph-0-16\" x=\"258.898438\" y=\"485.144531\"/>\n",
       "<use xlink:href=\"#glyph-0-17\" x=\"265.898438\" y=\"485.144531\"/>\n",
       "<use xlink:href=\"#glyph-0-7\" x=\"272.898438\" y=\"485.144531\"/>\n",
       "<use xlink:href=\"#glyph-0-18\" x=\"279.898438\" y=\"485.144531\"/>\n",
       "<use xlink:href=\"#glyph-0-12\" x=\"282.898438\" y=\"485.144531\"/>\n",
       "<use xlink:href=\"#glyph-0-19\" x=\"285.898438\" y=\"485.144531\"/>\n",
       "<use xlink:href=\"#glyph-0-20\" x=\"292.898438\" y=\"485.144531\"/>\n",
       "<use xlink:href=\"#glyph-0-11\" x=\"299.898438\" y=\"485.144531\"/>\n",
       "<use xlink:href=\"#glyph-0-21\" x=\"303.898438\" y=\"485.144531\"/>\n",
       "<use xlink:href=\"#glyph-0-20\" x=\"306.898438\" y=\"485.144531\"/>\n",
       "<use xlink:href=\"#glyph-0-9\" x=\"313.898438\" y=\"485.144531\"/>\n",
       "<use xlink:href=\"#glyph-0-22\" x=\"320.898438\" y=\"485.144531\"/>\n",
       "<use xlink:href=\"#glyph-0-10\" x=\"323.898438\" y=\"485.144531\"/>\n",
       "<use xlink:href=\"#glyph-0-23\" x=\"330.898438\" y=\"485.144531\"/>\n",
       "</g>\n",
       "<g fill=\"rgb(0%, 0%, 0%)\" fill-opacity=\"1\">\n",
       "<use xlink:href=\"#glyph-1-6\" x=\"12.824219\" y=\"252.800781\"/>\n",
       "<use xlink:href=\"#glyph-1-7\" x=\"12.824219\" y=\"243.800781\"/>\n",
       "</g>\n",
       "</svg>\n"
      ],
      "text/plain": [
       "Plot with title “Cp for forward selection”"
      ]
     },
     "metadata": {
      "application/pdf": {
       "height": 420,
       "width": 420
      },
      "image/jpeg": {
       "height": 420,
       "width": 420
      },
      "image/png": {
       "height": 420,
       "width": 420
      },
      "image/svg+xml": {
       "height": 420,
       "isolated": true,
       "width": 420
      }
     },
     "output_type": "display_data"
    }
   ],
   "source": [
    "plot(summary(repo_forward_sel)$cp,\n",
    "     main = \"Cp for forward selection\",\n",
    "     xlab = \"Number of Input Variables\", \n",
    "     ylab = \"Cp\",\n",
    "     type = \"b\",\n",
    "     pch = 19,\n",
    "     col = \"red\"\n",
    ")"
   ]
  },
  {
   "cell_type": "code",
   "execution_count": 43,
   "id": "8a5bc0be-e5c6-4d96-86ed-3096e073f3b9",
   "metadata": {},
   "outputs": [
    {
     "data": {
      "text/html": [
       "<style>\n",
       ".list-inline {list-style: none; margin:0; padding: 0}\n",
       ".list-inline>li {display: inline-block}\n",
       ".list-inline>li:not(:last-child)::after {content: \"\\00b7\"; padding: 0 .5ex}\n",
       "</style>\n",
       "<ol class=list-inline><li>'Forks'</li><li>'Issues'</li><li>'Has.ProjectsTrue'</li><li>'Has.DownloadsTrue'</li><li>'Has.WikiTrue'</li><li>'Has.PagesTrue'</li><li>'Has.DiscussionsTrue'</li><li>'Is.ArchivedTrue'</li><li>'Is.TemplateTrue'</li></ol>\n"
      ],
      "text/latex": [
       "\\begin{enumerate*}\n",
       "\\item 'Forks'\n",
       "\\item 'Issues'\n",
       "\\item 'Has.ProjectsTrue'\n",
       "\\item 'Has.DownloadsTrue'\n",
       "\\item 'Has.WikiTrue'\n",
       "\\item 'Has.PagesTrue'\n",
       "\\item 'Has.DiscussionsTrue'\n",
       "\\item 'Is.ArchivedTrue'\n",
       "\\item 'Is.TemplateTrue'\n",
       "\\end{enumerate*}\n"
      ],
      "text/markdown": [
       "1. 'Forks'\n",
       "2. 'Issues'\n",
       "3. 'Has.ProjectsTrue'\n",
       "4. 'Has.DownloadsTrue'\n",
       "5. 'Has.WikiTrue'\n",
       "6. 'Has.PagesTrue'\n",
       "7. 'Has.DiscussionsTrue'\n",
       "8. 'Is.ArchivedTrue'\n",
       "9. 'Is.TemplateTrue'\n",
       "\n",
       "\n"
      ],
      "text/plain": [
       "[1] \"Forks\"               \"Issues\"              \"Has.ProjectsTrue\"   \n",
       "[4] \"Has.DownloadsTrue\"   \"Has.WikiTrue\"        \"Has.PagesTrue\"      \n",
       "[7] \"Has.DiscussionsTrue\" \"Is.ArchivedTrue\"     \"Is.TemplateTrue\"    "
      ]
     },
     "metadata": {},
     "output_type": "display_data"
    }
   ],
   "source": [
    "# I use min cp value here to select variables for no reasons (we used in worksheet)... please change to other metrics if more reasonable!!!\n",
    "cp_min = which.min(repo_forward_summary$cp) \n",
    "\n",
    "selected_var <- names(coef(repo_forward_sel, cp_min))[-1]\n",
    "selected_var"
   ]
  },
  {
   "cell_type": "code",
   "execution_count": 44,
   "id": "2f85eb60-d45b-4694-8213-6af8a08f6120",
   "metadata": {},
   "outputs": [
    {
     "data": {
      "text/html": [
       "<style>\n",
       ".list-inline {list-style: none; margin:0; padding: 0}\n",
       ".list-inline>li {display: inline-block}\n",
       ".list-inline>li:not(:last-child)::after {content: \"\\00b7\"; padding: 0 .5ex}\n",
       "</style>\n",
       "<ol class=list-inline><li>'Forks'</li><li>'Issues'</li><li>'Has.Projects'</li><li>'Has.Downloads'</li><li>'Has.Wiki'</li><li>'Has.Pages'</li><li>'Has.Discussions'</li><li>'Is.Archived'</li><li>'Is.Template'</li></ol>\n"
      ],
      "text/latex": [
       "\\begin{enumerate*}\n",
       "\\item 'Forks'\n",
       "\\item 'Issues'\n",
       "\\item 'Has.Projects'\n",
       "\\item 'Has.Downloads'\n",
       "\\item 'Has.Wiki'\n",
       "\\item 'Has.Pages'\n",
       "\\item 'Has.Discussions'\n",
       "\\item 'Is.Archived'\n",
       "\\item 'Is.Template'\n",
       "\\end{enumerate*}\n"
      ],
      "text/markdown": [
       "1. 'Forks'\n",
       "2. 'Issues'\n",
       "3. 'Has.Projects'\n",
       "4. 'Has.Downloads'\n",
       "5. 'Has.Wiki'\n",
       "6. 'Has.Pages'\n",
       "7. 'Has.Discussions'\n",
       "8. 'Is.Archived'\n",
       "9. 'Is.Template'\n",
       "\n",
       "\n"
      ],
      "text/plain": [
       "[1] \"Forks\"           \"Issues\"          \"Has.Projects\"    \"Has.Downloads\"  \n",
       "[5] \"Has.Wiki\"        \"Has.Pages\"       \"Has.Discussions\" \"Is.Archived\"    \n",
       "[9] \"Is.Template\"    "
      ]
     },
     "metadata": {},
     "output_type": "display_data"
    }
   ],
   "source": [
    "selected_var <- gsub(\"True\", \"\", selected_var)\n",
    "selected_var"
   ]
  },
  {
   "cell_type": "code",
   "execution_count": 45,
   "id": "354c3dd5-63d4-4f97-8aa6-6d030eddaab6",
   "metadata": {},
   "outputs": [
    {
     "data": {
      "text/html": [
       "<table class=\"dataframe\">\n",
       "<caption>A data.frame: 6 × 10</caption>\n",
       "<thead>\n",
       "\t<tr><th></th><th scope=col>Forks</th><th scope=col>Issues</th><th scope=col>Has.Projects</th><th scope=col>Has.Downloads</th><th scope=col>Has.Wiki</th><th scope=col>Has.Pages</th><th scope=col>Has.Discussions</th><th scope=col>Is.Archived</th><th scope=col>Is.Template</th><th scope=col>Stars</th></tr>\n",
       "\t<tr><th></th><th scope=col>&lt;int&gt;</th><th scope=col>&lt;int&gt;</th><th scope=col>&lt;fct&gt;</th><th scope=col>&lt;fct&gt;</th><th scope=col>&lt;fct&gt;</th><th scope=col>&lt;fct&gt;</th><th scope=col>&lt;fct&gt;</th><th scope=col>&lt;fct&gt;</th><th scope=col>&lt;fct&gt;</th><th scope=col>&lt;int&gt;</th></tr>\n",
       "</thead>\n",
       "<tbody>\n",
       "\t<tr><th scope=row>1</th><td> 32</td><td>36</td><td>True </td><td>True </td><td>False</td><td>False</td><td>False</td><td>False</td><td>False</td><td>237</td></tr>\n",
       "\t<tr><th scope=row>2</th><td>125</td><td>62</td><td>True </td><td>True </td><td>True </td><td>False</td><td>True </td><td>False</td><td>False</td><td>237</td></tr>\n",
       "\t<tr><th scope=row>3</th><td> 28</td><td> 9</td><td>True </td><td>True </td><td>True </td><td>False</td><td>True </td><td>False</td><td>False</td><td>237</td></tr>\n",
       "\t<tr><th scope=row>4</th><td> 36</td><td>23</td><td>False</td><td>True </td><td>True </td><td>True </td><td>False</td><td>False</td><td>False</td><td>237</td></tr>\n",
       "\t<tr><th scope=row>5</th><td> 74</td><td>57</td><td>True </td><td>True </td><td>True </td><td>False</td><td>True </td><td>False</td><td>False</td><td>237</td></tr>\n",
       "\t<tr><th scope=row>6</th><td> 72</td><td>17</td><td>True </td><td>False</td><td>True </td><td>False</td><td>False</td><td>False</td><td>False</td><td>237</td></tr>\n",
       "</tbody>\n",
       "</table>\n"
      ],
      "text/latex": [
       "A data.frame: 6 × 10\n",
       "\\begin{tabular}{r|llllllllll}\n",
       "  & Forks & Issues & Has.Projects & Has.Downloads & Has.Wiki & Has.Pages & Has.Discussions & Is.Archived & Is.Template & Stars\\\\\n",
       "  & <int> & <int> & <fct> & <fct> & <fct> & <fct> & <fct> & <fct> & <fct> & <int>\\\\\n",
       "\\hline\n",
       "\t1 &  32 & 36 & True  & True  & False & False & False & False & False & 237\\\\\n",
       "\t2 & 125 & 62 & True  & True  & True  & False & True  & False & False & 237\\\\\n",
       "\t3 &  28 &  9 & True  & True  & True  & False & True  & False & False & 237\\\\\n",
       "\t4 &  36 & 23 & False & True  & True  & True  & False & False & False & 237\\\\\n",
       "\t5 &  74 & 57 & True  & True  & True  & False & True  & False & False & 237\\\\\n",
       "\t6 &  72 & 17 & True  & False & True  & False & False & False & False & 237\\\\\n",
       "\\end{tabular}\n"
      ],
      "text/markdown": [
       "\n",
       "A data.frame: 6 × 10\n",
       "\n",
       "| <!--/--> | Forks &lt;int&gt; | Issues &lt;int&gt; | Has.Projects &lt;fct&gt; | Has.Downloads &lt;fct&gt; | Has.Wiki &lt;fct&gt; | Has.Pages &lt;fct&gt; | Has.Discussions &lt;fct&gt; | Is.Archived &lt;fct&gt; | Is.Template &lt;fct&gt; | Stars &lt;int&gt; |\n",
       "|---|---|---|---|---|---|---|---|---|---|---|\n",
       "| 1 |  32 | 36 | True  | True  | False | False | False | False | False | 237 |\n",
       "| 2 | 125 | 62 | True  | True  | True  | False | True  | False | False | 237 |\n",
       "| 3 |  28 |  9 | True  | True  | True  | False | True  | False | False | 237 |\n",
       "| 4 |  36 | 23 | False | True  | True  | True  | False | False | False | 237 |\n",
       "| 5 |  74 | 57 | True  | True  | True  | False | True  | False | False | 237 |\n",
       "| 6 |  72 | 17 | True  | False | True  | False | False | False | False | 237 |\n",
       "\n"
      ],
      "text/plain": [
       "  Forks Issues Has.Projects Has.Downloads Has.Wiki Has.Pages Has.Discussions\n",
       "1  32   36     True         True          False    False     False          \n",
       "2 125   62     True         True          True     False     True           \n",
       "3  28    9     True         True          True     False     True           \n",
       "4  36   23     False        True          True     True      False          \n",
       "5  74   57     True         True          True     False     True           \n",
       "6  72   17     True         False         True     False     False          \n",
       "  Is.Archived Is.Template Stars\n",
       "1 False       False       237  \n",
       "2 False       False       237  \n",
       "3 False       False       237  \n",
       "4 False       False       237  \n",
       "5 False       False       237  \n",
       "6 False       False       237  "
      ]
     },
     "metadata": {},
     "output_type": "display_data"
    }
   ],
   "source": [
    "# subset only the predictors selected from the full dataset\n",
    "training_subset <- \n",
    "    training_repo %>% \n",
    "    select(all_of(selected_var), Stars)\n",
    "\n",
    "testing_subset <- \n",
    "    testing_repo %>% \n",
    "    select(all_of(selected_var), Stars)\n",
    "\n",
    "head(training_subset)"
   ]
  },
  {
   "cell_type": "markdown",
   "id": "0a79afbf-cddf-49eb-a439-82402a76c1f2",
   "metadata": {},
   "source": [
    "#### fit the model"
   ]
  },
  {
   "cell_type": "code",
   "execution_count": 46,
   "id": "928f25a6-8b06-4b3c-a680-96cae5cdcd33",
   "metadata": {},
   "outputs": [
    {
     "data": {
      "text/plain": [
       "\n",
       "Call:\n",
       "lm(formula = Stars ~ ., data = training_subset)\n",
       "\n",
       "Residuals:\n",
       "    Min      1Q  Median      3Q     Max \n",
       "-399632    -509    -278     -59  316872 \n",
       "\n",
       "Coefficients:\n",
       "                      Estimate Std. Error t value Pr(>|t|)    \n",
       "(Intercept)          1.132e+03  9.574e+01  11.828  < 2e-16 ***\n",
       "Forks                1.657e+00  7.213e-03 229.672  < 2e-16 ***\n",
       "Issues               2.757e+00  4.555e-02  60.529  < 2e-16 ***\n",
       "Has.ProjectsTrue    -2.553e+02  3.283e+01  -7.777 7.47e-15 ***\n",
       "Has.DownloadsTrue   -2.439e+02  9.431e+01  -2.586 0.009714 ** \n",
       "Has.WikiTrue        -2.185e+02  2.786e+01  -7.843 4.44e-15 ***\n",
       "Has.PagesTrue        2.222e+02  2.366e+01   9.389  < 2e-16 ***\n",
       "Has.DiscussionsTrue  7.691e+02  2.768e+01  27.791  < 2e-16 ***\n",
       "Is.ArchivedTrue     -1.418e+02  3.659e+01  -3.877 0.000106 ***\n",
       "Is.TemplateTrue     -4.095e+02  1.140e+02  -3.591 0.000330 ***\n",
       "---\n",
       "Signif. codes:  0 ‘***’ 0.001 ‘**’ 0.01 ‘*’ 0.05 ‘.’ 0.1 ‘ ’ 1\n",
       "\n",
       "Residual standard error: 3221 on 129006 degrees of freedom\n",
       "Multiple R-squared:  0.3605,\tAdjusted R-squared:  0.3604 \n",
       "F-statistic:  8080 on 9 and 129006 DF,  p-value: < 2.2e-16\n"
      ]
     },
     "metadata": {},
     "output_type": "display_data"
    }
   ],
   "source": [
    "# I think using 9 variable to build our model is reasonable\n",
    "\n",
    "model = lm(Stars ~ ., data = training_subset)\n",
    "summary(model)"
   ]
  },
  {
   "cell_type": "code",
   "execution_count": 47,
   "id": "1b9df511-97c3-4242-b255-4cfe8e375f92",
   "metadata": {},
   "outputs": [],
   "source": [
    "#As we can see every p value is lower than the significant value, so all the predictors here has significantly impact on our response\n",
    "#now check the interaction term\n",
    "#model_interactive = lm(Stars ~ Forks * Issues * Has.Projects * Has.Downloads * Has.Wiki * Has.Pages * Has.Discussions * Is.Archived * Is.Template, data = training_subset)\n",
    "#summary(model_interactive)\n",
    "#this won't work, so we might ignore the inte"
   ]
  },
  {
   "cell_type": "markdown",
   "id": "56c22664-2a4b-4863-bc4a-5edc7b0bf54a",
   "metadata": {},
   "source": [
    "#### test on the test data"
   ]
  },
  {
   "cell_type": "code",
   "execution_count": 49,
   "id": "6435c240-ab97-4bd5-a78a-4a3a22068f45",
   "metadata": {},
   "outputs": [
    {
     "data": {
      "text/html": [
       "<table class=\"dataframe\">\n",
       "<caption>A tibble: 2 × 2</caption>\n",
       "<thead>\n",
       "\t<tr><th scope=col>Model</th><th scope=col>RMSE</th></tr>\n",
       "\t<tr><th scope=col>&lt;chr&gt;</th><th scope=col>&lt;dbl&gt;</th></tr>\n",
       "</thead>\n",
       "<tbody>\n",
       "\t<tr><td>OLS Full Regression   </td><td>3146.908</td></tr>\n",
       "\t<tr><td>OLS Reduced Regression</td><td>3146.949</td></tr>\n",
       "</tbody>\n",
       "</table>\n"
      ],
      "text/latex": [
       "A tibble: 2 × 2\n",
       "\\begin{tabular}{ll}\n",
       " Model & RMSE\\\\\n",
       " <chr> & <dbl>\\\\\n",
       "\\hline\n",
       "\t OLS Full Regression    & 3146.908\\\\\n",
       "\t OLS Reduced Regression & 3146.949\\\\\n",
       "\\end{tabular}\n"
      ],
      "text/markdown": [
       "\n",
       "A tibble: 2 × 2\n",
       "\n",
       "| Model &lt;chr&gt; | RMSE &lt;dbl&gt; |\n",
       "|---|---|\n",
       "| OLS Full Regression    | 3146.908 |\n",
       "| OLS Reduced Regression | 3146.949 |\n",
       "\n"
      ],
      "text/plain": [
       "  Model                  RMSE    \n",
       "1 OLS Full Regression    3146.908\n",
       "2 OLS Reduced Regression 3146.949"
      ]
     },
     "metadata": {},
     "output_type": "display_data"
    }
   ],
   "source": [
    "# reduced model\n",
    "rmse_red <- \n",
    "    testing_subset %>%\n",
    "    add_predictions(model, var = 'pred_reduced_reg') %>%\n",
    "    mutate(pred_red_error = Stars - pred_reduced_reg) %>%\n",
    "    summarize(RMSE = sqrt(mean(pred_red_error^2))) %>%\n",
    "    pull()      \n",
    "\n",
    "repo_RMSE_models_expanded <- \n",
    "    bind_rows(\n",
    "        repo_RMSE_models,\n",
    "        tibble(Model = \"OLS Reduced Regression\",\n",
    "               RMSE = rmse_red)\n",
    "    )\n",
    "\n",
    "repo_RMSE_models_expanded"
   ]
  },
  {
   "cell_type": "markdown",
   "id": "828d6bce-75b4-486f-afdc-c10e626fa7b1",
   "metadata": {},
   "source": [
    "## Discussion"
   ]
  },
  {
   "cell_type": "markdown",
   "id": "978e86f8-daad-4993-b1fe-51b998d60340",
   "metadata": {},
   "source": [
    "## References"
   ]
  }
 ],
 "metadata": {
  "kernelspec": {
   "display_name": "R",
   "language": "R",
   "name": "ir"
  },
  "language_info": {
   "codemirror_mode": "r",
   "file_extension": ".r",
   "mimetype": "text/x-r-source",
   "name": "R",
   "pygments_lexer": "r",
   "version": "4.3.3"
  }
 },
 "nbformat": 4,
 "nbformat_minor": 5
}
