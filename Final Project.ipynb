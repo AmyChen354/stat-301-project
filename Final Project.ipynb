{
 "cells": [
  {
   "cell_type": "markdown",
   "id": "93ed10dd-f9e8-4b83-973c-e6fca7041a77",
   "metadata": {},
   "source": [
    "## Exploring Key Factors Influencing GitHub Repository Popularity"
   ]
  },
  {
   "cell_type": "markdown",
   "id": "aa20ac63-d3fc-4b6e-bdae-d75e8d48a6a8",
   "metadata": {},
   "source": [
    "## Introduction"
   ]
  },
  {
   "cell_type": "markdown",
   "id": "5f116212-0d58-407c-adf2-d1c6683c0a3d",
   "metadata": {},
   "source": [
    "## Methods and Results"
   ]
  },
  {
   "cell_type": "markdown",
   "id": "828d6bce-75b4-486f-afdc-c10e626fa7b1",
   "metadata": {},
   "source": [
    "## Discussion"
   ]
  },
  {
   "cell_type": "markdown",
   "id": "978e86f8-daad-4993-b1fe-51b998d60340",
   "metadata": {},
   "source": [
    "## References"
   ]
  },
  {
   "cell_type": "code",
   "execution_count": null,
   "id": "7c76f666-e506-44b9-9b3a-70d90233ab49",
   "metadata": {},
   "outputs": [],
   "source": [
    "# test"
   ]
  }
 ],
 "metadata": {
  "kernelspec": {
   "display_name": "R",
   "language": "R",
   "name": "ir"
  },
  "language_info": {
   "codemirror_mode": "r",
   "file_extension": ".r",
   "mimetype": "text/x-r-source",
   "name": "R",
   "pygments_lexer": "r",
   "version": "4.3.3"
  }
 },
 "nbformat": 4,
 "nbformat_minor": 5
}
