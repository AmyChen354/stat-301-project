{
 "cells": [
  {
   "cell_type": "markdown",
   "id": "93ed10dd-f9e8-4b83-973c-e6fca7041a77",
   "metadata": {},
   "source": [
    "## Exploring Key Factors Influencing GitHub Repository Popularity"
   ]
  },
  {
   "cell_type": "markdown",
   "id": "7ab9d1b9-1be3-4492-97a8-f3920677207d",
   "metadata": {},
   "source": [
    "What factors significantly influence the popularity of a repository (i.e., the number of Stars)? Can we predict the number of Stars a repository receives using these factors?"
   ]
  },
  {
   "cell_type": "code",
   "execution_count": 2,
   "id": "f32768bd-b833-4617-a95c-dda7c2e8e719",
   "metadata": {},
   "outputs": [
    {
     "name": "stderr",
     "output_type": "stream",
     "text": [
      "── \u001b[1mAttaching core tidyverse packages\u001b[22m ──────────────────────── tidyverse 2.0.0 ──\n",
      "\u001b[32m✔\u001b[39m \u001b[34mdplyr    \u001b[39m 1.1.4     \u001b[32m✔\u001b[39m \u001b[34mpurrr    \u001b[39m 1.0.2\n",
      "\u001b[32m✔\u001b[39m \u001b[34mforcats  \u001b[39m 1.0.0     \u001b[32m✔\u001b[39m \u001b[34mstringr  \u001b[39m 1.5.1\n",
      "\u001b[32m✔\u001b[39m \u001b[34mggplot2  \u001b[39m 3.5.1     \u001b[32m✔\u001b[39m \u001b[34mtibble   \u001b[39m 3.2.1\n",
      "\u001b[32m✔\u001b[39m \u001b[34mlubridate\u001b[39m 1.9.3     \u001b[32m✔\u001b[39m \u001b[34mtidyr    \u001b[39m 1.3.1\n",
      "── \u001b[1mConflicts\u001b[22m ────────────────────────────────────────── tidyverse_conflicts() ──\n",
      "\u001b[31m✖\u001b[39m \u001b[34mdplyr\u001b[39m::\u001b[32mfilter()\u001b[39m masks \u001b[34mstats\u001b[39m::filter()\n",
      "\u001b[31m✖\u001b[39m \u001b[34mdplyr\u001b[39m::\u001b[32mlag()\u001b[39m    masks \u001b[34mstats\u001b[39m::lag()\n",
      "\u001b[36mℹ\u001b[39m Use the conflicted package (\u001b[3m\u001b[34m<http://conflicted.r-lib.org/>\u001b[39m\u001b[23m) to force all conflicts to become errors\n"
     ]
    }
   ],
   "source": [
    "#Load library\n",
    "library(readr)\n",
    "library(tidyverse)\n",
    "library(rsample)\n",
    "library(leaps)"
   ]
  },
  {
   "cell_type": "code",
   "execution_count": 27,
   "id": "1516064c-6078-4ac7-b013-8d898c5db30e",
   "metadata": {},
   "outputs": [
    {
     "name": "stderr",
     "output_type": "stream",
     "text": [
      "\u001b[1mRows: \u001b[22m\u001b[34m215029\u001b[39m \u001b[1mColumns: \u001b[22m\u001b[34m24\u001b[39m\n",
      "\u001b[36m──\u001b[39m \u001b[1mColumn specification\u001b[22m \u001b[36m────────────────────────────────────────────────────────\u001b[39m\n",
      "\u001b[1mDelimiter:\u001b[22m \",\"\n",
      "\u001b[31mchr\u001b[39m  (8): Name, Description, URL, Homepage, Language, License, Topics, Defau...\n",
      "\u001b[32mdbl\u001b[39m  (5): Size, Stars, Forks, Issues, Watchers\n",
      "\u001b[33mlgl\u001b[39m  (9): Has Issues, Has Projects, Has Downloads, Has Wiki, Has Pages, Has ...\n",
      "\u001b[34mdttm\u001b[39m (2): Created At, Updated At\n",
      "\n",
      "\u001b[36mℹ\u001b[39m Use `spec()` to retrieve the full column specification for this data.\n",
      "\u001b[36mℹ\u001b[39m Specify the column types or set `show_col_types = FALSE` to quiet this message.\n"
     ]
    }
   ],
   "source": [
    "#Load dataset\n",
    "repositories <- read_csv(\"repositories.csv\")"
   ]
  },
  {
   "cell_type": "markdown",
   "id": "aa20ac63-d3fc-4b6e-bdae-d75e8d48a6a8",
   "metadata": {},
   "source": [
    "## Introduction"
   ]
  },
  {
   "cell_type": "markdown",
   "id": "5f116212-0d58-407c-adf2-d1c6683c0a3d",
   "metadata": {},
   "source": [
    "## Methods and Results"
   ]
  },
  {
   "cell_type": "markdown",
   "id": "217c77ec-f1c8-4810-801e-00a15a2a6d00",
   "metadata": {},
   "source": [
    "- Clean the dataset\n",
    "- (prediction)split training&test\n",
    "- forward selection\n",
    "- fit the model\n",
    "- assumptions??\n",
    "- interpret their coefficients\n",
    "- (prediction) may be cross-valiation on the training set\n",
    "- (prediction) fit the model on the test set\n",
    "\n",
    "FEEL FREE TO EDIT!!"
   ]
  },
  {
   "cell_type": "code",
   "execution_count": 10,
   "id": "d001ab51-20f5-471e-b3b9-7cbd94375ed5",
   "metadata": {
    "scrolled": true
   },
   "outputs": [
    {
     "data": {
      "text/html": [
       "<style>\n",
       ".list-inline {list-style: none; margin:0; padding: 0}\n",
       ".list-inline>li {display: inline-block}\n",
       ".list-inline>li:not(:last-child)::after {content: \"\\00b7\"; padding: 0 .5ex}\n",
       "</style>\n",
       "<ol class=list-inline><li>'Name'</li><li>'Description'</li><li>'URL'</li><li>'Created At'</li><li>'Updated At'</li><li>'Homepage'</li><li>'Size'</li><li>'Stars'</li><li>'Forks'</li><li>'Issues'</li><li>'Watchers'</li><li>'Language'</li><li>'License'</li><li>'Topics'</li><li>'Has Issues'</li><li>'Has Projects'</li><li>'Has Downloads'</li><li>'Has Wiki'</li><li>'Has Pages'</li><li>'Has Discussions'</li><li>'Is Fork'</li><li>'Is Archived'</li><li>'Is Template'</li><li>'Default Branch'</li></ol>\n"
      ],
      "text/latex": [
       "\\begin{enumerate*}\n",
       "\\item 'Name'\n",
       "\\item 'Description'\n",
       "\\item 'URL'\n",
       "\\item 'Created At'\n",
       "\\item 'Updated At'\n",
       "\\item 'Homepage'\n",
       "\\item 'Size'\n",
       "\\item 'Stars'\n",
       "\\item 'Forks'\n",
       "\\item 'Issues'\n",
       "\\item 'Watchers'\n",
       "\\item 'Language'\n",
       "\\item 'License'\n",
       "\\item 'Topics'\n",
       "\\item 'Has Issues'\n",
       "\\item 'Has Projects'\n",
       "\\item 'Has Downloads'\n",
       "\\item 'Has Wiki'\n",
       "\\item 'Has Pages'\n",
       "\\item 'Has Discussions'\n",
       "\\item 'Is Fork'\n",
       "\\item 'Is Archived'\n",
       "\\item 'Is Template'\n",
       "\\item 'Default Branch'\n",
       "\\end{enumerate*}\n"
      ],
      "text/markdown": [
       "1. 'Name'\n",
       "2. 'Description'\n",
       "3. 'URL'\n",
       "4. 'Created At'\n",
       "5. 'Updated At'\n",
       "6. 'Homepage'\n",
       "7. 'Size'\n",
       "8. 'Stars'\n",
       "9. 'Forks'\n",
       "10. 'Issues'\n",
       "11. 'Watchers'\n",
       "12. 'Language'\n",
       "13. 'License'\n",
       "14. 'Topics'\n",
       "15. 'Has Issues'\n",
       "16. 'Has Projects'\n",
       "17. 'Has Downloads'\n",
       "18. 'Has Wiki'\n",
       "19. 'Has Pages'\n",
       "20. 'Has Discussions'\n",
       "21. 'Is Fork'\n",
       "22. 'Is Archived'\n",
       "23. 'Is Template'\n",
       "24. 'Default Branch'\n",
       "\n",
       "\n"
      ],
      "text/plain": [
       " [1] \"Name\"            \"Description\"     \"URL\"             \"Created At\"     \n",
       " [5] \"Updated At\"      \"Homepage\"        \"Size\"            \"Stars\"          \n",
       " [9] \"Forks\"           \"Issues\"          \"Watchers\"        \"Language\"       \n",
       "[13] \"License\"         \"Topics\"          \"Has Issues\"      \"Has Projects\"   \n",
       "[17] \"Has Downloads\"   \"Has Wiki\"        \"Has Pages\"       \"Has Discussions\"\n",
       "[21] \"Is Fork\"         \"Is Archived\"     \"Is Template\"     \"Default Branch\" "
      ]
     },
     "metadata": {},
     "output_type": "display_data"
    }
   ],
   "source": [
    "#Remove rows with missing values\n",
    "repo_tidy <- repositories %>%\n",
    "    drop_na()\n",
    "colnames(repo_tidy)"
   ]
  },
  {
   "cell_type": "code",
   "execution_count": 28,
   "id": "e5323456-6a71-4519-823a-83790b7d8974",
   "metadata": {},
   "outputs": [
    {
     "ename": "ERROR",
     "evalue": "\u001b[1m\u001b[33mError\u001b[39m in `mutate()`:\u001b[22m\n\u001b[1m\u001b[22m\u001b[36mℹ\u001b[39m In argument: `across(...)`.\n\u001b[1mCaused by error in `across()`:\u001b[22m\n\u001b[33m!\u001b[39m Can't select columns that don't exist.\n\u001b[31m✖\u001b[39m Column `Has.Issues` doesn't exist.\n",
     "output_type": "error",
     "traceback": [
      "\u001b[1m\u001b[33mError\u001b[39m in `mutate()`:\u001b[22m\n\u001b[1m\u001b[22m\u001b[36mℹ\u001b[39m In argument: `across(...)`.\n\u001b[1mCaused by error in `across()`:\u001b[22m\n\u001b[33m!\u001b[39m Can't select columns that don't exist.\n\u001b[31m✖\u001b[39m Column `Has.Issues` doesn't exist.\nTraceback:\n",
      "1. repositories %>% mutate(across(c(Has.Issues, Has.Projects, Has.Downloads, \n .     Has.Wiki, Has.Pages, Has.Discussions, Is.Archived, Is.Template), \n .     as.factor)) %>% select(Size, Stars, Forks, Issues, Has.Issues, \n .     Has.Projects, Has.Downloads, Has.Wiki, Has.Pages, Has.Discussions, \n .     Is.Archived, Is.Template)",
      "2. select(., Size, Stars, Forks, Issues, Has.Issues, Has.Projects, \n .     Has.Downloads, Has.Wiki, Has.Pages, Has.Discussions, Is.Archived, \n .     Is.Template)",
      "3. mutate(., across(c(Has.Issues, Has.Projects, Has.Downloads, Has.Wiki, \n .     Has.Pages, Has.Discussions, Is.Archived, Is.Template), as.factor))",
      "4. mutate.data.frame(., across(c(Has.Issues, Has.Projects, Has.Downloads, \n .     Has.Wiki, Has.Pages, Has.Discussions, Is.Archived, Is.Template), \n .     as.factor))",
      "5. mutate_cols(.data, dplyr_quosures(...), by)",
      "6. withCallingHandlers(for (i in seq_along(dots)) {\n .     poke_error_context(dots, i, mask = mask)\n .     context_poke(\"column\", old_current_column)\n .     new_columns <- mutate_col(dots[[i]], data, mask, new_columns)\n . }, error = dplyr_error_handler(dots = dots, mask = mask, bullets = mutate_bullets, \n .     error_call = error_call, error_class = \"dplyr:::mutate_error\"), \n .     warning = dplyr_warning_handler(state = warnings_state, mask = mask, \n .         error_call = error_call))",
      "7. mutate_col(dots[[i]], data, mask, new_columns)",
      "8. expand_across(dot)",
      "9. across_setup(!!cols, fns = fns, names = eval_tidy(expr$.names, \n .     mask, env = env), .caller_env = env, mask = dplyr_mask, error_call = error_call, \n .     across_if_fn = across_if_fn)",
      "10. tidyselect::eval_select(cols, data = data, error_call = error_call)",
      "11. eval_select_impl(data, names(data), as_quosure(expr, env), include = include, \n  .     exclude = exclude, strict = strict, name_spec = name_spec, \n  .     allow_rename = allow_rename, allow_empty = allow_empty, allow_predicates = allow_predicates, \n  .     error_call = error_call, )",
      "12. with_subscript_errors(out <- vars_select_eval(vars, expr, strict = strict, \n  .     data = x, name_spec = name_spec, uniquely_named = uniquely_named, \n  .     allow_rename = allow_rename, allow_empty = allow_empty, allow_predicates = allow_predicates, \n  .     type = type, error_call = error_call), type = type)",
      "13. withCallingHandlers(expr, vctrs_error_subscript = function(cnd) {\n  .     cnd$subscript_action <- subscript_action(type)\n  .     cnd$subscript_elt <- \"column\"\n  .     cnd_signal(cnd)\n  . })",
      "14. vars_select_eval(vars, expr, strict = strict, data = x, name_spec = name_spec, \n  .     uniquely_named = uniquely_named, allow_rename = allow_rename, \n  .     allow_empty = allow_empty, allow_predicates = allow_predicates, \n  .     type = type, error_call = error_call)",
      "15. walk_data_tree(expr, data_mask, context_mask)",
      "16. eval_c(expr, data_mask, context_mask)",
      "17. reduce_sels(node, data_mask, context_mask, init = init)",
      "18. walk_data_tree(new, data_mask, context_mask)",
      "19. as_indices_sel_impl(out, vars = vars, strict = strict, data = data, \n  .     allow_predicates = allow_predicates, call = error_call, arg = as_label(expr))",
      "20. as_indices_impl(x, vars, call = call, arg = arg, strict = strict)",
      "21. chr_as_locations(x, vars, call = call, arg = arg)",
      "22. vctrs::vec_as_location(x, n = length(vars), names = vars, call = call, \n  .     arg = arg)",
      "23. (function () \n  . stop_subscript_oob(i = i, subscript_type = subscript_type, names = names, \n  .     subscript_action = subscript_action, subscript_arg = subscript_arg, \n  .     call = call))()",
      "24. stop_subscript_oob(i = i, subscript_type = subscript_type, names = names, \n  .     subscript_action = subscript_action, subscript_arg = subscript_arg, \n  .     call = call)",
      "25. stop_subscript(class = \"vctrs_error_subscript_oob\", i = i, subscript_type = subscript_type, \n  .     ..., call = call)",
      "26. abort(class = c(class, \"vctrs_error_subscript\"), i = i, ..., \n  .     call = call)",
      "27. signal_abort(cnd, .file)",
      "28. signalCondition(cnd)",
      "29. (function (cnd) \n  . {\n  .     cnd$subscript_action <- subscript_action(type)\n  .     cnd$subscript_elt <- \"column\"\n  .     cnd_signal(cnd)\n  . })(structure(list(message = \"\", trace = structure(list(call = list(\n  .     IRkernel::main(), kernel$run(), handle_shell(), executor$execute(msg), \n  .     tryCatch(evaluate(request$content$code, envir = .GlobalEnv, \n  .         output_handler = oh, stop_on_error = 1L), interrupt = function(cond) {\n  .         log_debug(\"Interrupt during execution\")\n  .         interrupted <<- TRUE\n  .     }, error = .self$handle_error), tryCatchList(expr, classes, \n  .         parentenv, handlers), tryCatchOne(tryCatchList(expr, \n  .         names[-nh], parentenv, handlers[-nh]), names[nh], parentenv, \n  .         handlers[[nh]]), doTryCatch(return(expr), name, parentenv, \n  .         handler), tryCatchList(expr, names[-nh], parentenv, handlers[-nh]), \n  .     tryCatchOne(expr, names, parentenv, handlers[[1L]]), doTryCatch(return(expr), \n  .         name, parentenv, handler), evaluate(request$content$code, \n  .         envir = .GlobalEnv, output_handler = oh, stop_on_error = 1L), \n  .     evaluate_call(expr, parsed$src[[i]], envir = envir, enclos = enclos, \n  .         debug = debug, last = i == length(out), use_try = stop_on_error != \n  .             2L, keep_warning = keep_warning, keep_message = keep_message, \n  .         log_echo = log_echo, log_warning = log_warning, output_handler = output_handler, \n  .         include_timing = include_timing), timing_fn(handle(ev <- withCallingHandlers(withVisible(eval_with_user_handlers(expr, \n  .         envir, enclos, user_handlers)), warning = wHandler, error = eHandler, \n  .         message = mHandler))), handle(ev <- withCallingHandlers(withVisible(eval_with_user_handlers(expr, \n  .         envir, enclos, user_handlers)), warning = wHandler, error = eHandler, \n  .         message = mHandler)), try(f, silent = TRUE), tryCatch(expr, \n  .         error = function(e) {\n  .             call <- conditionCall(e)\n  .             if (!is.null(call)) {\n  .                 if (identical(call[[1L]], quote(doTryCatch))) \n  .                   call <- sys.call(-4L)\n  .                 dcall <- deparse(call, nlines = 1L)\n  .                 prefix <- paste(\"Error in\", dcall, \": \")\n  .                 LONG <- 75L\n  .                 sm <- strsplit(conditionMessage(e), \"\\n\")[[1L]]\n  .                 w <- 14L + nchar(dcall, type = \"w\") + nchar(sm[1L], \n  .                   type = \"w\")\n  .                 if (is.na(w)) \n  .                   w <- 14L + nchar(dcall, type = \"b\") + nchar(sm[1L], \n  .                     type = \"b\")\n  .                 if (w > LONG) \n  .                   prefix <- paste0(prefix, \"\\n  \")\n  .             }\n  .             else prefix <- \"Error : \"\n  .             msg <- paste0(prefix, conditionMessage(e), \"\\n\")\n  .             .Internal(seterrmessage(msg[1L]))\n  .             if (!silent && isTRUE(getOption(\"show.error.messages\"))) {\n  .                 cat(msg, file = outFile)\n  .                 .Internal(printDeferredWarnings())\n  .             }\n  .             invisible(structure(msg, class = \"try-error\", condition = e))\n  .         }), tryCatchList(expr, classes, parentenv, handlers), \n  .     tryCatchOne(expr, names, parentenv, handlers[[1L]]), doTryCatch(return(expr), \n  .         name, parentenv, handler), withCallingHandlers(withVisible(eval_with_user_handlers(expr, \n  .         envir, enclos, user_handlers)), warning = wHandler, error = eHandler, \n  .         message = mHandler), withVisible(eval_with_user_handlers(expr, \n  .         envir, enclos, user_handlers)), eval_with_user_handlers(expr, \n  .         envir, enclos, user_handlers), eval(expr, envir, enclos), \n  .     eval(expr, envir, enclos), repositories %>% mutate(across(c(Has.Issues, \n  .         Has.Projects, Has.Downloads, Has.Wiki, Has.Pages, Has.Discussions, \n  .         Is.Archived, Is.Template), as.factor)) %>% select(Size, \n  .         Stars, Forks, Issues, Has.Issues, Has.Projects, Has.Downloads, \n  .         Has.Wiki, Has.Pages, Has.Discussions, Is.Archived, Is.Template), \n  .     select(., Size, Stars, Forks, Issues, Has.Issues, Has.Projects, \n  .         Has.Downloads, Has.Wiki, Has.Pages, Has.Discussions, \n  .         Is.Archived, Is.Template), mutate(., across(c(Has.Issues, \n  .         Has.Projects, Has.Downloads, Has.Wiki, Has.Pages, Has.Discussions, \n  .         Is.Archived, Is.Template), as.factor)), mutate.data.frame(., \n  .         across(c(Has.Issues, Has.Projects, Has.Downloads, Has.Wiki, \n  .             Has.Pages, Has.Discussions, Is.Archived, Is.Template), \n  .             as.factor)), mutate_cols(.data, dplyr_quosures(...), \n  .         by), withCallingHandlers(for (i in seq_along(dots)) {\n  .         poke_error_context(dots, i, mask = mask)\n  .         context_poke(\"column\", old_current_column)\n  .         new_columns <- mutate_col(dots[[i]], data, mask, new_columns)\n  .     }, error = dplyr_error_handler(dots = dots, mask = mask, \n  .         bullets = mutate_bullets, error_call = error_call, error_class = \"dplyr:::mutate_error\"), \n  .         warning = dplyr_warning_handler(state = warnings_state, \n  .             mask = mask, error_call = error_call)), mutate_col(dots[[i]], \n  .         data, mask, new_columns), expand_across(dot), across_setup(!!cols, \n  .         fns = fns, names = eval_tidy(expr$.names, mask, env = env), \n  .         .caller_env = env, mask = dplyr_mask, error_call = error_call, \n  .         across_if_fn = across_if_fn), tidyselect::eval_select(cols, \n  .         data = data, error_call = error_call), eval_select_impl(data, \n  .         names(data), as_quosure(expr, env), include = include, \n  .         exclude = exclude, strict = strict, name_spec = name_spec, \n  .         allow_rename = allow_rename, allow_empty = allow_empty, \n  .         allow_predicates = allow_predicates, error_call = error_call, \n  .         ), with_subscript_errors(out <- vars_select_eval(vars, \n  .         expr, strict = strict, data = x, name_spec = name_spec, \n  .         uniquely_named = uniquely_named, allow_rename = allow_rename, \n  .         allow_empty = allow_empty, allow_predicates = allow_predicates, \n  .         type = type, error_call = error_call), type = type), \n  .     withCallingHandlers(expr, vctrs_error_subscript = function(cnd) {\n  .         cnd$subscript_action <- subscript_action(type)\n  .         cnd$subscript_elt <- \"column\"\n  .         cnd_signal(cnd)\n  .     }), vars_select_eval(vars, expr, strict = strict, data = x, \n  .         name_spec = name_spec, uniquely_named = uniquely_named, \n  .         allow_rename = allow_rename, allow_empty = allow_empty, \n  .         allow_predicates = allow_predicates, type = type, error_call = error_call), \n  .     walk_data_tree(expr, data_mask, context_mask), eval_c(expr, \n  .         data_mask, context_mask), reduce_sels(node, data_mask, \n  .         context_mask, init = init), walk_data_tree(new, data_mask, \n  .         context_mask), as_indices_sel_impl(out, vars = vars, \n  .         strict = strict, data = data, allow_predicates = allow_predicates, \n  .         call = error_call, arg = as_label(expr)), as_indices_impl(x, \n  .         vars, call = call, arg = arg, strict = strict), chr_as_locations(x, \n  .         vars, call = call, arg = arg), vctrs::vec_as_location(x, \n  .         n = length(vars), names = vars, call = call, arg = arg), \n  .     `<fn>`(), stop_subscript_oob(i = i, subscript_type = subscript_type, \n  .         names = names, subscript_action = subscript_action, subscript_arg = subscript_arg, \n  .         call = call), stop_subscript(class = \"vctrs_error_subscript_oob\", \n  .         i = i, subscript_type = subscript_type, ..., call = call), \n  .     abort(class = c(class, \"vctrs_error_subscript\"), i = i, ..., \n  .         call = call)), parent = c(0L, 1L, 2L, 3L, 4L, 5L, 6L, \n  . 7L, 6L, 9L, 10L, 4L, 12L, 13L, 13L, 15L, 16L, 17L, 18L, 19L, \n  . 13L, 13L, 13L, 23L, 24L, 0L, 0L, 0L, 0L, 29L, 30L, 30L, 32L, \n  . 33L, 34L, 35L, 36L, 37L, 36L, 39L, 40L, 41L, 42L, 43L, 44L, 45L, \n  . 46L, 0L, 48L, 49L, 50L), visible = c(TRUE, TRUE, TRUE, TRUE, \n  . TRUE, TRUE, TRUE, TRUE, TRUE, TRUE, TRUE, TRUE, TRUE, TRUE, TRUE, \n  . TRUE, TRUE, TRUE, TRUE, TRUE, TRUE, TRUE, TRUE, TRUE, TRUE, TRUE, \n  . TRUE, TRUE, TRUE, TRUE, TRUE, TRUE, TRUE, FALSE, FALSE, FALSE, \n  . FALSE, FALSE, FALSE, FALSE, FALSE, FALSE, FALSE, FALSE, FALSE, \n  . FALSE, FALSE, FALSE, FALSE, FALSE, FALSE), namespace = c(\"IRkernel\", \n  . NA, \"IRkernel\", NA, \"base\", \"base\", \"base\", \"base\", \"base\", \"base\", \n  . \"base\", \"evaluate\", \"evaluate\", \"evaluate\", \"evaluate\", \"base\", \n  . \"base\", \"base\", \"base\", \"base\", \"base\", \"base\", \"evaluate\", \"base\", \n  . \"base\", NA, \"dplyr\", \"dplyr\", \"dplyr\", \"dplyr\", \"base\", \"dplyr\", \n  . \"dplyr\", \"dplyr\", \"tidyselect\", \"tidyselect\", \"tidyselect\", \"base\", \n  . \"tidyselect\", \"tidyselect\", \"tidyselect\", \"tidyselect\", \"tidyselect\", \n  . \"tidyselect\", \"tidyselect\", \"tidyselect\", \"vctrs\", \"vctrs\", \"vctrs\", \n  . \"vctrs\", \"rlang\"), scope = c(\"::\", NA, \"local\", NA, \"::\", \"local\", \n  . \"local\", \"local\", \"local\", \"local\", \"local\", \"::\", \":::\", \"local\", \n  . \"local\", \"::\", \"::\", \"local\", \"local\", \"local\", \"::\", \"::\", \":::\", \n  . \"::\", \"::\", NA, \"::\", \"::\", \":::\", \":::\", \"::\", \":::\", \":::\", \n  . \":::\", \"::\", \":::\", \":::\", \"::\", \":::\", \":::\", \":::\", \":::\", \n  . \":::\", \":::\", \":::\", \":::\", \"::\", \"local\", \":::\", \":::\", \"::\"\n  . ), error_frame = c(FALSE, FALSE, FALSE, FALSE, FALSE, FALSE, \n  . FALSE, FALSE, FALSE, FALSE, FALSE, FALSE, FALSE, FALSE, FALSE, \n  . FALSE, FALSE, FALSE, FALSE, FALSE, FALSE, FALSE, FALSE, FALSE, \n  . FALSE, FALSE, FALSE, FALSE, FALSE, FALSE, FALSE, FALSE, TRUE, \n  . FALSE, FALSE, FALSE, FALSE, FALSE, FALSE, FALSE, FALSE, FALSE, \n  . FALSE, FALSE, FALSE, FALSE, FALSE, FALSE, FALSE, FALSE, FALSE\n  . )), row.names = c(NA, -51L), version = 2L, class = c(\"rlang_trace\", \n  . \"rlib_trace\", \"tbl\", \"data.frame\")), parent = NULL, i = \"Has.Issues\", \n  .     subscript_type = \"character\", names = c(\"Name\", \"Description\", \n  .     \"URL\", \"Created At\", \"Updated At\", \"Homepage\", \"Size\", \"Stars\", \n  .     \"Forks\", \"Issues\", \"Watchers\", \"Language\", \"License\", \"Topics\", \n  .     \"Has Issues\", \"Has Projects\", \"Has Downloads\", \"Has Wiki\", \n  .     \"Has Pages\", \"Has Discussions\", \"Is Fork\", \"Is Archived\", \n  .     \"Is Template\", \"Default Branch\"), subscript_action = NULL, \n  .     subscript_arg = \"Has.Issues\", rlang = list(inherit = TRUE), \n  .     call = across()), class = c(\"vctrs_error_subscript_oob\", \n  . \"vctrs_error_subscript\", \"rlang_error\", \"error\", \"condition\")))",
      "30. cnd_signal(cnd)",
      "31. signal_abort(cnd)",
      "32. signalCondition(cnd)",
      "33. (function (cnd) \n  . {\n  .     local_error_context(dots, i = frame[[i_sym]], mask = mask)\n  .     if (inherits(cnd, \"dplyr:::internal_error\")) {\n  .         parent <- error_cnd(message = bullets(cnd))\n  .     }\n  .     else {\n  .         parent <- cnd\n  .     }\n  .     message <- c(cnd_bullet_header(action), i = if (has_active_group_context(mask)) cnd_bullet_cur_group_label())\n  .     abort(message, class = error_class, parent = parent, call = error_call)\n  . })(structure(list(message = \"\", trace = structure(list(call = list(\n  .     IRkernel::main(), kernel$run(), handle_shell(), executor$execute(msg), \n  .     tryCatch(evaluate(request$content$code, envir = .GlobalEnv, \n  .         output_handler = oh, stop_on_error = 1L), interrupt = function(cond) {\n  .         log_debug(\"Interrupt during execution\")\n  .         interrupted <<- TRUE\n  .     }, error = .self$handle_error), tryCatchList(expr, classes, \n  .         parentenv, handlers), tryCatchOne(tryCatchList(expr, \n  .         names[-nh], parentenv, handlers[-nh]), names[nh], parentenv, \n  .         handlers[[nh]]), doTryCatch(return(expr), name, parentenv, \n  .         handler), tryCatchList(expr, names[-nh], parentenv, handlers[-nh]), \n  .     tryCatchOne(expr, names, parentenv, handlers[[1L]]), doTryCatch(return(expr), \n  .         name, parentenv, handler), evaluate(request$content$code, \n  .         envir = .GlobalEnv, output_handler = oh, stop_on_error = 1L), \n  .     evaluate_call(expr, parsed$src[[i]], envir = envir, enclos = enclos, \n  .         debug = debug, last = i == length(out), use_try = stop_on_error != \n  .             2L, keep_warning = keep_warning, keep_message = keep_message, \n  .         log_echo = log_echo, log_warning = log_warning, output_handler = output_handler, \n  .         include_timing = include_timing), timing_fn(handle(ev <- withCallingHandlers(withVisible(eval_with_user_handlers(expr, \n  .         envir, enclos, user_handlers)), warning = wHandler, error = eHandler, \n  .         message = mHandler))), handle(ev <- withCallingHandlers(withVisible(eval_with_user_handlers(expr, \n  .         envir, enclos, user_handlers)), warning = wHandler, error = eHandler, \n  .         message = mHandler)), try(f, silent = TRUE), tryCatch(expr, \n  .         error = function(e) {\n  .             call <- conditionCall(e)\n  .             if (!is.null(call)) {\n  .                 if (identical(call[[1L]], quote(doTryCatch))) \n  .                   call <- sys.call(-4L)\n  .                 dcall <- deparse(call, nlines = 1L)\n  .                 prefix <- paste(\"Error in\", dcall, \": \")\n  .                 LONG <- 75L\n  .                 sm <- strsplit(conditionMessage(e), \"\\n\")[[1L]]\n  .                 w <- 14L + nchar(dcall, type = \"w\") + nchar(sm[1L], \n  .                   type = \"w\")\n  .                 if (is.na(w)) \n  .                   w <- 14L + nchar(dcall, type = \"b\") + nchar(sm[1L], \n  .                     type = \"b\")\n  .                 if (w > LONG) \n  .                   prefix <- paste0(prefix, \"\\n  \")\n  .             }\n  .             else prefix <- \"Error : \"\n  .             msg <- paste0(prefix, conditionMessage(e), \"\\n\")\n  .             .Internal(seterrmessage(msg[1L]))\n  .             if (!silent && isTRUE(getOption(\"show.error.messages\"))) {\n  .                 cat(msg, file = outFile)\n  .                 .Internal(printDeferredWarnings())\n  .             }\n  .             invisible(structure(msg, class = \"try-error\", condition = e))\n  .         }), tryCatchList(expr, classes, parentenv, handlers), \n  .     tryCatchOne(expr, names, parentenv, handlers[[1L]]), doTryCatch(return(expr), \n  .         name, parentenv, handler), withCallingHandlers(withVisible(eval_with_user_handlers(expr, \n  .         envir, enclos, user_handlers)), warning = wHandler, error = eHandler, \n  .         message = mHandler), withVisible(eval_with_user_handlers(expr, \n  .         envir, enclos, user_handlers)), eval_with_user_handlers(expr, \n  .         envir, enclos, user_handlers), eval(expr, envir, enclos), \n  .     eval(expr, envir, enclos), repositories %>% mutate(across(c(Has.Issues, \n  .         Has.Projects, Has.Downloads, Has.Wiki, Has.Pages, Has.Discussions, \n  .         Is.Archived, Is.Template), as.factor)) %>% select(Size, \n  .         Stars, Forks, Issues, Has.Issues, Has.Projects, Has.Downloads, \n  .         Has.Wiki, Has.Pages, Has.Discussions, Is.Archived, Is.Template), \n  .     select(., Size, Stars, Forks, Issues, Has.Issues, Has.Projects, \n  .         Has.Downloads, Has.Wiki, Has.Pages, Has.Discussions, \n  .         Is.Archived, Is.Template), mutate(., across(c(Has.Issues, \n  .         Has.Projects, Has.Downloads, Has.Wiki, Has.Pages, Has.Discussions, \n  .         Is.Archived, Is.Template), as.factor)), mutate.data.frame(., \n  .         across(c(Has.Issues, Has.Projects, Has.Downloads, Has.Wiki, \n  .             Has.Pages, Has.Discussions, Is.Archived, Is.Template), \n  .             as.factor)), mutate_cols(.data, dplyr_quosures(...), \n  .         by), withCallingHandlers(for (i in seq_along(dots)) {\n  .         poke_error_context(dots, i, mask = mask)\n  .         context_poke(\"column\", old_current_column)\n  .         new_columns <- mutate_col(dots[[i]], data, mask, new_columns)\n  .     }, error = dplyr_error_handler(dots = dots, mask = mask, \n  .         bullets = mutate_bullets, error_call = error_call, error_class = \"dplyr:::mutate_error\"), \n  .         warning = dplyr_warning_handler(state = warnings_state, \n  .             mask = mask, error_call = error_call)), mutate_col(dots[[i]], \n  .         data, mask, new_columns), expand_across(dot), across_setup(!!cols, \n  .         fns = fns, names = eval_tidy(expr$.names, mask, env = env), \n  .         .caller_env = env, mask = dplyr_mask, error_call = error_call, \n  .         across_if_fn = across_if_fn), tidyselect::eval_select(cols, \n  .         data = data, error_call = error_call), eval_select_impl(data, \n  .         names(data), as_quosure(expr, env), include = include, \n  .         exclude = exclude, strict = strict, name_spec = name_spec, \n  .         allow_rename = allow_rename, allow_empty = allow_empty, \n  .         allow_predicates = allow_predicates, error_call = error_call, \n  .         ), with_subscript_errors(out <- vars_select_eval(vars, \n  .         expr, strict = strict, data = x, name_spec = name_spec, \n  .         uniquely_named = uniquely_named, allow_rename = allow_rename, \n  .         allow_empty = allow_empty, allow_predicates = allow_predicates, \n  .         type = type, error_call = error_call), type = type), \n  .     withCallingHandlers(expr, vctrs_error_subscript = function(cnd) {\n  .         cnd$subscript_action <- subscript_action(type)\n  .         cnd$subscript_elt <- \"column\"\n  .         cnd_signal(cnd)\n  .     }), vars_select_eval(vars, expr, strict = strict, data = x, \n  .         name_spec = name_spec, uniquely_named = uniquely_named, \n  .         allow_rename = allow_rename, allow_empty = allow_empty, \n  .         allow_predicates = allow_predicates, type = type, error_call = error_call), \n  .     walk_data_tree(expr, data_mask, context_mask), eval_c(expr, \n  .         data_mask, context_mask), reduce_sels(node, data_mask, \n  .         context_mask, init = init), walk_data_tree(new, data_mask, \n  .         context_mask), as_indices_sel_impl(out, vars = vars, \n  .         strict = strict, data = data, allow_predicates = allow_predicates, \n  .         call = error_call, arg = as_label(expr)), as_indices_impl(x, \n  .         vars, call = call, arg = arg, strict = strict), chr_as_locations(x, \n  .         vars, call = call, arg = arg), vctrs::vec_as_location(x, \n  .         n = length(vars), names = vars, call = call, arg = arg), \n  .     `<fn>`(), stop_subscript_oob(i = i, subscript_type = subscript_type, \n  .         names = names, subscript_action = subscript_action, subscript_arg = subscript_arg, \n  .         call = call), stop_subscript(class = \"vctrs_error_subscript_oob\", \n  .         i = i, subscript_type = subscript_type, ..., call = call), \n  .     abort(class = c(class, \"vctrs_error_subscript\"), i = i, ..., \n  .         call = call)), parent = c(0L, 1L, 2L, 3L, 4L, 5L, 6L, \n  . 7L, 6L, 9L, 10L, 4L, 12L, 13L, 13L, 15L, 16L, 17L, 18L, 19L, \n  . 13L, 13L, 13L, 23L, 24L, 0L, 0L, 0L, 0L, 29L, 30L, 30L, 32L, \n  . 33L, 34L, 35L, 36L, 37L, 36L, 39L, 40L, 41L, 42L, 43L, 44L, 45L, \n  . 46L, 0L, 48L, 49L, 50L), visible = c(TRUE, TRUE, TRUE, TRUE, \n  . TRUE, TRUE, TRUE, TRUE, TRUE, TRUE, TRUE, TRUE, TRUE, TRUE, TRUE, \n  . TRUE, TRUE, TRUE, TRUE, TRUE, TRUE, TRUE, TRUE, TRUE, TRUE, TRUE, \n  . TRUE, TRUE, TRUE, TRUE, TRUE, TRUE, TRUE, FALSE, FALSE, FALSE, \n  . FALSE, FALSE, FALSE, FALSE, FALSE, FALSE, FALSE, FALSE, FALSE, \n  . FALSE, FALSE, FALSE, FALSE, FALSE, FALSE), namespace = c(\"IRkernel\", \n  . NA, \"IRkernel\", NA, \"base\", \"base\", \"base\", \"base\", \"base\", \"base\", \n  . \"base\", \"evaluate\", \"evaluate\", \"evaluate\", \"evaluate\", \"base\", \n  . \"base\", \"base\", \"base\", \"base\", \"base\", \"base\", \"evaluate\", \"base\", \n  . \"base\", NA, \"dplyr\", \"dplyr\", \"dplyr\", \"dplyr\", \"base\", \"dplyr\", \n  . \"dplyr\", \"dplyr\", \"tidyselect\", \"tidyselect\", \"tidyselect\", \"base\", \n  . \"tidyselect\", \"tidyselect\", \"tidyselect\", \"tidyselect\", \"tidyselect\", \n  . \"tidyselect\", \"tidyselect\", \"tidyselect\", \"vctrs\", \"vctrs\", \"vctrs\", \n  . \"vctrs\", \"rlang\"), scope = c(\"::\", NA, \"local\", NA, \"::\", \"local\", \n  . \"local\", \"local\", \"local\", \"local\", \"local\", \"::\", \":::\", \"local\", \n  . \"local\", \"::\", \"::\", \"local\", \"local\", \"local\", \"::\", \"::\", \":::\", \n  . \"::\", \"::\", NA, \"::\", \"::\", \":::\", \":::\", \"::\", \":::\", \":::\", \n  . \":::\", \"::\", \":::\", \":::\", \"::\", \":::\", \":::\", \":::\", \":::\", \n  . \":::\", \":::\", \":::\", \":::\", \"::\", \"local\", \":::\", \":::\", \"::\"\n  . ), error_frame = c(FALSE, FALSE, FALSE, FALSE, FALSE, FALSE, \n  . FALSE, FALSE, FALSE, FALSE, FALSE, FALSE, FALSE, FALSE, FALSE, \n  . FALSE, FALSE, FALSE, FALSE, FALSE, FALSE, FALSE, FALSE, FALSE, \n  . FALSE, FALSE, FALSE, FALSE, FALSE, FALSE, FALSE, FALSE, TRUE, \n  . FALSE, FALSE, FALSE, FALSE, FALSE, FALSE, FALSE, FALSE, FALSE, \n  . FALSE, FALSE, FALSE, FALSE, FALSE, FALSE, FALSE, FALSE, FALSE\n  . )), row.names = c(NA, -51L), version = 2L, class = c(\"rlang_trace\", \n  . \"rlib_trace\", \"tbl\", \"data.frame\")), parent = NULL, i = \"Has.Issues\", \n  .     subscript_type = \"character\", names = c(\"Name\", \"Description\", \n  .     \"URL\", \"Created At\", \"Updated At\", \"Homepage\", \"Size\", \"Stars\", \n  .     \"Forks\", \"Issues\", \"Watchers\", \"Language\", \"License\", \"Topics\", \n  .     \"Has Issues\", \"Has Projects\", \"Has Downloads\", \"Has Wiki\", \n  .     \"Has Pages\", \"Has Discussions\", \"Is Fork\", \"Is Archived\", \n  .     \"Is Template\", \"Default Branch\"), subscript_action = \"select\", \n  .     subscript_arg = \"Has.Issues\", rlang = list(inherit = TRUE), \n  .     call = across(), subscript_elt = \"column\"), class = c(\"vctrs_error_subscript_oob\", \n  . \"vctrs_error_subscript\", \"rlang_error\", \"error\", \"condition\")))",
      "34. abort(message, class = error_class, parent = parent, call = error_call)",
      "35. signal_abort(cnd, .file)"
     ]
    }
   ],
   "source": [
    "# !!! here is my code for data wrangling where i also change the binary variables into `factor` type, \n",
    "# and i remove some of the input variables\n",
    "\n",
    "# i have not run this code so feel free to share your wrangling method and code\n",
    "# or rewrite this part especially for the preliminary variable selection part!!\n",
    "data_repo_clean <- repositories %>%\n",
    "  mutate(across(c(Has.Issues, Has.Projects, Has.Downloads, Has.Wiki, Has.Pages, \n",
    "                  Has.Discussions, Is.Archived, Is.Template), as.factor)) %>%\n",
    "  select(Size, Stars, Forks, Issues, Has.Issues, Has.Projects, Has.Downloads, Has.Wiki, Has.Pages, Has.Discussions, Is.Archived, Is.Template)"
   ]
  },
  {
   "cell_type": "code",
   "execution_count": 8,
   "id": "637e60f4-5eda-4b86-92b5-ce6e3403ed26",
   "metadata": {},
   "outputs": [],
   "source": [
    "#Split the dataset in 0.6\n",
    "set.seed(123)\n",
    "\n",
    "repo_split <- \n",
    "    repo_tidy %>%\n",
    "    initial_split(prop = 0.6, strata = Stars)\n",
    "\n",
    "training_repo <- training(repo_split)\n",
    "testing_repo <- testing(repo_split)"
   ]
  },
  {
   "cell_type": "code",
   "execution_count": null,
   "id": "880ff5aa-323a-4f24-85a0-26fddc10c5f8",
   "metadata": {},
   "outputs": [],
   "source": [
    "# head(training_repo)\n",
    "repo_forward_sel <- regsubsets(\n",
    "  x=Stars ~ ., \n",
    "  data=training_repo,\n",
    "  method=\"backward\",\n",
    ")\n",
    "summary()"
   ]
  },
  {
   "cell_type": "markdown",
   "id": "828d6bce-75b4-486f-afdc-c10e626fa7b1",
   "metadata": {},
   "source": [
    "## Discussion"
   ]
  },
  {
   "cell_type": "markdown",
   "id": "978e86f8-daad-4993-b1fe-51b998d60340",
   "metadata": {},
   "source": [
    "## References"
   ]
  },
  {
   "cell_type": "code",
   "execution_count": null,
   "id": "7c76f666-e506-44b9-9b3a-70d90233ab49",
   "metadata": {},
   "outputs": [],
   "source": [
    "# test"
   ]
  }
 ],
 "metadata": {
  "kernelspec": {
   "display_name": "R",
   "language": "R",
   "name": "ir"
  },
  "language_info": {
   "codemirror_mode": "r",
   "file_extension": ".r",
   "mimetype": "text/x-r-source",
   "name": "R",
   "pygments_lexer": "r",
   "version": "4.3.3"
  }
 },
 "nbformat": 4,
 "nbformat_minor": 5
}
