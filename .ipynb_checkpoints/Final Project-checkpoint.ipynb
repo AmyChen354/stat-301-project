{
 "cells": [
  {
   "cell_type": "code",
   "execution_count": null,
   "id": "8e8a69c6-dbf9-4517-847a-c9a34be560c5",
   "metadata": {},
   "outputs": [],
   "source": [
    "# test"
   ]
  }
 ],
 "metadata": {
  "kernelspec": {
   "display_name": "R",
   "language": "R",
   "name": "ir"
  },
  "language_info": {
   "codemirror_mode": "r",
   "file_extension": ".r",
   "mimetype": "text/x-r-source",
   "name": "R",
   "pygments_lexer": "r",
   "version": "4.3.3"
  }
 },
 "nbformat": 4,
 "nbformat_minor": 5
}
